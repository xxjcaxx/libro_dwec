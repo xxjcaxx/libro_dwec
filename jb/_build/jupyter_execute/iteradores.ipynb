{
 "cells": [
  {
   "cell_type": "markdown",
   "id": "bf80fa84",
   "metadata": {},
   "source": [
    "# Iteradores\n",
    "\n",
    "## Iterables en JavaScript\n",
    "\n",
    "En JavaScript, los iterables son estructuras de datos que permiten iterar sobre sus elementos de manera secuencial. Los iterables más comunes son: `Array`, `Set`, `Map` y `String`. Los objetos normales no son iterables por defecto. Para que un objeto sea iterable, debe tener una propiedad `Symbol.iterator` que devuelva un iterador.\n",
    "\n",
    "### Propiedad `Symbol.iterator`\n",
    "\n",
    "La propiedad `Symbol.iterator` es una función que retorna un objeto con el método `next()`. Este método devuelve un objeto con dos propiedades: `value` y `done`. `value` contiene el siguiente valor en la secuencia y `done` indica si la iteración ha terminado."
   ]
  },
  {
   "cell_type": "code",
   "execution_count": 1,
   "id": "a5e7302d",
   "metadata": {},
   "outputs": [
    {
     "name": "stdout",
     "output_type": "stream",
     "text": [
      "{ value: \u001b[32m\"H\"\u001b[39m, done: \u001b[33mfalse\u001b[39m }\n"
     ]
    },
    {
     "name": "stdout",
     "output_type": "stream",
     "text": [
      "{ value: \u001b[32m\"e\"\u001b[39m, done: \u001b[33mfalse\u001b[39m }\n"
     ]
    },
    {
     "name": "stdout",
     "output_type": "stream",
     "text": [
      "{ value: \u001b[32m\"l\"\u001b[39m, done: \u001b[33mfalse\u001b[39m }\n"
     ]
    }
   ],
   "source": [
    "let someString = \"Hello\";\n",
    "let iterator = someString[Symbol.iterator]();\n",
    "\n",
    "console.log(iterator.next()); // { value: 'H', done: false }\n",
    "console.log(iterator.next()); // { value: 'e', done: false }\n",
    "console.log(iterator.next()); // { value: 'l', done: false }"
   ]
  },
  {
   "cell_type": "markdown",
   "id": "c5f9be70",
   "metadata": {},
   "source": [
    "### Función generadora\n",
    "\n",
    "Una función generadora puede ser usada para crear iterables. Una función generadora se define con la sintaxis `function*`."
   ]
  },
  {
   "cell_type": "code",
   "execution_count": 2,
   "id": "6882c94f",
   "metadata": {},
   "outputs": [
    {
     "name": "stdout",
     "output_type": "stream",
     "text": [
      "[ \u001b[33m1\u001b[39m, \u001b[33m2\u001b[39m, \u001b[33m3\u001b[39m ]\n"
     ]
    }
   ],
   "source": [
    "let myIterable = {};\n",
    "myIterable[Symbol.iterator] = function* () {\n",
    "   yield 1;\n",
    "   yield 2;\n",
    "   yield 3;\n",
    "};\n",
    "console.log([...myIterable]); // [1, 2, 3]"
   ]
  },
  {
   "cell_type": "markdown",
   "id": "e9048b76",
   "metadata": {},
   "source": [
    "## Recorrer iterables\n",
    "\n",
    "Hay muchas maneras de recorrer un iterable. También hay muchos tipos de iterables y algunos tienen sus própias maneras de ser recorridos. En todo caso, un iterable debería poder convertirse en un Array y poderse recorrer de la manera estandar. \n",
    "\n",
    "> El método `querySelector` retorna un `NodeList`, que es un objeto que contiene un método `forEach`. Este es un ejemplo de iterable que no es un Array. En este caso el forEach no es el mismo que el de los Arrays y puede inducir a confusión. \n",
    "\n",
    "Algunos ejemplos:"
   ]
  },
  {
   "cell_type": "code",
   "execution_count": 3,
   "id": "0b8e3383",
   "metadata": {},
   "outputs": [
    {
     "name": "stdout",
     "output_type": "stream",
     "text": [
      "\u001b[33m1\u001b[39m\n"
     ]
    },
    {
     "name": "stdout",
     "output_type": "stream",
     "text": [
      "\u001b[33m2\u001b[39m\n"
     ]
    },
    {
     "name": "stdout",
     "output_type": "stream",
     "text": [
      "\u001b[33m3\u001b[39m\n"
     ]
    },
    {
     "name": "stdout",
     "output_type": "stream",
     "text": [
      "\u001b[33m4\u001b[39m\n"
     ]
    },
    {
     "name": "stdout",
     "output_type": "stream",
     "text": [
      "\u001b[33m5\u001b[39m\n"
     ]
    },
    {
     "name": "stdout",
     "output_type": "stream",
     "text": [
      "[ \u001b[33m1\u001b[39m, \u001b[33m4\u001b[39m, \u001b[33m9\u001b[39m, \u001b[33m16\u001b[39m, \u001b[33m25\u001b[39m ]\n"
     ]
    },
    {
     "name": "stdout",
     "output_type": "stream",
     "text": [
      "[ \u001b[33m2\u001b[39m, \u001b[33m4\u001b[39m ]\n"
     ]
    },
    {
     "name": "stdout",
     "output_type": "stream",
     "text": [
      "\u001b[33m0\u001b[39m \u001b[33m1\u001b[39m\n"
     ]
    },
    {
     "name": "stdout",
     "output_type": "stream",
     "text": [
      "\u001b[33m1\u001b[39m \u001b[33m2\u001b[39m\n"
     ]
    },
    {
     "name": "stdout",
     "output_type": "stream",
     "text": [
      "\u001b[33m3\u001b[39m \u001b[33m3\u001b[39m\n"
     ]
    },
    {
     "name": "stdout",
     "output_type": "stream",
     "text": [
      "\u001b[33m6\u001b[39m \u001b[33m4\u001b[39m\n"
     ]
    },
    {
     "name": "stdout",
     "output_type": "stream",
     "text": [
      "\u001b[33m10\u001b[39m \u001b[33m5\u001b[39m\n"
     ]
    },
    {
     "name": "stdout",
     "output_type": "stream",
     "text": [
      "\u001b[33m15\u001b[39m\n"
     ]
    },
    {
     "name": "stdout",
     "output_type": "stream",
     "text": [
      "\u001b[33m11\u001b[39m\n"
     ]
    },
    {
     "name": "stdout",
     "output_type": "stream",
     "text": [
      "\u001b[33m21\u001b[39m\n"
     ]
    },
    {
     "name": "stdout",
     "output_type": "stream",
     "text": [
      "\u001b[33m31\u001b[39m\n"
     ]
    },
    {
     "name": "stdout",
     "output_type": "stream",
     "text": [
      "[ \u001b[32m\"head\"\u001b[39m, \u001b[32m\"shoulder\"\u001b[39m, \u001b[32m\"knees\"\u001b[39m, \u001b[32m\"and\"\u001b[39m, \u001b[32m\"toes\"\u001b[39m ]\n"
     ]
    }
   ],
   "source": [
    "let a = [1, 2, 3, 4, 5];\n",
    "a.forEach(element => { console.log(element); }); // 1, 2, 3, 4, 5\n",
    "\n",
    "let b = a.map(function(item) { return item ** 2; });\n",
    "console.log(b); // [1, 4, 9, 16, 25]\n",
    "\n",
    "console.log(a.filter(function(item) { return item % 2 == 0; })); // [2, 4]\n",
    "\n",
    "let total = a.reduce(function(previous, current) {\n",
    "  console.log(previous, current);\n",
    "  return previous + current;\n",
    "}, 0);\n",
    "console.log(total); // 15\n",
    "\n",
    "let iterable = [10, 20, 30];\n",
    "for (let value of iterable) {\n",
    "  value += 1;\n",
    "  console.log(value); // 11, 21, 31\n",
    "}\n",
    "\n",
    "function f(x, y, z) { }\n",
    "let args = [0, 1, 2];\n",
    "f(...args); // Llama a la función f con los argumentos 0, 1 y 2\n",
    "\n",
    "let parts = ['shoulder', 'knees'];\n",
    "let lyrics = ['head', ...parts, 'and', 'toes'];\n",
    "console.log(lyrics); // [\"head\", \"shoulder\", \"knees\", \"and\", \"toes\"]"
   ]
  },
  {
   "cell_type": "markdown",
   "id": "70dbb3d1",
   "metadata": {},
   "source": [
    "### Array.from()\n",
    "\n",
    "`Array.from()` puede crear un array a partir de cualquier iterable o \"array-like\" (objetos que parecen arrays)."
   ]
  },
  {
   "cell_type": "code",
   "execution_count": 4,
   "id": "057547f0",
   "metadata": {},
   "outputs": [
    {
     "name": "stdout",
     "output_type": "stream",
     "text": [
      "[ \u001b[32m\"Hola\"\u001b[39m, \u001b[32m\"Mundo\"\u001b[39m ]\n"
     ]
    }
   ],
   "source": [
    "let arrayLike = {\n",
    "  0: \"Hola\",\n",
    "  1: \"Mundo\",\n",
    "  length: 2\n",
    "};\n",
    "let arr = Array.from(arrayLike);\n",
    "console.log(arr); // [\"Hola\", \"Mundo\"]"
   ]
  },
  {
   "cell_type": "markdown",
   "id": "38bcde4a",
   "metadata": {},
   "source": [
    "## Iterables avanzados\n",
    "\n",
    "### Set\n",
    "\n",
    "Un `Set` es un objeto iterable que representa una colección de valores únicos."
   ]
  },
  {
   "cell_type": "code",
   "execution_count": 5,
   "id": "8ed26acd",
   "metadata": {},
   "outputs": [
    {
     "name": "stdout",
     "output_type": "stream",
     "text": [
      "\u001b[33m2\u001b[39m\n"
     ]
    },
    {
     "name": "stdout",
     "output_type": "stream",
     "text": [
      "\u001b[33m1\u001b[39m\n"
     ]
    },
    {
     "name": "stdout",
     "output_type": "stream",
     "text": [
      "\u001b[33m2\u001b[39m\n"
     ]
    },
    {
     "name": "stdout",
     "output_type": "stream",
     "text": [
      "[ \u001b[33m1\u001b[39m, \u001b[33m2\u001b[39m ]\n"
     ]
    }
   ],
   "source": [
    "let mySet = new Set();\n",
    "mySet.add(1);\n",
    "mySet.add(2);\n",
    "mySet.add(2); // No se añade, ya que 2 ya está en el set\n",
    "console.log(mySet.size); // 2\n",
    "\n",
    "mySet.forEach(value => { console.log(value); }); // 1, 2\n",
    "console.log([...mySet]); // [1, 2]"
   ]
  },
  {
   "cell_type": "markdown",
   "id": "05423e7d",
   "metadata": {},
   "source": [
    "### Map\n",
    "\n",
    "Un `Map` es una colección de pares clave-valor donde las claves pueden ser de cualquier tipo."
   ]
  },
  {
   "cell_type": "code",
   "execution_count": 6,
   "id": "32235929",
   "metadata": {},
   "outputs": [
    {
     "name": "stdout",
     "output_type": "stream",
     "text": [
      "\u001b[33m1\u001b[39m\n"
     ]
    },
    {
     "name": "stdout",
     "output_type": "stream",
     "text": [
      "\u001b[33m2\u001b[39m\n"
     ]
    },
    {
     "name": "stdout",
     "output_type": "stream",
     "text": [
      "a \u001b[33m1\u001b[39m\n"
     ]
    },
    {
     "name": "stdout",
     "output_type": "stream",
     "text": [
      "b \u001b[33m2\u001b[39m\n"
     ]
    }
   ],
   "source": [
    "let myMap = new Map();\n",
    "myMap.set('a', 1);\n",
    "myMap.set('b', 2);\n",
    "\n",
    "console.log(myMap.get('a')); // 1\n",
    "console.log(myMap.size); // 2\n",
    "\n",
    "myMap.forEach((value, key) => { console.log(key, value); }); // 'a' 1, 'b' 2"
   ]
  },
  {
   "cell_type": "markdown",
   "id": "8e69c925",
   "metadata": {},
   "source": [
    "### WeakMap\n",
    "\n",
    "**Definición y Características:**\n",
    "- **WeakMap** es una estructura de datos introducida en ECMAScript 6 (ES6) para almacenar pares clave-valor, donde las claves deben ser objetos y los valores pueden ser cualquier tipo de dato.\n",
    "- **Claves solo de objetos**: Solo acepta objetos como claves. Intentar usar un tipo no objeto como clave resultará en un TypeError.\n",
    "- **Recolección de basura de claves**: Permite que las claves sean recolectadas cuando no hay otras referencias a ellas.\n",
    "- **No enumeración de claves**: No expone métodos para enumerar sus claves (keys(), values(), entries()).\n",
    "- **Sin propiedad size**: No tiene la propiedad size.\n",
    "\n",
    "**Creación y Uso:**\n",
    "- Se crea utilizando `new WeakMap()`.\n",
    "- Métodos disponibles:\n",
    "  - `set(key, value)`: Establece un par clave-valor.\n",
    "  - `get(key)`: Recupera el valor asociado a una clave.\n",
    "  - `has(key)`: Verifica si una clave existe.\n",
    "  - `delete(key)`: Elimina un par clave-valor.\n",
    "\n",
    "**Casos de Uso Comunes:**\n",
    "- **Almacenamiento de datos privados**: Asociar datos privados a objetos sin exponerlos públicamente.\n",
    "- **Mecanismo de caché**: Caché de datos donde los valores pueden ser recolectados si no son necesarios.\n",
    "- **Gestión de elementos del DOM**: Seguimiento de elementos del DOM sin impedir su recolección de basura.\n",
    "- **Memoización**: Almacenar resultados de funciones costosas sin crecimiento indefinido de memoria.\n",
    "\n",
    "### WeakSet\n",
    "\n",
    "**Definición y Características:**\n",
    "- **WeakSet** es una estructura de datos diseñada para trabajar con colecciones de objetos, permitiendo solo objetos como valores y manteniendo referencias débiles.\n",
    "- **Valores solo de objetos**: Solo permite almacenar objetos.\n",
    "- **Referencias débiles**: Las referencias débiles permiten la recolección de basura de los objetos cuando no son necesarios.\n",
    "- **Sin enumeración**: No proporciona métodos para enumerar sus valores (keys(), values(), entries(), forEach()).\n",
    "- **Sin propiedad size**: No tiene la propiedad size.\n",
    "\n",
    "**Creación y Uso:**\n",
    "- Se crea utilizando `new WeakSet()`.\n",
    "- Métodos disponibles:\n",
    "  - `add(value)`: Añade un objeto al WeakSet.\n",
    "  - `delete(value)`: Elimina un objeto del WeakSet.\n",
    "  - `has(value)`: Verifica si un objeto está en el WeakSet.\n",
    "\n",
    "**Casos de Uso Comunes:**\n",
    "- **Comprobación de pertenencia de objetos**: Seguimiento de la pertenencia de objetos sin impedir su recolección de basura.\n",
    "- **Prevención de duplicación de objetos**: Asegura que los objetos no se dupliquen dentro de una colección.\n",
    "- **Gestión de referencias débiles en cachés**: Mantener referencias débiles a objetos en cachés.\n",
    "- **Gestión de referencias de objetos en estructuras de datos**: Gestión de referencias de objetos en gráficos o estructuras arbóreas.\n"
   ]
  },
  {
   "cell_type": "markdown",
   "id": "87340022",
   "metadata": {},
   "source": [
    "### Comparativa\n",
    "\n",
    "| Característica       | Maps            | Objetos          | Sets         | Arrays       | WeakMap        | WeakSet       |\n",
    "|----------------------|-----------------|------------------|--------------|--------------|----------------|---------------|\n",
    "| Recorrer             | Sí              | No               | Sí           | Sí           | No             | No            |\n",
    "| Valores repetidos    | Sí              | Sí               | No           | Sí           | No             | No            |\n",
    "| Clave-valor          | Sí              | Sí               | No           | Índices      | Sí             | No            |\n",
    "| Eliminar elementos   | `.delete()`     | `delete`         | `.delete()`  | No directamente | `.delete()`  | `.delete()`   |\n",
    "| Filtrar, ordenar, map| No              | No               | No           | Sí           | No             | No            |\n",
    "| Acceso aleatorio     | Sí              | Sí               | No           | Sí           | Sí             | No            |\n",
    "\n",
    "\n",
    "**Objetos**: Los objetos son colecciones de pares clave-valor, donde las claves son strings o symbols y los valores pueden ser de cualquier tipo. Se utilizan para representar entidades con propiedades y métodos, como un modelo de datos complejo en una aplicación.\n",
    "\n",
    "**Arrays**: Los arrays son listas ordenadas de elementos accesibles por índices numéricos. Son ideales para manejar colecciones de elementos que necesitan ser recorridos secuencialmente o en las que el orden es importante, como listas de tareas o conjuntos de resultados de búsqueda.\n",
    "\n",
    "**Sets**: Los sets son colecciones de valores únicos sin claves. No permiten valores duplicados y son útiles cuando se necesita mantener una lista de elementos únicos, como un conjunto de etiquetas de un artículo o una lista de usuarios únicos en una sesión.\n",
    "\n",
    "**Maps**: Los maps son similares a los objetos en que almacenan pares clave-valor, pero las claves pueden ser de cualquier tipo, no solo strings o symbols. Además, los maps mantienen el orden de inserción de los elementos, lo que los hace adecuados para almacenar datos donde el orden es importante y las claves no son necesariamente strings, como una tabla de correspondencia entre objetos y sus propiedades.\n",
    "\n",
    "Los **objetos** son perfectos para estructuras de datos complejas y entidades, los **arrays** son ideales para listas ordenadas, los **sets** son útiles para colecciones de elementos únicos, y los **maps** son adecuados para pares clave-valor con claves de cualquier tipo y donde el orden de inserción es relevante.\n",
    "\n",
    "\n",
    "### Ejemplo de uso"
   ]
  },
  {
   "cell_type": "code",
   "execution_count": 7,
   "id": "3c53eb96",
   "metadata": {},
   "outputs": [
    {
     "name": "stdout",
     "output_type": "stream",
     "text": [
      "\u001b[33mtrue\u001b[39m\n"
     ]
    },
    {
     "name": "stdout",
     "output_type": "stream",
     "text": [
      "Alice\n"
     ]
    }
   ],
   "source": [
    "// Set\n",
    "let setExample = new Set([1, 2, 3, 4, 5]);\n",
    "console.log(setExample.has(3)); // true\n",
    "\n",
    "// Map\n",
    "let mapExample = new Map();\n",
    "mapExample.set('name', 'Alice');\n",
    "mapExample.set('age', 25);\n",
    "console.log(mapExample.get('name')); // Alice"
   ]
  }
 ],
 "metadata": {
  "kernelspec": {
   "display_name": "Deno",
   "language": "typescript",
   "name": "deno"
  },
  "language_info": {
   "codemirror_mode": "typescript",
   "file_extension": ".ts",
   "mimetype": "text/x.typescript",
   "name": "typescript",
   "nbconvert_exporter": "script",
   "pygments_lexer": "typescript",
   "version": "5.4.5"
  }
 },
 "nbformat": 4,
 "nbformat_minor": 5
}