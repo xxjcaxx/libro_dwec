{
 "cells": [
  {
   "cell_type": "markdown",
   "metadata": {},
   "source": [
    "# Gestión de Errores\n",
    "\n",
    "En JavaScript, es crucial capturar y manejar errores para asegurar que el código continúe funcionando adecuadamente, incluso cuando algo falla. En este capítulo, exploraremos cómo manejar errores utilizando diferentes métodos y técnicas disponibles en JavaScript.\n",
    "\n",
    "Cuando algo falla en JavaScript, el hilo de ejecución se detiene y deja de funcionar. Para evitar que esto ocurra, es posible capturar y manejar errores conocidos.\n",
    "\n",
    "\n",
    "## Objeto Error\n",
    "\n",
    "Cuando algo falla, se lanza un objeto Error. Este objeto contiene propiedades específicas como `message`, `name`, `fileName`, `lineNumber`, `columnNumber`, y `stack`. Además, tiene un método útil llamado `toString()`. \n",
    "\n",
    "Es posible lanzar errores personalizados utilizando el constructor de Error. Aunque `Error` es genérico, también existen errores más específicos como `EvalError`, `InternalError`, `SyntaxError`, `RangeError`, `TypeError` y `URIError`.\n",
    "\n"
   ]
  },
  {
   "cell_type": "code",
   "execution_count": 1,
   "metadata": {},
   "outputs": [
    {
     "name": "stderr",
     "output_type": "stream",
     "text": [
      "Error: ¡Ups!\n"
     ]
    }
   ],
   "source": [
    "\n",
    "try {\n",
    "    throw new Error('¡Ups!')\n",
    "} catch (e) {\n",
    "    console.error(e.name + ': ' + e.message)\n",
    "}\n"
   ]
  },
  {
   "cell_type": "markdown",
   "metadata": {},
   "source": [
    "\n",
    "\n",
    "## Manejar Errores\n",
    "\n",
    "Los errores pueden ser manejados de forma genérica o específica usando `instanceof`. Además, es posible crear errores personalizados. Si es necesario ejecutar código independientemente de si ocurre un error, se utiliza `finally()`.\n",
    "\n"
   ]
  },
  {
   "cell_type": "code",
   "execution_count": 2,
   "metadata": {},
   "outputs": [
    {
     "name": "stderr",
     "output_type": "stream",
     "text": [
      "ReferenceError: foo is not defined\n"
     ]
    },
    {
     "ename": "ReferenceError",
     "evalue": "closeMyFile is not defined",
     "output_type": "error",
     "traceback": [
      "Stack trace:",
      "ReferenceError: closeMyFile is not defined",
      "    at <anonymous>:11:3"
     ]
    }
   ],
   "source": [
    "\n",
    "try {\n",
    "    foo.bar();\n",
    "} catch (e) {\n",
    "    console.error(e.toString());\n",
    "    if (e instanceof EvalError) {\n",
    "        console.error(e.name + ': ' + e.message);\n",
    "    } else if (e instanceof RangeError) {\n",
    "        console.error(e.name + ': ' + e.message);\n",
    "    } // ... etc\n",
    "} finally {\n",
    "    closeMyFile();\n",
    "}\n"
   ]
  },
  {
   "cell_type": "markdown",
   "metadata": {},
   "source": [
    "\n",
    "\n",
    "## Errores en Promesas\n",
    "\n",
    "Cuando una promesa no puede ser cumplida, se ejecuta la función `reject()`, la cual puede ser capturada en el bloque `.catch()`. Sin embargo, los errores en promesas no pueden ser capturados directamente con `try...catch` debido a que `.catch()` siempre retorna otra promesa.\n",
    "\n"
   ]
  },
  {
   "cell_type": "code",
   "execution_count": null,
   "metadata": {},
   "outputs": [
    {
     "name": "stderr",
     "output_type": "stream",
     "text": [
      "Error: No funciona 3\n"
     ]
    },
    {
     "data": {
      "text/plain": [
       "Promise { \u001b[90mundefined\u001b[39m }"
      ]
     },
     "execution_count": 3,
     "metadata": {},
     "output_type": "execute_result"
    }
   ],
   "source": [
    "\n",
    "let promesa3 = new Promise(function promesa(resolve, reject) {\n",
    "    try { \n",
    "        if (Math.random() > 0.5) resolve('Funciona 3');\n",
    "        else throw new Error('No funciona 3');\n",
    "    } catch (error) {\n",
    "        reject(error.message);\n",
    "    }\n",
    "});\n",
    "\n",
    "promesa3.then(function r(message) {\n",
    "    console.log(message);\n",
    "}).catch(function c(error) {\n",
    "    throw new Error(error);\n",
    "}).catch(function c(error) {\n",
    "    console.error(error.toString());\n",
    "});\n"
   ]
  },
  {
   "cell_type": "markdown",
   "metadata": {},
   "source": [
    "\n",
    "\n",
    "## Errores en Async/Await\n",
    "\n",
    "Cuando se utiliza `async/await`, se pueden manejar errores dentro de un bloque `try...catch`. Si una promesa es rechazada (`reject`), `await` lanza un error que puede ser capturado con `catch`.\n",
    "\n"
   ]
  },
  {
   "cell_type": "code",
   "execution_count": null,
   "metadata": {},
   "outputs": [
    {
     "data": {
      "text/plain": [
       "Promise { \u001b[36m<pending>\u001b[39m }"
      ]
     },
     "execution_count": 4,
     "metadata": {},
     "output_type": "execute_result"
    }
   ],
   "source": [
    "\n",
    "async function getData(url) {\n",
    "    try {\n",
    "        const response = await fetch(url);\n",
    "        if (!response.ok) {\n",
    "            throw new Error(`Error de servidor: ${response.status} ${response.statusText}`);\n",
    "        }\n",
    "        const data = await response.json();\n",
    "        return data;\n",
    "    } catch (error) {\n",
    "        console.error('Error:', error.message);\n",
    "        throw error;\n",
    "    }\n",
    "}\n",
    "\n",
    "async function fetchExample() {\n",
    "    const url = 'https://api.foo.com/data';\n",
    "    try {\n",
    "        const data = await getData(url);\n",
    "        console.log('Datos recibidos:', data);\n",
    "    } catch (error) {\n",
    "        console.error('Error en la solicitud:', error);\n",
    "    }\n",
    "}\n",
    "\n",
    "fetchExample();\n"
   ]
  },
  {
   "cell_type": "markdown",
   "metadata": {},
   "source": [
    "\n",
    "\n",
    "## Errores en Observables\n",
    "\n",
    "Los Observables pueden manejar errores ejecutando la función `error()` del Observer. Además, pueden retornar un error usando `throwError()` y este error puede ser capturado con `catchError()` dentro de las pipes.\n",
    "\n",
    "```javascript\n",
    "import { Observable, throwError } from 'rxjs';\n",
    "import { catchError } from 'rxjs/operators';\n",
    "\n",
    "const observable = new Observable(subscriber => {\n",
    "    try {\n",
    "        subscriber.next('Next value');\n",
    "        throw new Error('Something went wrong');\n",
    "    } catch (error) {\n",
    "        subscriber.error(error);\n",
    "    }\n",
    "});\n",
    "\n",
    "observable.pipe(\n",
    "    catchError(error => {\n",
    "        console.error('Caught error:', error);\n",
    "        return throwError(error); // Propaga el error\n",
    "    })\n",
    ").subscribe({\n",
    "    next(value) { console.log(value); },\n",
    "    error(err) { console.error('Error handler:', err); }\n",
    "});\n",
    "```\n",
    "\n",
    "En caso de que un Observable falle, es posible reintentar una cantidad limitada de veces utilizando `retry()`.\n",
    "\n",
    "```javascript\n",
    "import { retry } from 'rxjs/operators';\n",
    "\n",
    "observable.pipe(\n",
    "    retry(3),\n",
    "    catchError(error => {\n",
    "        console.error('Caught error after retries:', error);\n",
    "        return throwError(error);\n",
    "    })\n",
    ").subscribe({\n",
    "    next(value) { console.log(value); },\n",
    "    error(err) { console.error('Error handler:', err); }\n",
    "});\n",
    "```"
   ]
  }
 ],
 "metadata": {
  "kernelspec": {
   "display_name": "Deno",
   "language": "typescript",
   "name": "deno"
  },
  "language_info": {
   "codemirror_mode": "typescript",
   "file_extension": ".ts",
   "mimetype": "text/x.typescript",
   "name": "typescript",
   "nbconvert_exporter": "script",
   "pygments_lexer": "typescript",
   "version": "5.4.5"
  }
 },
 "nbformat": 4,
 "nbformat_minor": 2
}