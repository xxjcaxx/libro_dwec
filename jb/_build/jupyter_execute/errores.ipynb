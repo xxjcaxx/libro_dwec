{
 "cells": [
  {
   "cell_type": "markdown",
   "metadata": {},
   "source": [
    "# Gestión de Errores\n",
    "\n",
    "En JavaScript, se pueden capturar y manejar errores para asegurar que el código continúe funcionando adecuadamente, incluso cuando algo falla. \n",
    "\n",
    "Cuando algo falla en JavaScript, el hilo de ejecución se detiene y deja de funcionar. Para evitar que esto ocurra, es posible capturar y manejar errores conocidos. Los errores no capturados paran el hilo en el que están. Puede ser el hilo principal o la ejecución de callbacks. Depende dónde se produzca el error puede ser maś o menos catastrófico y dejar la web inutilizable. \n",
    "\n",
    "> Los errores pueden ser por errores, malas prácticas o simplemente porque falla algo sobre lo que no tenemos control como la red. \n",
    "\n",
    "## Objeto Error\n",
    "\n",
    "Cuando algo falla, se lanza un objeto Error. Este objeto contiene propiedades específicas como `message`, `name`, `fileName`, `lineNumber`, `columnNumber`, y `stack`. Además, tiene un método útil llamado `toString()`. \n",
    "\n",
    "Aunque `Error` es genérico, también existen errores más específicos como `EvalError`, `InternalError`, `SyntaxError`, `RangeError`, `TypeError` y `URIError`.\n",
    "\n",
    "Ese error se puede lanzar con `throw` y capturar con un bloque `try...catch`. Si es tratado por el catch, el error no pasa de ahí y no corta la ejecución del hilo. Además, se puede aprovechar el `catch` para solucionar el problema que lo ha causado. "
   ]
  },
  {
   "cell_type": "code",
   "execution_count": 1,
   "metadata": {},
   "outputs": [
    {
     "name": "stderr",
     "output_type": "stream",
     "text": [
      "Error: ¡Ups!\n"
     ]
    }
   ],
   "source": [
    "\n",
    "try {\n",
    "    throw new Error('¡Ups!')\n",
    "} catch (e) {\n",
    "    console.error(e.name + ': ' + e.message)\n",
    "}\n"
   ]
  },
  {
   "cell_type": "markdown",
   "metadata": {},
   "source": [
    "\n",
    "\n",
    "## Manejar Errores\n",
    "\n",
    "Los errores pueden ser manejados de forma genérica o específica usando `instanceof`. Además, es posible crear errores personalizados. Si es necesario ejecutar código independientemente de si ocurre un error, se utiliza `finally()`.\n",
    "\n"
   ]
  },
  {
   "cell_type": "code",
   "execution_count": 2,
   "metadata": {},
   "outputs": [
    {
     "name": "stderr",
     "output_type": "stream",
     "text": [
      "ReferenceError: foo is not defined\n"
     ]
    },
    {
     "ename": "ReferenceError",
     "evalue": "closeMyFile is not defined",
     "output_type": "error",
     "traceback": [
      "Stack trace:",
      "ReferenceError: closeMyFile is not defined",
      "    at <anonymous>:11:3"
     ]
    }
   ],
   "source": [
    "\n",
    "try {\n",
    "    foo.bar();\n",
    "} catch (e) {\n",
    "    console.error(e.toString());\n",
    "    if (e instanceof EvalError) {\n",
    "        console.error(e.name + ': ' + e.message);\n",
    "    } else if (e instanceof RangeError) {\n",
    "        console.error(e.name + ': ' + e.message);\n",
    "    } // ... etc\n",
    "} finally {\n",
    "    closeMyFile();\n",
    "}\n"
   ]
  },
  {
   "cell_type": "markdown",
   "metadata": {},
   "source": [
    "En ocasiones queremos tratar el error en una función pero que siga escalando para que lo trate una función superior. Esto es hacer un `rethrow` y consiste en poner un `throw` dentro del `catch`:\n",
    "\n",
    "```js\n",
    "async function fetchUser(id) {\n",
    "    const res = await fetch(`/users/${id}`);\n",
    "    if (!res.ok) throw new Error(\"User not found\");\n",
    "    return res.json();\n",
    "  }\n",
    "async function getUser(id) {\n",
    "    try {\n",
    "      const user = await fetchUser(id);\n",
    "      return user;\n",
    "    } catch (err) {\n",
    "      console.error(\"Fetching user failed:\", err.message);\n",
    "      throw new Error(\"Unable to load user profile\"); \n",
    "    }\n",
    "  }\n",
    "```\n",
    "\n",
    "Es posible lanzar errores personalizados utilizando el constructor de Error.\n",
    "\n",
    "```js\n",
    "class ValidationError extends Error {\n",
    "  constructor(field, message) {\n",
    "    super(`${field}: ${message}`);\n",
    "    this.name = \"ValidationError\";\n",
    "    this.field = field;\n",
    "  }\n",
    "}\n",
    "\n",
    "function validateUser(user) {\n",
    "  if (!user.email.includes(\"@\")) {\n",
    "    throw new ValidationError(\"email\", \"Invalid email format\");\n",
    "  }\n",
    "  if (!user.age || user.age < 18) {\n",
    "    throw new ValidationError(\"age\", \"User must be 18+\");\n",
    "  }\n",
    "}\n",
    "```"
   ]
  },
  {
   "cell_type": "markdown",
   "metadata": {},
   "source": [
    "\n",
    "\n",
    "## Errores en Promesas\n",
    "\n",
    "Cuando una promesa no puede ser cumplida, se ejecuta la función `reject()`, la cual puede ser capturada en el bloque `.catch()`. Sin embargo, los errores en promesas no pueden ser capturados directamente con `try...catch` debido a que `.catch()` siempre retorna otra promesa.\n",
    "\n",
    "Por tanto el `.catch()` de las promesas no es igual y puede recibir tanto un `Error` como cualquier otra cosa que se pase a `reject`. De todas formas, un `throw` dentro de un `.then()` o `.catch()` provoca que retorne una promesa fallida que puede ser capturada por `.catch()`. Como se ve en el ejemplo:"
   ]
  },
  {
   "cell_type": "code",
   "execution_count": null,
   "metadata": {},
   "outputs": [
    {
     "name": "stderr",
     "output_type": "stream",
     "text": [
      "Error: No funciona 3\n"
     ]
    },
    {
     "data": {
      "text/plain": [
       "Promise { \u001b[90mundefined\u001b[39m }"
      ]
     },
     "execution_count": 3,
     "metadata": {},
     "output_type": "execute_result"
    }
   ],
   "source": [
    "\n",
    "let promesa3 = new Promise(function promesa(resolve, reject) {\n",
    "    try { \n",
    "        if (Math.random() > 0.5) resolve('Funciona 3');\n",
    "        else throw new Error('No funciona 3');\n",
    "    } catch (error) {\n",
    "        reject(error.message);\n",
    "    }\n",
    "});\n",
    "\n",
    "promesa3.then(function r(message) {\n",
    "    console.log(message);\n",
    "}).catch(function c(error) {\n",
    "    throw new Error(error);\n",
    "}).catch(function c(error) {\n",
    "    console.error(error.toString());\n",
    "});\n"
   ]
  },
  {
   "cell_type": "markdown",
   "metadata": {},
   "source": [
    "En el interior de cualquier función ejecutora de promesas o de callback de `.then()` o `.catch()` se puede usar el bloque tradicional `try...catch` siempre que se use `reject` o `throw` en cada caso. \n",
    "\n",
    "En ocasiones se puede decidir trabajar sólo con la sintaxis de las promesas o con el método tradicional. "
   ]
  },
  {
   "cell_type": "markdown",
   "metadata": {},
   "source": [
    "\n",
    "\n",
    "## Errores en Async/Await\n",
    "\n",
    "Cuando se utiliza `async/await`, se pueden manejar errores dentro de un bloque `try...catch`. Si una promesa es rechazada (`reject`), `await` lanza un error que puede ser capturado con `catch`.\n",
    "\n"
   ]
  },
  {
   "cell_type": "code",
   "execution_count": null,
   "metadata": {},
   "outputs": [
    {
     "data": {
      "text/plain": [
       "Promise { \u001b[36m<pending>\u001b[39m }"
      ]
     },
     "execution_count": 4,
     "metadata": {},
     "output_type": "execute_result"
    }
   ],
   "source": [
    "\n",
    "async function getData(url) {\n",
    "    try {\n",
    "        const response = await fetch(url);\n",
    "        if (!response.ok) {\n",
    "            throw new Error(`Error de servidor: ${response.status} ${response.statusText}`);\n",
    "        }\n",
    "        const data = await response.json();\n",
    "        return data;\n",
    "    } catch (error) {\n",
    "        console.error('Error:', error.message);\n",
    "        throw error;\n",
    "    }\n",
    "}\n",
    "\n",
    "async function fetchExample() {\n",
    "    const url = 'https://api.foo.com/data';\n",
    "    try {\n",
    "        const data = await getData(url);\n",
    "        console.log('Datos recibidos:', data);\n",
    "    } catch (error) {\n",
    "        console.error('Error en la solicitud:', error);\n",
    "    }\n",
    "}\n",
    "\n",
    "fetchExample();\n"
   ]
  },
  {
   "cell_type": "markdown",
   "metadata": {},
   "source": [
    "En código moderno, se recomienda usar `async/await` con `try...catch` por su legibilidad. Frente a la sintaxis de las promesas. "
   ]
  },
  {
   "cell_type": "markdown",
   "metadata": {},
   "source": [
    "\n",
    "\n",
    "## Errores en Observables\n",
    "\n",
    "Los Observables pueden manejar errores ejecutando la función `error()` del Observer. Además, pueden retornar un error usando `throwError()` y este error puede ser capturado con `catchError()` dentro de las pipes.\n",
    "\n",
    "```javascript\n",
    "import { Observable, throwError } from 'rxjs';\n",
    "import { catchError } from 'rxjs/operators';\n",
    "\n",
    "const observable = new Observable(subscriber => {\n",
    "    try {\n",
    "        subscriber.next('Next value');\n",
    "        throw new Error('Something went wrong');\n",
    "    } catch (error) {\n",
    "        subscriber.error(error);\n",
    "    }\n",
    "});\n",
    "\n",
    "observable.pipe(\n",
    "    catchError(error => {\n",
    "        console.error('Caught error:', error);\n",
    "        return throwError(error); // Propaga el error\n",
    "    })\n",
    ").subscribe({\n",
    "    next(value) { console.log(value); },\n",
    "    error(err) { console.error('Error handler:', err); }\n",
    "});\n",
    "```\n",
    "\n",
    "En caso de que un Observable falle, es posible reintentar una cantidad limitada de veces utilizando `retry()`.\n",
    "\n",
    "```javascript\n",
    "import { retry } from 'rxjs/operators';\n",
    "\n",
    "observable.pipe(\n",
    "    retry(3),\n",
    "    catchError(error => {\n",
    "        console.error('Caught error after retries:', error);\n",
    "        return throwError(error);\n",
    "    })\n",
    ").subscribe({\n",
    "    next(value) { console.log(value); },\n",
    "    error(err) { console.error('Error handler:', err); }\n",
    "});\n",
    "```"
   ]
  }
 ],
 "metadata": {
  "kernelspec": {
   "display_name": "Deno",
   "language": "typescript",
   "name": "deno"
  },
  "language_info": {
   "codemirror_mode": "typescript",
   "file_extension": ".ts",
   "mimetype": "text/x.typescript",
   "name": "typescript",
   "nbconvert_exporter": "script",
   "pygments_lexer": "typescript",
   "version": "5.4.5"
  }
 },
 "nbformat": 4,
 "nbformat_minor": 2
}