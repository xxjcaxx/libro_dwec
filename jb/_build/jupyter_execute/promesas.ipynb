{
 "cells": [
  {
   "cell_type": "markdown",
   "metadata": {},
   "source": [
    "# Asincronía y Promesas\n",
    "\n",
    "> Parece ser que la salida de los scripts en Jupyter Notebook no funciona correctamente con la asincronía. Puede que alguna salida no sea totalmente correcta en los ejemplos. Se recomienda probarlos en un navegador. \n",
    "\n",
    "Antes de estudiar las promesas, vamos a repasar algunos conceptos sobre cómo funciona internamente el motor de javascript. De esta manera será más fácil entender cómo funcionan las promesas y cómo usarlas. \n",
    "\n",
    "## El Motor de JavaScript\n",
    "\n",
    "El motor de JavaScript dentro del navegador es responsable de compilar y ejecutar el código JavaScript, manejar la pila de funciones (call stack), gestionar el alojamiento de los objetos en memoria (heap) y recolectar la basura de los objetos que ya no se necesitan. Además, proporciona una API con utilidades del navegador, red, funciones asíncronas y más. \n",
    "\n",
    "### Entorno de Ejecución\n",
    "\n",
    "JavaScript solo puede tener un hilo de ejecución (en principio). Esto significa que si solicitamos algo al servidor de forma síncrona, toda la web se detendrá hasta que llegue la respuesta. Sin embargo, los navegadores tienen un entorno de ejecución que permite que JavaScript realice solicitudes de forma asíncrona y continúe ejecutando otras tareas. Estas peticiones asíncronas las proporciona las `web APIs` y sus respuestas pueden ser gestionadas mediante Callbacks, Promesas o Async/Await. Para entender cómo funcionan las peticiones asíncronas en JavaScript, es fundamental comprender los conceptos de Contexto de Ejecución y Pila de Llamadas.\n",
    "\n",
    "#### Contexto de Ejecución y Pila de Llamadas\n",
    "\n",
    "##### Contexto de Ejecución\n",
    "\n",
    "El contexto de ejecución es el entorno en el cual JavaScript se evalúa y ejecuta. Cada vez que se ejecuta un script o se llama a una función, se crea un nuevo contexto de ejecución. Existen dos tipos principales de contextos de ejecución: el contexto global y el contexto de función.\n",
    "\n",
    "###### Contexto de Ejecución Global\n",
    "\n",
    "El contexto de ejecución global se crea cuando se carga una página web o un archivo JavaScript en un entorno de ejecución, como un navegador o Node.js. Este contexto es el entorno predeterminado en el que se evalúa y ejecuta el código global, es decir, cualquier código que no esté dentro de una función.\n",
    "\n",
    "\n"
   ]
  },
  {
   "cell_type": "code",
   "execution_count": 1,
   "metadata": {},
   "outputs": [
    {
     "name": "stdout",
     "output_type": "stream",
     "text": [
      "I am global\n"
     ]
    }
   ],
   "source": [
    "(()=>{\n",
    "let globalVar = \"I am global\";\n",
    "\n",
    "function showGlobalVar() {\n",
    "  console.log(globalVar); // Puede acceder a globalVar porque está en el contexto global\n",
    "}\n",
    "\n",
    "showGlobalVar(); // I am global\n",
    "})()"
   ]
  },
  {
   "cell_type": "markdown",
   "metadata": {},
   "source": [
    "En este ejemplo, `globalVar` se define en el contexto global, y la función `showGlobalVar` puede acceder a `globalVar` porque también se encuentra en el contexto global."
   ]
  },
  {
   "cell_type": "markdown",
   "metadata": {},
   "source": [
    "\n",
    "###### Contexto de Ejecución de Función\n",
    "\n",
    "Cada vez que se llama a una función, se crea un nuevo contexto de ejecución para esa función. Este contexto de ejecución incluye el ámbito léxico de la función, el objeto `this`, y una referencia al contexto de ejecución de su entorno exterior (si lo hay).\n",
    "\n"
   ]
  },
  {
   "cell_type": "code",
   "execution_count": 2,
   "metadata": {},
   "outputs": [
    {
     "name": "stdout",
     "output_type": "stream",
     "text": [
      "I am global\n"
     ]
    },
    {
     "name": "stdout",
     "output_type": "stream",
     "text": [
      "I am outer\n"
     ]
    },
    {
     "name": "stdout",
     "output_type": "stream",
     "text": [
      "I am inner\n"
     ]
    }
   ],
   "source": [
    "(()=>{\n",
    "let globalVar = \"I am global\";\n",
    "\n",
    "function outerFunction() {\n",
    "  let outerVar = \"I am outer\";\n",
    "\n",
    "  function innerFunction() {\n",
    "    let innerVar = \"I am inner\";\n",
    "    console.log(globalVar); // I am global\n",
    "    console.log(outerVar);  // I am outer\n",
    "    console.log(innerVar);  // I am inner\n",
    "  }\n",
    "\n",
    "  innerFunction();\n",
    "}\n",
    "\n",
    "outerFunction();\n",
    "})();"
   ]
  },
  {
   "cell_type": "markdown",
   "metadata": {},
   "source": [
    "\n",
    "\n",
    "En este ejemplo, `outerFunction` crea su propio contexto de ejecución que incluye `outerVar`. Cuando `innerFunction` se llama, se crea un nuevo contexto de ejecución que incluye `innerVar`. `innerFunction` también tiene acceso a `outerVar` y `globalVar` debido a la cadena de ámbito léxico.\n",
    "\n",
    "##### Pila de Llamadas (Call Stack)\n",
    "\n",
    "La pila de llamadas es una estructura de datos LIFO (Last In, First Out) que almacena los contextos de ejecución en el orden en que deben ejecutarse. Cada vez que se llama a una función, su contexto de ejecución se agrega a la pila de llamadas. Cuando la función termina, su contexto se elimina de la pila.\n"
   ]
  },
  {
   "cell_type": "code",
   "execution_count": 3,
   "metadata": {},
   "outputs": [
    {
     "name": "stdout",
     "output_type": "stream",
     "text": [
      "Entering first\n"
     ]
    },
    {
     "name": "stdout",
     "output_type": "stream",
     "text": [
      "Entering second\n"
     ]
    },
    {
     "name": "stdout",
     "output_type": "stream",
     "text": [
      "Entering third\n"
     ]
    },
    {
     "name": "stdout",
     "output_type": "stream",
     "text": [
      "Exiting third\n"
     ]
    },
    {
     "name": "stdout",
     "output_type": "stream",
     "text": [
      "Exiting second\n"
     ]
    },
    {
     "name": "stdout",
     "output_type": "stream",
     "text": [
      "Exiting first\n"
     ]
    }
   ],
   "source": [
    "(()=>{\n",
    "    function first() {\n",
    "      console.log(\"Entering first\");\n",
    "      second();\n",
    "      console.log(\"Exiting first\");\n",
    "    }\n",
    "    \n",
    "    function second() {\n",
    "      console.log(\"Entering second\");\n",
    "      third();\n",
    "      console.log(\"Exiting second\");\n",
    "    }\n",
    "    \n",
    "    function third() {\n",
    "      console.log(\"Entering third\");\n",
    "      // Realiza alguna tarea\n",
    "      console.log(\"Exiting third\");\n",
    "    }\n",
    "    \n",
    "    first();\n",
    "    })();"
   ]
  },
  {
   "cell_type": "markdown",
   "metadata": {},
   "source": [
    "\n",
    "**Análisis del Call Stack:**\n",
    "\n",
    "1. `first()` se agrega a la pila de llamadas.\n",
    "2. `console.log(\"Entering first\")` se ejecuta dentro de `first()`.\n",
    "3. `second()` se agrega a la pila de llamadas.\n",
    "4. `console.log(\"Entering second\")` se ejecuta dentro de `second()`.\n",
    "5. `third()` se agrega a la pila de llamadas.\n",
    "6. `console.log(\"Entering third\")` se ejecuta dentro de `third()`.\n",
    "7. `console.log(\"Exiting third\")` se ejecuta dentro de `third()`.\n",
    "8. `third()` se elimina de la pila de llamadas.\n",
    "9. `console.log(\"Exiting second\")` se ejecuta dentro de `second()`.\n",
    "10. `second()` se elimina de la pila de llamadas.\n",
    "11. `console.log(\"Exiting first\")` se ejecuta dentro de `first()`.\n",
    "12. `first()` se elimina de la pila de llamadas.\n",
    "\n",
    "###### Herramientas para Analizar el Call Stack\n",
    "\n",
    "En Firefox:\n",
    "\n",
    "1. Presiona `F12` para abrir las herramientas de desarrollo.\n",
    "2. Ve al panel de Depurador.\n",
    "3. Coloca un punto de ruptura.\n",
    "4. Ejecuta y analiza la pila de llamadas y el entorno de ejecución de las funciones.\n",
    "\n",
    "También puedes usar `console.trace()` y `debugger;` en tu código para depurar y analizar el flujo de ejecución.\n"
   ]
  },
  {
   "cell_type": "markdown",
   "metadata": {},
   "source": [
    "\n",
    "#### Tareas y Microtareas\n",
    "\n",
    "JavaScript gestiona las operaciones asíncronas utilizando varias colas de tareas, cada una con una prioridad diferente. Estas colas incluyen la **cola de macrotareas** y la **cola de microtareas**.\n",
    "\n",
    "##### Cola de Macrotareas y Microtareas\n",
    "\n",
    "```{figure} ./imgs/microtasks.png\n",
    "---\n",
    "scale: 100%\n",
    "align: right\n",
    "---\n",
    "Ilustración de microtareas y macrotareas\n",
    "```\n",
    "\n",
    "Las **macrotareas** incluyen operaciones como los eventos del DOM, `setTimeout`, `setInterval` y otras operaciones asíncronas. Las macrotareas se gestionan en la \"cola de macrotareas\" y se procesan una por una.\n",
    "\n",
    "Las **microtareas**, por otro lado, incluyen las promesas (`Promises`) y las mutaciones del DOM (a través de `MutationObserver`). Estas tareas se gestionan en la \"cola de microtareas\", que tiene una prioridad más alta que la de las macrotareas. Esto significa que después de cada macrotarea, el motor de JavaScript procesará todas las microtareas antes de continuar con la siguiente macrotarea.\n",
    "\n",
    "Cuando se completa una macrotarea, el motor de JavaScript pasa a procesar todas las microtareas pendientes. Este ciclo de procesamiento asegura que las microtareas reciban atención inmediata después de cada macrotarea."
   ]
  },
  {
   "cell_type": "code",
   "execution_count": 4,
   "metadata": {},
   "outputs": [],
   "source": [
    "(()=>{\n",
    "let start = Date.now();\n",
    "\n",
    "function count() {\n",
    "  // Trabajo pesado\n",
    "  let i = 0;\n",
    "  for (let j = 0; j < 1e9; j++) {\n",
    "    i++;\n",
    "  }\n",
    "  console.log(\"Done in \" + (Date.now() - start) + 'ms');\n",
    "}\n",
    "\n",
    "// count();   // Esto bloquea el navegador\n",
    "setTimeout(count, 0);\n",
    "})();"
   ]
  },
  {
   "cell_type": "markdown",
   "metadata": {},
   "source": [
    "\n",
    "1. La función `count` ejecuta una operación costosa (una larga iteración de bucle).\n",
    "2. Si `count` se ejecuta directamente, bloquea el navegador porque el bucle es muy largo.\n",
    "3. Utilizando `setTimeout(count, 0)`, la función `count` se coloca en la cola de macrotareas, permitiendo que el navegador procese otras tareas mientras tanto.\n",
    "\n",
    "Este ejemplo ilustra cómo retrasar el bloqueo hasta que, por ejemplo, se ejecute todo el programa principal. Pero no soluciona el hecho de que, al final se va a quedar el navegador bloqueado, ya que se ejecutará en el único hilo de ejecución de Javascript. Si queremos tener más hilos, podemos usar `worker`. En el siguiente ejemplo se ve cómo dividir el trabajo para que, en medio, dé tiempo a renderizar o ejecutar otras tareas y microtareas como atender eventos:\n",
    "\n",
    "##### Ejemplo de Dividir el Trabajo con `setTimeout`\n",
    "\n"
   ]
  },
  {
   "cell_type": "markdown",
   "metadata": {},
   "source": [
    "```javascript\n",
    "document.addEventListener(\"DOMContentLoaded\", () => {\n",
    "  let progress = document.querySelector(\"#progress\");\n",
    "  let i = 0;\n",
    "  function count() {\n",
    "    // Realiza una parte del trabajo pesado (*)\n",
    "    do {\n",
    "      i++;\n",
    "      progress.innerHTML = i;\n",
    "    } while (i % 1e3 != 0);\n",
    "\n",
    "    if (i < 1e7) {\n",
    "      setTimeout(count);\n",
    "    }\n",
    "  }\n",
    "  count();\n",
    "});\n",
    "```"
   ]
  },
  {
   "cell_type": "markdown",
   "metadata": {},
   "source": [
    "1. En lugar de hacer todo el trabajo pesado en una única ejecución, el trabajo se divide en trozos más pequeños.\n",
    "2. La función `count` realiza una pequeña parte del trabajo (incrementar `i` y actualizar el texto de `progress`) antes de ceder el control al navegador con `setTimeout(count)`.\n",
    "3. Esto permite que el navegador renderice el cambio en el DOM, evitando el bloqueo y ofreciendo una experiencia de usuario más fluida.\n",
    "\n",
    "Otro ejemplo: https://www.bbss.dev/posts/eventloop/ "
   ]
  },
  {
   "cell_type": "markdown",
   "metadata": {},
   "source": [
    "\n",
    "##### Código de Ejemplo con Promesas (Microtareas)\n",
    "\n"
   ]
  },
  {
   "cell_type": "code",
   "execution_count": 5,
   "metadata": {},
   "outputs": [
    {
     "name": "stdout",
     "output_type": "stream",
     "text": [
      "Done in 1351ms\n"
     ]
    },
    {
     "name": "stdout",
     "output_type": "stream",
     "text": [
      "Script start\n",
      "Script end\n",
      "Promise 1\n",
      "Promise 2\n",
      "SetTimeout\n"
     ]
    }
   ],
   "source": [
    "(()=>{\n",
    "  const messages = [];\n",
    "  messages.push('Script start');\n",
    "  setTimeout(() => {\n",
    "    messages.push('SetTimeout');\n",
    "    printMessages();\n",
    "  }, 0);\n",
    "  Promise.resolve().then(() => {\n",
    "    messages.push('Promise 1');\n",
    "  }).then(() => {\n",
    "    messages.push('Promise 2');\n",
    "  });\n",
    "  messages.push('Script end');\n",
    "  function printMessages() {\n",
    "      console.log(messages.join('\\n'));\n",
    "  }\n",
    "})();"
   ]
  },
  {
   "cell_type": "markdown",
   "metadata": {},
   "source": [
    "1. El log 'Script start' se imprime primero porque es código síncrono.\n",
    "2. `setTimeout` coloca su función de callback en la cola de macrotareas.\n",
    "3. La promesa se resuelve inmediatamente, colocando sus callbacks en la cola de microtareas.\n",
    "4. El log 'Script end' se imprime porque es código síncrono.\n",
    "5. Las microtareas (las promesas) se ejecutan antes de la macrotarea (`setTimeout`), imprimiendo 'Promise 1' y 'Promise 2'.\n",
    "6. Finalmente, la función de `setTimeout` se ejecuta, imprimiendo 'SetTimeout'.\n",
    "\n",
    "Este mecanismo de tareas y microtareas permite que JavaScript gestione de manera eficiente las operaciones asíncronas, asegurando que el código se ejecute de manera ordenada y que las tareas con mayor prioridad (microtareas) se completen antes de procesar tareas menos prioritarias (macrotareas)."
   ]
  },
  {
   "cell_type": "markdown",
   "metadata": {},
   "source": [
    "## Callbacks en JavaScript\n",
    "\n",
    "En JavaScript, un callback es una función que se pasa como argumento a otra función para que se ejecute después de que se complete alguna operación. Los callbacks son esenciales para manejar operaciones asíncronas como la comunicación con servidores, temporizadores, y eventos del DOM.\n",
    "El propio lenguaje Javascript cuenta con multitud de funciones que aceptan funciones de callback, com forEach, map, filter, addEventListener... "
   ]
  },
  {
   "cell_type": "code",
   "execution_count": 6,
   "metadata": {},
   "outputs": [
    {
     "name": "stdout",
     "output_type": "stream",
     "text": [
      "Data is being fetched...\n"
     ]
    }
   ],
   "source": [
    "(()=>{\n",
    "function fetchData(callback) {\n",
    "  setTimeout(() => {\n",
    "    const data = { name: \"John\", age: 30 };\n",
    "    callback(data);\n",
    "  }, 3000);\n",
    "}\n",
    "\n",
    "// Ejecutar la función con un callback\n",
    "fetchData(function(data) {\n",
    "  console.log(data);\n",
    "});\n",
    "\n",
    "console.log(\"Data is being fetched...\");\n",
    "})();"
   ]
  },
  {
   "cell_type": "markdown",
   "metadata": {},
   "source": [
    "\n",
    "1. La función `fetchData` toma un `callback` como argumento.\n",
    "2. Dentro de `fetchData`, se usa `setTimeout` para simular una operación asíncrona que dura 3 segundos.\n",
    "3. Después de 3 segundos, `setTimeout` ejecuta el `callback` pasando un objeto `data` como argumento.\n",
    "4. `fetchData` se llama con una función anónima como callback que imprime el `data`.\n",
    "5. Mientras `setTimeout` espera, el programa sigue ejecutando el código siguiente y muestra \"Data is being fetched...\".\n",
    "\n",
    "### Callbacks en Operaciones Asíncronas\n",
    "\n",
    "Los callbacks son útiles cuando se trabaja con operaciones asíncronas. En el siguiente ejemplo, la función `second` tiene código asíncrono que usa un callback para garantizar que la función `third` se ejecute después de que `second` haya terminado su tarea.\n",
    "\n"
   ]
  },
  {
   "cell_type": "code",
   "execution_count": 7,
   "metadata": {},
   "outputs": [
    {
     "name": "stdout",
     "output_type": "stream",
     "text": [
      "\u001b[33m1\u001b[39m\n"
     ]
    }
   ],
   "source": [
    "(()=>{\n",
    "function first() {\n",
    "  console.log(1);\n",
    "}\n",
    "\n",
    "function second(callback) {\n",
    "  setTimeout(() => {\n",
    "    console.log(2);\n",
    "    callback();\n",
    "  }, 0);\n",
    "}\n",
    "\n",
    "function third() {\n",
    "  console.log(3);\n",
    "}\n",
    "\n",
    "first();\n",
    "second(third);\n",
    "// Salida: 1 2 3\n",
    "})();"
   ]
  },
  {
   "cell_type": "markdown",
   "metadata": {},
   "source": [
    "\n",
    "1. `first` imprime `1`.\n",
    "2. `second` toma una función `callback` como argumento y usa `setTimeout` con un retardo de 0 milisegundos para simular una operación asíncrona.\n",
    "3. `second` imprime `2` y luego llama al `callback` pasado (en este caso, `third`).\n",
    "4. `third` imprime `3`.\n",
    "\n",
    "En este ejemplo, `first` se ejecuta primero, seguido de `second` que llama a `third` después de su operación asíncrona.\n",
    "\n",
    "### Callback Hell (Infierno de Callbacks)\n",
    "\n",
    "El uso excesivo de callbacks puede llevar a una situación conocida como \"Callback Hell\" o \"Pyramid of Doom\", donde el código se vuelve difícil de leer y mantener debido a la anidación profunda de funciones.\n",
    "\n",
    "```javascript\n",
    "getData(function(a) {\n",
    "  getMoreData(a, function(b) {\n",
    "    getEvenMoreData(b, function(c) {\n",
    "      getEvenEvenMoreData(c, function(d) {\n",
    "        getFinalData(d, function(finalData) {\n",
    "          console.log(finalData);\n",
    "        });\n",
    "      });\n",
    "    });\n",
    "  });\n",
    "});\n",
    "```\n",
    "\n",
    "En este ejemplo, cada función depende de los datos obtenidos por la función anterior. Esta cadena de dependencias se anida cada vez más profundamente, resultando en un código que es difícil de mantener. \n",
    "\n",
    "Veamos un ejemplo de código que puede suponer un Callback Hell:\n",
    "\n",
    "```javascript\n",
    "document.addEventListener(\"DOMContentLoaded\", () => {\n",
    "\n",
    "    function hacerPeticion(url, callback) {\n",
    "        const xhr = new XMLHttpRequest();\n",
    "        xhr.open('GET', url, true);\n",
    "        xhr.onreadystatechange = function () {\n",
    "            if (xhr.readyState === 4 && xhr.status === 200) {\n",
    "                const data = JSON.parse(xhr.responseText);\n",
    "                callback(null, data);\n",
    "            } else if (xhr.readyState === 4) {\n",
    "\n",
    "                callback(new Error(`Error al hacer la petición a ${url}`));\n",
    "            }\n",
    "        };\n",
    "        xhr.send();\n",
    "    }\n",
    "\n",
    "    // 2. Leer un archivo del input\n",
    "    function leerArchivo(callback) {\n",
    "        const inputArchivo = document.getElementById('archivoInput');\n",
    "        const archivo = inputArchivo.files[0];\n",
    "\n",
    "        if (!archivo) {\n",
    "            callback(new Error('No se ha seleccionado ningún archivo'));\n",
    "            return;\n",
    "        }\n",
    "        const lector = new FileReader();\n",
    "        lector.onload = function (evento) {\n",
    "            const contenido = evento.target.result;\n",
    "            callback(null, contenido);\n",
    "        };\n",
    "        lector.onerror = function () {\n",
    "            callback(new Error('Error al leer el archivo'));\n",
    "        };\n",
    "        lector.readAsText(archivo);\n",
    "    }\n",
    "\n",
    "    // 3. Guardar los datos en IndexedDB\n",
    "    function guardarEnIndexedDB(datos, callback) {\n",
    "        const solicitudDB = indexedDB.open('miBaseDeDatos', 1);\n",
    "\n",
    "        solicitudDB.onupgradeneeded = function (evento) {\n",
    "            const db = evento.target.result;\n",
    "            db.createObjectStore('archivos', { keyPath: 'id', autoIncrement: true });\n",
    "        };\n",
    "\n",
    "        solicitudDB.onsuccess = function (evento) {\n",
    "            const db = evento.target.result;\n",
    "            const transaccion = db.transaction('archivos', 'readwrite');\n",
    "            const almacen = transaccion.objectStore('archivos');\n",
    "\n",
    "            const solicitudInsertar = almacen.add({ contenido: datos });\n",
    "\n",
    "            solicitudInsertar.onsuccess = function () {\n",
    "                callback(null, 'Datos guardados correctamente en IndexedDB');\n",
    "            };\n",
    "\n",
    "            solicitudInsertar.onerror = function () {\n",
    "                callback(new Error('Error al guardar en IndexedDB'));\n",
    "            };\n",
    "        };\n",
    "\n",
    "        solicitudDB.onerror = function () {\n",
    "            callback(new Error('Error al abrir IndexedDB'));\n",
    "        };\n",
    "    }\n",
    "\n",
    "    // Iniciamos la cadena de callbacks (Callback Hell)\n",
    "\n",
    "    document.querySelector(\"#boton\").addEventListener(\"click\", (event) => {\n",
    "        event.preventDefault();\n",
    "        \n",
    "        // 1. Petición al servidor\n",
    "        hacerPeticion('http://localhost:5500/datos.json', function (error, datosServidor) {\n",
    "            if (error) {\n",
    "                console.error(error);\n",
    "                return;\n",
    "            }\n",
    "            console.log('Datos recibidos del servidor:', datosServidor);\n",
    "            \n",
    "            // 2. Leer archivo con retraso\n",
    "            setTimeout(() => {\n",
    "                leerArchivo(function (error, contenidoArchivo) {\n",
    "                    if (error) {\n",
    "                        console.error('Error al leer el archivo:', error);\n",
    "                        return;\n",
    "                    }\n",
    "                    console.log('Contenido del archivo leído:', contenidoArchivo);\n",
    "\n",
    "                    // 3. Guardar los datos en IndexedDB\n",
    "                    guardarEnIndexedDB(contenidoArchivo + datosServidor, function (error, mensaje) {\n",
    "                        if (error) {\n",
    "                            console.error('Error al guardar en IndexedDB:', error);\n",
    "                            return;\n",
    "                        }\n",
    "                        console.log(mensaje);\n",
    "                        console.log('Todas las operaciones se completaron con éxito.');\n",
    "                    });\n",
    "                });\n",
    "            }, 1000);\n",
    "        });\n",
    "\n",
    "    });\n",
    "\n",
    "});\n",
    "\n",
    "```\n",
    "\n",
    "Podemos ver que las funciones asíncronas aceptan una función de `callback`. Tenemos la función de tratamiento del evento del botón. La de hacer la petición al servidor, que hacemos con `XMLHttpRequest` para no usar promesas. Tenemos un setTimeOut que usamos para retrasar la función que le pasamos, la cual lee un fichero que el usuario ha puesto en un input. Esta función recibe como callback una en la que guardamos el resultado en una base de datos `indexedDB`. Todas son peticiones asíncronas a la API del navegador y necesitan un callback. \n",
    "\n",
    "Como se puede ver, mantener este código puede ser complicado. Después lo volveremos a escribir con `fetch` y con promesas y la sintaxi `async/await`y se demostrará que el código queda más límpio.  "
   ]
  },
  {
   "cell_type": "markdown",
   "metadata": {},
   "source": [
    "## Promesas\n",
    "\n",
    "Las promesas en JavaScript son objetos que representan la eventual finalización (o falla) de una operación asíncrona y su valor resultante. Proporcionan una forma de manejar operaciones asíncronas de manera más manejable y predecible, evitando los problemas del \"callback hell\". A continuación, exploraremos cómo funcionan las promesas y cómo pueden ser utilizadas en diferentes contextos.\n",
    "\n",
    "Una promesa se crea (manualmente) utilizando el constructor `Promise`, que acepta una función ejecutora como argumento. Esta función ejecutora recibe dos funciones como parámetros: `resolve` y `reject`.\n",
    "\n"
   ]
  },
  {
   "cell_type": "code",
   "execution_count": 8,
   "metadata": {},
   "outputs": [
    {
     "name": "stdout",
     "output_type": "stream",
     "text": [
      "\u001b[33m2\u001b[39m\n"
     ]
    },
    {
     "name": "stdout",
     "output_type": "stream",
     "text": [
      "\u001b[33m3\u001b[39m\n"
     ]
    }
   ],
   "source": [
    "(()=>{\n",
    "const promise = new Promise((resolve, reject) => { // Función ejecutora\n",
    "  setTimeout(() => {\n",
    "    if (Math.random() > 0.5) {\n",
    "      resolve(\"Resolving an asynchronous request!\");\n",
    "    } else {\n",
    "      reject(\"Rejecting an asynchronous request!\");\n",
    "    }\n",
    "  }, 2000);\n",
    "});\n",
    "\n",
    "promise.then((response) => { //.then si se resuelve\n",
    "  console.log(response);\n",
    "}).catch((response) => { // .catch si falla\n",
    "  console.log(response);\n",
    "});\n",
    "})();"
   ]
  },
  {
   "cell_type": "markdown",
   "metadata": {},
   "source": [
    "\n",
    "\n",
    "### Estados de las Promesas\n",
    "\n",
    "Las promesas pueden estar en uno de los siguientes estados:\n",
    "\n",
    "1. **Pendiente (Pending)**: Estado inicial, la promesa aún no se ha cumplido ni ha sido rechazada.\n",
    "2. **Cumplida (Fulfilled)**: La operación se completó con éxito y se resolvió la promesa.\n",
    "3. **Rechazada (Rejected)**: La operación falló y la promesa fue rechazada.\n",
    "\n",
    "En el ejemplo anterior, la promesa tiene un 50% de probabilidad de resolverse o rechazarse después de 2 segundos. Dependiendo del resultado, se ejecuta la función correspondiente en `then` o `catch`.\n",
    "\n",
    "### Uso de Promesas\n",
    "\n",
    "#### Promesas Síncronas y Asíncronas\n",
    "\n",
    "Las promesas permiten retornar un objeto de forma síncrona con el que se puede trabajar, representando un valor que puede estar disponible ahora, en el futuro o nunca. Esto permite lanzar peticiones asíncronas sin bloquear la ejecución del código.\n",
    "\n"
   ]
  },
  {
   "cell_type": "code",
   "execution_count": 9,
   "metadata": {},
   "outputs": [
    {
     "name": "stdout",
     "output_type": "stream",
     "text": [
      "Data is being fetched...\n"
     ]
    }
   ],
   "source": [
    "(()=>{\n",
    "function fetchData() {\n",
    "  return new Promise((resolve, reject) => {\n",
    "    setTimeout(() => {\n",
    "      const data = {name: \"John\", age: 30};\n",
    "      resolve(data);\n",
    "    }, 3000);\n",
    "  });\n",
    "}\n",
    "\n",
    "fetchData().then((data) => {\n",
    "  console.log(data);\n",
    "});\n",
    "\n",
    "console.log(\"Data is being fetched...\");\n",
    "})();"
   ]
  },
  {
   "cell_type": "markdown",
   "metadata": {},
   "source": [
    "\n",
    "\n",
    "En este ejemplo, la función `fetchData` retorna una promesa que se resuelve con datos después de 3 segundos. Mientras se espera la resolución de la promesa, el código sigue ejecutándose y se imprime \"Data is being fetched...\".\n",
    "\n",
    "#### Encadenar Promesas\n",
    "\n",
    "El método `then` de las promesas permite encadenar varias operaciones asíncronas de manera secuencial. Esto es útil cuando necesitamos ejecutar una serie de tareas asíncronas una tras otra.\n",
    "\n",
    "```javascript\n",
    "fetchData().then((data) => {\n",
    "  console.log(\"First then:\", data);\n",
    "  return data.name;\n",
    "}).then((name) => {\n",
    "  console.log(\"Second then:\", name);\n",
    "});\n",
    "```\n",
    "\n",
    "En este ejemplo, la segunda llamada a `then` solo se ejecuta después de que la primera promesa se resuelva, garantizando un flujo secuencial de operaciones.\n",
    "\n",
    "#### Manejo de Errores\n",
    "\n",
    "El método `catch` se utiliza para manejar errores que ocurren durante la ejecución de una promesa. Este se puede encadenar después de uno o varios `then`.\n",
    "\n",
    "```javascript\n",
    "fetchData().then((data) => {\n",
    "  console.log(data);\n",
    "  throw new Error(\"Something went wrong!\");\n",
    "}).catch((error) => {\n",
    "  console.log(\"Caught error:\", error.message);\n",
    "});\n",
    "```\n",
    "\n",
    "Aquí, si ocurre algún error en cualquiera de las funciones `then`, será capturado por `catch`.\n",
    "\n",
    "#### Promise.all()\n",
    "\n",
    "El método `Promise.all` permite ejecutar múltiples promesas en paralelo y esperar a que todas se resuelvan antes de continuar. Si alguna de las promesas se rechaza, `Promise.all` también se rechazará.\n",
    "\n"
   ]
  },
  {
   "cell_type": "code",
   "execution_count": 10,
   "metadata": {},
   "outputs": [],
   "source": [
    "(()=>{\n",
    "const promise1 = Promise.resolve(3);\n",
    "const promise2 = 42;\n",
    "const promise3 = new Promise((resolve, reject) => {\n",
    "  setTimeout(resolve, 100, 'foo');\n",
    "});\n",
    "\n",
    "Promise.all([promise1, promise2, promise3]).then((values) => {\n",
    "  console.log(values); // [3, 42, \"foo\"]\n",
    "});\n",
    "\n",
    "})();"
   ]
  },
  {
   "cell_type": "markdown",
   "metadata": {},
   "source": [
    "\n",
    "En este ejemplo, `Promise.all` espera a que todas las promesas se resuelvan y luego imprime los valores resueltos en un array."
   ]
  },
  {
   "cell_type": "markdown",
   "metadata": {},
   "source": [
    "#### Arrays y promesas\n",
    "\n",
    "En ocasiones es necesario recorrer un array y generar una promesa con cada elemento del array. Las situaciones pueden ser distintas, por ejemplo:\n",
    "\n",
    "* **No importa el orden ni si se cumplen las promesas**: Se puede ejecutar un `.forEach()` sobre el array y crear las promesas independientemente. "
   ]
  },
  {
   "cell_type": "code",
   "execution_count": 11,
   "metadata": {},
   "outputs": [],
   "source": [
    "(()=>{\n",
    "const array = [1, 2, 3, 4, 5];\n",
    "\n",
    "array.forEach(item => {\n",
    "  someAsyncFunction(item)\n",
    "    .then(result => {\n",
    "      console.log(`Result for item ${item}:`, result);\n",
    "    })\n",
    "    .catch(error => {\n",
    "      console.error(`Error for item ${item}:`, error);\n",
    "    });\n",
    "});\n",
    "\n",
    "function someAsyncFunction(item) {\n",
    "  return new Promise((resolve, reject) => {\n",
    "    setTimeout(() => {\n",
    "      resolve(`Processed ${item}`);\n",
    "    }, Math.random() * 1000);\n",
    "  });\n",
    "}\n",
    "})();\n"
   ]
  },
  {
   "cell_type": "markdown",
   "metadata": {},
   "source": [
    "\n",
    "\n",
    "* **No importa el orden, pero queremos hacer algo si se cumplen todas**: Podemos transformar el array en un array de promesas con `.map()` y pasarlo a un `Promise.all()`.\n"
   ]
  },
  {
   "cell_type": "code",
   "execution_count": 12,
   "metadata": {},
   "outputs": [],
   "source": [
    "(()=>{\n",
    "const array = [1, 2, 3, 4, 5];\n",
    "\n",
    "const promises = array.map(item => someAsyncFunction(item));\n",
    "\n",
    "Promise.all(promises)\n",
    "  .then(results => {\n",
    "    console.log('All promises resolved:', results);\n",
    "  })\n",
    "  .catch(error => {\n",
    "    console.error('One or more promises rejected:', error);\n",
    "  });\n",
    "\n",
    "function someAsyncFunction(item) {\n",
    "  return new Promise((resolve, reject) => {\n",
    "    setTimeout(() => {\n",
    "      resolve(`Processed ${item}`);\n",
    "    }, Math.random() * 1000);\n",
    "  });\n",
    "}\n",
    "})();"
   ]
  },
  {
   "cell_type": "markdown",
   "metadata": {},
   "source": [
    "\n",
    "* **Las promesas se deben ejecutar en un cierto orden**: No se puede hacer con `.forEach()` ni `.map()`, ya que no trata las promesas correctamente ni async/await. Es mejor usar un `for-of` con `async/await`.    "
   ]
  },
  {
   "cell_type": "code",
   "execution_count": 13,
   "metadata": {},
   "outputs": [],
   "source": [
    "(()=>{\n",
    "const array = [1, 2, 3, 4, 5];\n",
    "\n",
    "async function processArrayInOrder() {\n",
    "  for (const item of array) {\n",
    "    try {\n",
    "      const result = await someAsyncFunction(item);\n",
    "      console.log(`Result for item ${item}:`, result);\n",
    "    } catch (error) {\n",
    "      console.error(`Error for item ${item}:`, error);\n",
    "    }\n",
    "  }\n",
    "}\n",
    "\n",
    "processArrayInOrder();\n",
    "\n",
    "function someAsyncFunction(item) {\n",
    "  return new Promise((resolve, reject) => {\n",
    "    setTimeout(() => {\n",
    "      resolve(`Processed ${item}`);\n",
    "    }, Math.random() * 1000);\n",
    "  });\n",
    "}\n",
    "})();"
   ]
  },
  {
   "cell_type": "markdown",
   "metadata": {},
   "source": [
    "## Async/Await en JavaScript\n",
    "\n",
    "El uso de `async` y `await` en JavaScript ofrece una forma más concisa y legible de trabajar con promesas. Introducida en ECMAScript 2017, esta sintaxis facilita la gestión de operaciones asíncronas, permitiendo escribir código que parece síncrono mientras maneja promesas en segundo plano. \n",
    "\n",
    "Una función definida con la palabra clave `async` automáticamente retorna una promesa. Esto significa que incluso si la función parece devolver un valor regular, en realidad estará devolviendo una promesa que se resuelve con ese valor.\n",
    "\n",
    "El uso de `async` y `await` en JavaScript simplifica la gestión de operaciones asíncronas, proporcionando una sintaxis más limpia y manejable en comparación con el uso tradicional de promesas con `.then()` y `.catch()`. Con la introducción del top-level `await`, ahora es posible manejar operaciones asíncronas de manera aún más directa en el nivel superior de los módulos. \n",
    "\n"
   ]
  },
  {
   "cell_type": "code",
   "execution_count": 14,
   "metadata": {},
   "outputs": [],
   "source": [
    "(()=>{\n",
    "async function getUser() {\n",
    "  const response = await fetch('https://api.github.com/users/octocat');\n",
    "  const data = await response.json();\n",
    "  console.log(data);\n",
    "}\n",
    "\n",
    "// Ejecutar función asíncrona\n",
    "getUser();\n",
    "})();"
   ]
  },
  {
   "cell_type": "markdown",
   "metadata": {},
   "source": [
    "\n",
    "1. **Definición de la función `async`**:\n",
    "   ```javascript\n",
    "   async function getUser() {\n",
    "   ```\n",
    "   Aquí, `async` antes de la función indica que esta función es asíncrona y retornará una promesa.\n",
    "\n",
    "2. **Uso de `await`**:\n",
    "   ```javascript\n",
    "   const response = await fetch('https://api.github.com/users/octocat');\n",
    "   const data = await response.json();\n",
    "   ```\n",
    "   Dentro de una función `async`, se puede usar `await` antes de una promesa para esperar su resolución. En este caso, `await fetch` espera a que la promesa devuelta por `fetch` se resuelva, es decir, que la solicitud HTTP se complete y se reciba una respuesta. Del mismo modo, `await response.json()` espera a que se procese la respuesta en formato JSON.\n",
    "\n",
    "3. **Ejecutar la función asíncrona**:\n",
    "   ```javascript\n",
    "   getUser();\n",
    "   ```\n",
    "   Llamar a `getUser()` ejecuta la función asíncrona. Dado que `getUser` retorna una promesa, se podría encadenar con `.then()` si fuera necesario.\n",
    "\n",
    "### Top-Level Await\n",
    "\n",
    "\n",
    "Introducido en 2024, el top-level `await` permite usar `await` directamente en el nivel superior de los módulos, sin necesidad de envolver el código en una función `async`. Esto simplifica el código y mejora su legibilidad cuando se trabaja con operaciones asíncronas en el contexto global del módulo.\n",
    "\n",
    "\n",
    "```javascript\n",
    "const colors = fetch(\"../data/colors.json\").then((response) => response.json());\n",
    "export default await colors;\n",
    "```\n",
    "1. **Fetch con `await` a nivel superior**:\n",
    "   ```javascript\n",
    "   const colors = fetch(\"../data/colors.json\").then((response) => response.json());\n",
    "   export default await colors;\n",
    "   ```\n",
    "   En este ejemplo, se está utilizando `await` directamente en el nivel superior del módulo para esperar la resolución de la promesa devuelta por `fetch`. Esto permite que `colors` contenga el resultado de la operación asíncrona sin necesidad de definir una función `async`.\n",
    "\n",
    "### Ventajas de `async`/`await`\n",
    "\n",
    "1. **Sintaxis más limpia y legible**:\n",
    "   El código asíncrono escrito con `async`/`await` es más fácil de leer y entender, ya que se parece más a código síncrono. Esto facilita la identificación de la lógica y el flujo del programa.\n",
    "\n",
    "2. **Manejo de errores simplificado**:\n",
    "   Se pueden usar bloques `try/catch` para manejar errores en funciones `async`, lo que proporciona una forma clara y estructurada de gestionar excepciones.\n",
    "\n",
    "   \n"
   ]
  },
  {
   "cell_type": "code",
   "execution_count": 15,
   "metadata": {},
   "outputs": [],
   "source": [
    "(()=>{\n",
    "   async function getUser() {\n",
    "     try {\n",
    "       const response = await fetch('https://api.github.com/users/octocat');\n",
    "       if (!response.ok) throw new Error('Network response was not ok');\n",
    "       const data = await response.json();\n",
    "       console.log(data);\n",
    "     } catch (error) {\n",
    "       console.error('Fetching user failed:', error);\n",
    "     }\n",
    "   }\n",
    "   getUser();\n",
    "   \n",
    "  })();"
   ]
  },
  {
   "cell_type": "markdown",
   "metadata": {},
   "source": [
    "\n",
    "   En este ejemplo, cualquier error que ocurra dentro de la función `getUser` será capturado y manejado en el bloque `catch`.\n",
    "\n",
    "3. **Ejecución secuencial de operaciones asíncronas**:\n",
    "   Utilizando `await`, se puede asegurar que las operaciones asíncronas se ejecuten de manera secuencial, lo cual es útil cuando una operación depende de los resultados de otra.\n",
    "\n",
    "   \n"
   ]
  },
  {
   "cell_type": "code",
   "execution_count": 16,
   "metadata": {},
   "outputs": [],
   "source": [
    "(()=>{\n",
    "async function fetchData() {\n",
    "     const user = await fetch('https://api.github.com/users/octocat').then(res => res.json());\n",
    "     const repos = await fetch(user.repos_url).then(res => res.json());\n",
    "     console.log(repos);\n",
    "   }\n",
    "   fetchData();\n",
    "})();\n"
   ]
  },
  {
   "cell_type": "markdown",
   "metadata": {},
   "source": [
    "\n",
    "   Aquí, la segunda solicitud `fetch` solo se ejecuta después de que la primera solicitud se haya completado y se haya obtenido la URL de los repositorios del usuario.\n",
    "\n",
    "\n"
   ]
  },
  {
   "cell_type": "markdown",
   "metadata": {},
   "source": [
    "Veamos ahora el ejemplo largo del `callback Hell` escrito con `async/await`:\n",
    "\n",
    "```javascript\n",
    "document.addEventListener(\"DOMContentLoaded\", () => {\n",
    "    // 1. Petición al servidor utilizando Fetch y Promesas\n",
    "    async function hacerPeticion(url) {\n",
    "        try {\n",
    "            const respuesta = await fetch(url);\n",
    "            if (!respuesta.ok) {\n",
    "                throw new Error(`Error al hacer la petición a ${url}. Status: ${respuesta.status}`);\n",
    "            }\n",
    "            const datos = await respuesta.json();\n",
    "            return datos;\n",
    "        } catch (error) {\n",
    "            throw error;\n",
    "        }\n",
    "    }\n",
    "    // 2. Leer un archivo del input utilizando Promesas\n",
    "    function leerArchivo() {\n",
    "        return new Promise((resolve, reject) => {\n",
    "            const inputArchivo = document.getElementById('archivoInput');\n",
    "            const archivo = inputArchivo.files[0];\n",
    "            if (!archivo) {\n",
    "                reject(new Error('No se ha seleccionado ningún archivo'));\n",
    "                return;\n",
    "            }\n",
    "            const lector = new FileReader();\n",
    "            lector.onload = function (evento) {\n",
    "                resolve(evento.target.result);\n",
    "            };\n",
    "            lector.onerror = function () {\n",
    "                reject(new Error('Error al leer el archivo'));\n",
    "            };\n",
    "            lector.readAsText(archivo);\n",
    "        });\n",
    "    }\n",
    "    // 3. Guardar los datos en IndexedDB utilizando Promesas\n",
    "    function guardarEnIndexedDB(datos) {\n",
    "        return new Promise((resolve, reject) => {\n",
    "            const solicitudDB = indexedDB.open('miBaseDeDatos', 1);\n",
    "            solicitudDB.onupgradeneeded = function (evento) {\n",
    "                const db = evento.target.result;\n",
    "                db.createObjectStore('archivos', { keyPath: 'id', autoIncrement: true });\n",
    "            };\n",
    "            solicitudDB.onsuccess = function (evento) {\n",
    "                const db = evento.target.result;\n",
    "                const transaccion = db.transaction('archivos', 'readwrite');\n",
    "                const almacen = transaccion.objectStore('archivos');\n",
    "                const solicitudInsertar = almacen.add({ contenido: datos });\n",
    "                solicitudInsertar.onsuccess = function () {\n",
    "                    resolve('Datos guardados correctamente en IndexedDB');\n",
    "                };\n",
    "                solicitudInsertar.onerror = function () {\n",
    "                    reject(new Error('Error al guardar en IndexedDB'));\n",
    "                };\n",
    "            };\n",
    "            solicitudDB.onerror = function () {\n",
    "                reject(new Error('Error al abrir IndexedDB'));\n",
    "            };\n",
    "        });\n",
    "    }\n",
    "\n",
    "    // Manejo del botón y ejecución secuencial de las funciones\n",
    "    document.querySelector(\"#boton\").addEventListener(\"click\", async (event) => {\n",
    "        event.preventDefault();\n",
    "        try {\n",
    "            // 1. Petición al servidor\n",
    "            const datosServidor = await hacerPeticion('http://localhost:5500/datos.json');\n",
    "            console.log('Datos recibidos del servidor:', datosServidor);\n",
    "\n",
    "            // 2. Leer el archivo después de un retraso simulado\n",
    "            await new Promise(resolve => setTimeout(resolve, 1000)); // Retraso de 1 segundo\n",
    "            const contenidoArchivo = await leerArchivo();\n",
    "            console.log('Contenido del archivo leído:', contenidoArchivo);\n",
    "\n",
    "            // 3. Guardar los datos en IndexedDB\n",
    "            const mensaje = await guardarEnIndexedDB(contenidoArchivo + datosServidor);\n",
    "            console.log(mensaje);\n",
    "            console.log('Todas las operaciones se completaron con éxito.');\n",
    "        } catch (error) {\n",
    "            console.error(error.message);\n",
    "        }\n",
    "    });\n",
    "});\n",
    "```\n",
    "\n",
    "El código de las funciones no se ha complicado demasiado. De hecho, el código de la del fetch es mucho más sencillo. Estas funciones retornan una promesa a la que podemos esperar dentro de una función `async` con un `await` y hemos reducido los callback a 1, el del evento del click. "
   ]
  },
  {
   "cell_type": "code",
   "execution_count": null,
   "metadata": {},
   "outputs": [],
   "source": []
  }
 ],
 "metadata": {
  "kernelspec": {
   "display_name": "Deno",
   "language": "typescript",
   "name": "deno"
  },
  "language_info": {
   "codemirror_mode": "typescript",
   "file_extension": ".ts",
   "mimetype": "text/x.typescript",
   "name": "typescript",
   "nbconvert_exporter": "script",
   "pygments_lexer": "typescript",
   "version": "5.4.5"
  }
 },
 "nbformat": 4,
 "nbformat_minor": 2
}