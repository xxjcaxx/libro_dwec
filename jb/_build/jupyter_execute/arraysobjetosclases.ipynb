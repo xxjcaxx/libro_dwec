{
 "cells": [
  {
   "cell_type": "markdown",
   "metadata": {},
   "source": [
    "# Arrays Objetos y clases\n",
    "\n",
    "## Arrays\n",
    "\n",
    "Los arrays en JavaScript son una estructura de datos utilizada para almacenar múltiples valores en una sola variable. Los arrays se definen utilizando corchetes `[]` y los elementos se separan por comas. A diferencia de otros lenguajes como C o Java, no es necesario definir la longitud del array al declararlo. Además, los arrays pueden contener posiciones vacías (empty), y es posible acceder a sus elementos de manera similar a otros lenguajes, utilizando índices. Por ejemplo:\n",
    "\n",
    "```javascript\n",
    "let a = [];\n",
    "a[0] = 1;\n",
    "// Acceder al último elemento:\n",
    "a.at(-1) = 2;\n",
    "```\n",
    "\n",
    "Un array en JavaScript puede contener cualquier tipo de dato, incluyendo otros arrays, objetos o funciones. Esto le otorga una gran flexibilidad. Además, los arrays son objetos en JavaScript y se pueden construir usando el constructor `new`:\n",
    "\n",
    "```javascript\n",
    "var cars = new Array(\"Saab\", \"Volvo\", \"BMW\");\n",
    "```\n",
    "\n",
    "### Métodos y Propiedades de los Arrays\n",
    "\n",
    "Los arrays en JavaScript tienen varias propiedades y métodos interesantes que facilitan su manipulación. A lo largo de este capítulo y en el de programación funcional iremos viendo algunos de ellos. Entre otros:\n",
    "\n",
    "- **length**: Devuelve el número de elementos en el array.\n",
    "- **sort()**: Ordena los elementos del array.\n",
    "- **push()**: Agrega uno o más elementos al final del array.\n",
    "- **pop()**: Elimina y retorna el último elemento del array.\n",
    "\n",
    "Ejemplo de uso:\n",
    "\n"
   ]
  },
  {
   "cell_type": "code",
   "execution_count": 1,
   "metadata": {},
   "outputs": [
    {
     "name": "stdout",
     "output_type": "stream",
     "text": [
      "\u001b[33m3\u001b[39m\n"
     ]
    }
   ],
   "source": [
    "(()=>{\n",
    "let a = [1, 2, 3];\n",
    "console.log(a.length); // 3\n",
    "a.sort();\n",
    "a.push(4); // [1, 2, 3, 4]\n",
    "a.pop(); // [1, 2, 3]\n",
    "a\n",
    "})()"
   ]
  },
  {
   "cell_type": "markdown",
   "metadata": {},
   "source": [
    "### Recorrer Arrays\n",
    "\n",
    "Para iterar sobre los elementos de un array, JavaScript ofrece varias opciones:\n",
    "\n",
    "- **for loop**:\n",
    "\n",
    "```javascript\n",
    "for (let i = 0; i < a.length; i++) {\n",
    "    console.log(a[i]);\n",
    "}\n",
    "```\n",
    "\n",
    "- **for...of loop**:\n",
    "\n",
    "```javascript\n",
    "for (let i of a) {\n",
    "    console.log(i);\n",
    "}\n",
    "```\n",
    "\n",
    "- **forEach**:\n",
    "\n",
    "```javascript\n",
    "a.forEach(i => console.log(i));\n",
    "```\n",
    "\n",
    "- **map** (aunque en este caso, `forEach` es más adecuado para solo imprimir):\n",
    "\n",
    "```javascript\n",
    "a.map(i => console.log(i));\n",
    "```\n",
    "\n",
    "La mejor manera de recorrer los arrays depende de la necesidad: \n",
    "\n",
    "En el primer caso, la sintaxis típica de C, creamos una variable de control del bucle que puede ser útil dentro del bucle. Si es necesaria esa variable o queremos alterar las iteraciones en función de esa variable, puede ser la mejor opción. Se puede detener fácilmente alterando el índice o con `break`. El problema es que esa variable de control hace el código más \"sucio\" y puede molestar. \n",
    "\n",
    "El caso de **for..of** es uno de los más sencillos, ya que no necesitamos la variable de control y sigue siendo ámbito de bloque. Esta sería la mejor opción en casi todos los casos en los que necesitamos recorrer un array completamente y en orden. Se puede detener con `break` y no tiene acceso al índice. \n",
    "\n",
    "**forEach(callback, thisArg)** es como el anterior, pero en este caso creamos una función de callback. Una ventaja es que esta función también acepta el índice y el array. Puede ser útil en programación funcional cuando tenemos una función que ejecutar para cada elemento. El problema es que al pasar una función como callback, el ámbito de la función pasa a ser indefinido y podemos tener problemas con el `this` (`this`no es el array, sino el ámbito en el que se ejecuta, que puede ser un objeto, `Window`, `Global` o `undefined` en modo estricto). Si queremos un ámbito concreto para las funciones de callback se puede usar el argumento `thisArg`. No se puede detener. Normalmente si queremos que se detenga podemos usar `.every()` o `.some()`.\n",
    "\n",
    "El **map** solo se debería usar para retornar una copia modificada del array, como veremos más adelante. Tampoco se puede detener.      \n",
    "\n",
    "### Búsqueda en Arrays\n",
    "\n",
    "JavaScript proporciona métodos útiles para buscar elementos en un array:\n",
    "\n",
    "- **includes()**: Comprueba si un array contiene un determinado elemento.\n",
    "- **find()**: Retorna el primer elemento que cumple con la condición dada.\n",
    "- **findIndex()**: Devuelve el índice del primer elemento que cumple con la condición dada.\n",
    "- **indexOf()**: Devuelve el primer índice en el que se puede encontrar un elemento.\n",
    "- **filter()**: Crea un nuevo array con todos los elementos que cumplen la condición.\n",
    "\n",
    "Ejemplo:\n",
    "\n"
   ]
  },
  {
   "cell_type": "code",
   "execution_count": 2,
   "metadata": {},
   "outputs": [
    {
     "name": "stdout",
     "output_type": "stream",
     "text": [
      "\u001b[33mtrue\u001b[39m\n"
     ]
    },
    {
     "name": "stdout",
     "output_type": "stream",
     "text": [
      "4 foot tail\n"
     ]
    },
    {
     "name": "stdout",
     "output_type": "stream",
     "text": [
      "4 foot tail\n"
     ]
    },
    {
     "name": "stdout",
     "output_type": "stream",
     "text": [
      "\u001b[33m3\u001b[39m\n"
     ]
    },
    {
     "name": "stdout",
     "output_type": "stream",
     "text": [
      "\u001b[33m3\u001b[39m\n"
     ]
    },
    {
     "name": "stdout",
     "output_type": "stream",
     "text": [
      "[ \u001b[33m80\u001b[39m ]\n"
     ]
    }
   ],
   "source": [
    "(()=>{\n",
    "const alligator = [\"thick scales\", 80, \"4 foot tail\", \"rounded snout\"];\n",
    "\n",
    "console.log(alligator.includes(\"thick scales\")); // true\n",
    "console.log(alligator.find(el => el.length < 12)); // '4 foot tail'\n",
    "console.log(alligator.find((el, idx) => typeof el === \"string\" && idx === 2)); // '4 foot tail'\n",
    "console.log(alligator.indexOf(\"rounded snout\")); // 3\n",
    "console.log(alligator.findIndex(el => el == \"rounded snout\")); // 3\n",
    "console.log(alligator.filter(el => el === 80)); // [80]\n",
    "})();"
   ]
  },
  {
   "cell_type": "markdown",
   "metadata": {},
   "source": [
    "### Ordenar Arrays\n",
    "\n",
    "La función `sort()` de los arrays permite ordenarlos. Esta operación muta el array original también lo retorna. Si no queremos mutarlo, podemos usar `toSorted()` o `[...array].sort()`.\n",
    "\n",
    "La función sin argumentos ordena alfabéticamente. Veamos el resultado de ordenar un array diverso:"
   ]
  },
  {
   "cell_type": "code",
   "execution_count": 3,
   "metadata": {},
   "outputs": [
    {
     "name": "stdout",
     "output_type": "stream",
     "text": [
      "[ \u001b[32m\"1\"\u001b[39m, \u001b[33m2\u001b[39m, \u001b[33m3\u001b[39m, \u001b[33m44\u001b[39m, \u001b[33m5\u001b[39m, \u001b[32m\"a\"\u001b[39m ]\n"
     ]
    }
   ],
   "source": [
    "console.log([2,3,44,5,\"1\",\"a\"].sort());"
   ]
  },
  {
   "cell_type": "markdown",
   "metadata": {},
   "source": [
    "Para usar un criterio de ordenación personalizado en JavaScript con la función `.sort()`, hay que pasar una función de comparación. Esta función de comparación debe retornar un número:\n",
    "\n",
    "- Un valor negativo si el primer argumento debe aparecer antes que el segundo.\n",
    "- Un valor positivo si el primer argumento debe aparecer después que el segundo.\n",
    "- Cero si ambos argumentos son iguales y su posición relativa no cambia.\n",
    "\n",
    "Aquí hay un ejemplo de cómo funciona:\n",
    "\n",
    "```javascript\n",
    "const array = [10, 5, 3, 8, 2];\n",
    "\n",
    "// Función de comparación para ordenar de menor a mayor\n",
    "array.sort((a, b) => {\n",
    "  return a - b;\n",
    "});\n",
    "\n",
    "console.log(array); // [2, 3, 5, 8, 10]\n",
    "\n",
    "// Función de comparación para ordenar de mayor a menor\n",
    "array.sort((a, b) => {\n",
    "  return b - a;\n",
    "});\n",
    "\n",
    "console.log(array); // [10, 8, 5, 3, 2]\n",
    "```\n",
    "\n",
    "En este ejemplo, la función de comparación `(a, b) => a - b` ordena los números de menor a mayor. La función `(a, b) => b - a` ordena los números de mayor a menor.\n",
    "\n",
    "Para ordenar objetos en base a una propiedad específica, la función de comparación puede ser como la siguiente:\n",
    "\n",
    "```javascript\n",
    "const items = [\n",
    "  { name: 'Pencil', price: 2 },\n",
    "  { name: 'Notebook', price: 5 },\n",
    "  { name: 'Eraser', price: 1 }\n",
    "];\n",
    "\n",
    "// Ordenar por precio de menor a mayor\n",
    "items.sort((a, b) => {\n",
    "  return a.price - b.price;\n",
    "});\n",
    "\n",
    "console.log(items);\n",
    "// [{ name: 'Eraser', price: 1 }, { name: 'Pencil', price: 2 }, { name: 'Notebook', price: 5 }]\n",
    "\n",
    "// Ordenar por precio de mayor a menor\n",
    "items.sort((a, b) => {\n",
    "  return b.price - a.price;\n",
    "});\n",
    "\n",
    "console.log(items);\n",
    "// [{ name: 'Notebook', price: 5 }, { name: 'Pencil', price: 2 }, { name: 'Eraser', price: 1 }]\n",
    "```\n",
    "\n",
    "No obstante, si los elementos del array no son todos números, debemos evitar hacer la resta. En ese caso se puede usar un operador ternario:"
   ]
  },
  {
   "cell_type": "code",
   "execution_count": 4,
   "metadata": {},
   "outputs": [
    {
     "name": "stdout",
     "output_type": "stream",
     "text": [
      "[\n",
      "  { name: \u001b[32m\"Eraser\"\u001b[39m, price: \u001b[33m1\u001b[39m },\n",
      "  { name: \u001b[32m\"Notebook\"\u001b[39m, price: \u001b[33m5\u001b[39m },\n",
      "  { name: \u001b[32m\"Pencil\"\u001b[39m, price: \u001b[33m2\u001b[39m }\n",
      "]\n"
     ]
    },
    {
     "name": "stdout",
     "output_type": "stream",
     "text": [
      "[\n",
      "  { name: \u001b[32m\"Pencil\"\u001b[39m, price: \u001b[33m2\u001b[39m },\n",
      "  { name: \u001b[32m\"Notebook\"\u001b[39m, price: \u001b[33m5\u001b[39m },\n",
      "  { name: \u001b[32m\"Eraser\"\u001b[39m, price: \u001b[33m1\u001b[39m }\n",
      "]\n"
     ]
    }
   ],
   "source": [
    "(()=>{\n",
    "const items = [\n",
    "    { name: 'Pencil', price: 2 },\n",
    "    { name: 'Notebook', price: 5 },\n",
    "    { name: 'Eraser', price: 1 }\n",
    "  ];\n",
    "  \n",
    "  // Ordenar por nombre alfabéticamente\n",
    "  items.sort((a, b) => {\n",
    "    return a.name > b.name ? 1 : a.name < b.name ? -1 : 0;\n",
    "  });\n",
    "  \n",
    "  console.log(items);\n",
    "  // [{ name: 'Eraser', price: 1 }, { name: 'Notebook', price: 5 }, { name: 'Pencil', price: 2 }]\n",
    "  \n",
    "  // Ordenar por nombre en orden inverso\n",
    "  items.sort((a, b) => {\n",
    "    return a.name < b.name ? 1 : a.name > b.name ? -1 : 0;\n",
    "  });\n",
    "  \n",
    "  console.log(items);\n",
    "  // [{ name: 'Pencil', price: 2 }, { name: 'Notebook', price: 5 }, { name: 'Eraser', price: 1 }]\n",
    "})();"
   ]
  },
  {
   "cell_type": "markdown",
   "metadata": {},
   "source": [
    "Veamos si Javascript nos sabe responder a la clásica pregunta:"
   ]
  },
  {
   "cell_type": "code",
   "execution_count": 5,
   "metadata": {},
   "outputs": [
    {
     "name": "stdout",
     "output_type": "stream",
     "text": [
      "[ \u001b[32m\"🐤\"\u001b[39m, \u001b[32m\"🥚\"\u001b[39m ]\n"
     ]
    }
   ],
   "source": [
    "\n",
    "console.log(['🥚','🐤'].sort());\n"
   ]
  },
  {
   "cell_type": "code",
   "execution_count": 6,
   "metadata": {},
   "outputs": [
    {
     "name": "stdout",
     "output_type": "stream",
     "text": [
      "[ \u001b[32m\"🌍\"\u001b[39m, \u001b[32m\"🌱\"\u001b[39m, \u001b[32m\"🦑\"\u001b[39m, \u001b[32m\"🦣\"\u001b[39m, \u001b[32m\"🫵\"\u001b[39m ]\n"
     ]
    }
   ],
   "source": [
    "\n",
    "console.log(['🦑','🌱','🦣','🫵','🌍'].sort());"
   ]
  },
  {
   "cell_type": "markdown",
   "metadata": {},
   "source": [
    "\n",
    "\n",
    "### Otras Operaciones en Arrays\n",
    "\n",
    "Existen varios métodos adicionales para manipular arrays en JavaScript:\n",
    "\n",
    "- **splice()**: Permite eliminar elementos o agregar nuevos a partir de una posición específica (modifica el array).\n",
    "- **slice()**: Extrae una porción del array sin modificarlo, retorna un nuevo array.\n",
    "- **flat()**: Convierte un array multidimensional en un array de menos dimensiones.\n",
    "- **flatMap()**: Aplica una función a cada elemento y aplana una dimensión del array.\n",
    "- **join()**: Transforma un array en una cadena.\n",
    "- **split()**: Transforma una cadena en un array.\n",
    "- **fill()**: Llena un array con un valor específico.\n",
    "\n",
    "![otrosarrays](./imgs/otrosarrays.png \"otrosarrays\")\n",
    "\n",
    "Ejemplo de uso:\n",
    "\n"
   ]
  },
  {
   "cell_type": "code",
   "execution_count": 7,
   "metadata": {},
   "outputs": [
    {
     "name": "stdout",
     "output_type": "stream",
     "text": [
      "[ \u001b[33m1\u001b[39m, \u001b[33m2\u001b[39m, \u001b[33m4\u001b[39m, \u001b[33m5\u001b[39m ]\n"
     ]
    },
    {
     "name": "stdout",
     "output_type": "stream",
     "text": [
      "[ \u001b[33m2\u001b[39m, \u001b[33m4\u001b[39m ]\n"
     ]
    },
    {
     "name": "stdout",
     "output_type": "stream",
     "text": [
      "[ \u001b[33m1\u001b[39m, \u001b[33m2\u001b[39m, \u001b[33m3\u001b[39m, \u001b[33m4\u001b[39m ]\n"
     ]
    },
    {
     "name": "stdout",
     "output_type": "stream",
     "text": [
      "[ \u001b[33m1\u001b[39m, \u001b[33m2\u001b[39m, \u001b[33m2\u001b[39m, \u001b[33m4\u001b[39m, \u001b[33m3\u001b[39m, \u001b[33m6\u001b[39m ]\n"
     ]
    },
    {
     "name": "stdout",
     "output_type": "stream",
     "text": [
      "1-2-4-5\n"
     ]
    },
    {
     "name": "stdout",
     "output_type": "stream",
     "text": [
      "[ \u001b[32m\"Hello\"\u001b[39m, \u001b[32m\"World\"\u001b[39m ]\n"
     ]
    },
    {
     "name": "stdout",
     "output_type": "stream",
     "text": [
      "[ \u001b[33m1\u001b[39m, \u001b[33m0\u001b[39m, \u001b[33m0\u001b[39m, \u001b[33m5\u001b[39m ]\n"
     ]
    },
    {
     "name": "stdout",
     "output_type": "stream",
     "text": [
      "[ \u001b[33m1\u001b[39m, \u001b[33m0\u001b[39m, \u001b[33m0\u001b[39m, \u001b[90m<1 empty item>\u001b[39m ]\n"
     ]
    }
   ],
   "source": [
    "\n",
    "let array = [1, 2, 3, 4, 5];\n",
    "\n",
    "// splice\n",
    "array.splice(2, 1); // Elimina un elemento desde la posición 2\n",
    "console.log(array); // [1, 2, 4, 5]\n",
    "\n",
    "// slice\n",
    "let newArray = array.slice(1, 3);\n",
    "console.log(newArray); // [2, 4]\n",
    "\n",
    "// flat\n",
    "let multiArray = [1, [2, [3, 4]]];\n",
    "console.log(multiArray.flat(2)); // [1, 2, 3, 4]\n",
    "\n",
    "// flatMap\n",
    "let mapArray = [1, 2, 3];\n",
    "console.log(mapArray.flatMap(x => [x, x * 2])); // [1, 2, 2, 4, 3, 6]\n",
    "\n",
    "// join\n",
    "console.log(array.join('-')); // \"1-2-4-5\"\n",
    "\n",
    "// split\n",
    "let str = \"Hello World\";\n",
    "let strArray = str.split(' ');\n",
    "console.log(strArray); // [\"Hello\", \"World\"]\n",
    "\n",
    "// fill\n",
    "array.fill(0, 1, 3); // Llena con 0 desde la posición 1 hasta la 3\n",
    "console.log(array); // [1, 0, 0, 5]\n",
    "\n",
    "// delete\n",
    "delete array[3]; // Deja un empty\n",
    "console.log(array); // [1, 0, 0, empty]\n"
   ]
  },
  {
   "cell_type": "markdown",
   "metadata": {},
   "source": [
    "### Mutabilidad de los arrays\n",
    "\n",
    "En Javascript, los arrays son mutables. Esto quiere decir que se puede alterar su contenido. No siempre nos interesa mutar un array cuando queremos obtener un resultado de él. \n",
    "\n",
    "#### Métodos que mutan el array\n",
    "\n",
    "*  `Array.prototype.copyWithin()`\n",
    "*  `Array.prototype.fill()`\n",
    "*  `Array.prototype.pop()`\n",
    "*  `Array.prototype.push()`\n",
    "*  `Array.prototype.reverse()`\n",
    "*  `Array.prototype.shift()`\n",
    "*  `Array.prototype.sort()`\n",
    "*  `Array.prototype.splice()`\n",
    "*  `Array.prototype.unshift()`\n",
    "\n",
    "#### Métodos que no mutan el array\n",
    "\n",
    "*  `Array.prototype.concat()`\n",
    "*  `Array.prototype.includes()`\n",
    "*  `Array.prototype.indexOf()`\n",
    "*  `Array.prototype.join()`\n",
    "*  `Array.prototype.keys()`\n",
    "*  `Array.prototype.lastIndexOf()`\n",
    "*  `Array.prototype.map()`\n",
    "*  `Array.prototype.reduce()`\n",
    "*  `Array.prototype.reduceRight()`\n",
    "*  `Array.prototype.slice()`\n",
    "*  `Array.prototype.some()`\n",
    "*  `Array.prototype.toLocaleString()`\n",
    "*  `Array.prototype.toString()`\n",
    "*  `Array.prototype.values()`\n",
    "*  `Array.prototype.every()`\n",
    "*  `Array.prototype.filter()`\n",
    "*  `Array.prototype.find()`\n",
    "*  `Array.prototype.findIndex()`\n",
    "*  `Array.prototype.flat()`\n",
    "*  `Array.prototype.flatMap()`\n",
    "*  `Array.prototype.forEach()`\n",
    "*  `Array.prototype.entries()`\n",
    "* Alternativas modernas no mutables:\n",
    "    * `Array.prototype.toSorted()`\n",
    "    * `Array.prototype.toReverse()`\n",
    "    * `Array.prototype.toSpliced()`\n",
    "\n",
    "En esta tabla se muestran algunos métodos que mutan con una alternativa. En algunos casos, la alternativa puede ser hacer una copia con `[...array]` sobre la que aplicar el método:\n",
    "\n",
    "| Método que muta el array        | Método que no muta el array   |\n",
    "|---------------------------------|-------------------------------|\n",
    "| `push()`                        | `concat()`                    |\n",
    "| `pop()`                         | `slice(0, -1)` (o similar)    |\n",
    "| `shift()`                       | `slice(1)`                    |\n",
    "| `unshift()`                     | `[...newElements, ...arr]`    |\n",
    "| `splice()`                      | `slice()` (para obtener) / `concat()` (para combinar) |\n",
    "| `sort()`                        | `[...arr].sort()` o `.toSorted()`             |\n",
    "| `reverse()`                     | `[...arr].reverse()` o `toReversed()`          |\n",
    "| `fill()`                        | `[...arr].fill()`             |\n",
    "| `copyWithin()`                  | `[...arr].copyWithin()`       |\n",
    "\n",
    "* Ejercicios simples con Arrays: https://jsfiddle.net/xxjcaxx/b6sc85wx/10/\n",
    "* Ejercicio con Arrays sobre el ajedrez: https://jsfiddle.net/xxjcaxx/3286hn4L/24/ "
   ]
  },
  {
   "cell_type": "markdown",
   "metadata": {},
   "source": [
    "## Objetos en JavaScript\n",
    "\n",
    "JavaScript siempre ha soportado objetos, aunque no de la manera tradicional de las clases como en otros lenguajes orientados a objetos. Un objeto en JavaScript es similar a un array, pero en lugar de estar indexado por números, está indexado por nombres (similar a un array asociativo en PHP o un diccionario en Python). Los objetos permiten almacenar colecciones de datos y funcionalidades relacionadas.\n",
    "\n",
    "Se puede acceder a los atributos de un objeto utilizando la notación de punto `.` o corchetes `[]`.\n",
    "\n",
    "```javascript\n",
    "let persona = {\n",
    "    nombre: ['Bob', 'Smith'],\n",
    "    edad: 32,\n",
    "    genero: 'masculino',\n",
    "    intereses: ['música', 'esquí'],\n",
    "    bio: function () {\n",
    "        alert(this.nombre[0] + ' ' + this.nombre[1] + ' tiene ' + this.edad + ' años. Le gusta ' + this.intereses[0] + ' y ' + this.intereses[1] + '.');\n",
    "    }\n",
    "};\n",
    "```\n",
    "\n",
    "En este ejemplo, `persona` es un objeto con varias propiedades: `nombre`, `edad`, `genero`, `intereses` y `bio`. La propiedad `bio` es una función (método) que puede acceder a otras propiedades del objeto usando `this`.\n",
    "\n",
    "Se puede acceder a las propiedades de un objeto dentro de otro objeto encadenando los puntos o los corchetes:\n",
    "```javascript\n",
    "let descripcion = alumno.ciclo?.descripcion;\n",
    "```\n",
    "En el ejemplo hemos usado `?` para evitar el error al intentar acceder a un atributo dentro de uno que no existe. El resultado sería `undefined`. \n",
    "\n",
    "### Iterar sobre las Propiedades de un Objeto\n",
    "\n",
    "Para recorrer las propiedades de un objeto, se puede utilizar el bucle `for...in`.\n",
    "\n",
    "```javascript\n",
    "let user = {\n",
    "    name: \"John\",\n",
    "    age: 30,\n",
    "    isAdmin: true\n",
    "};\n",
    "\n",
    "for (let key in user) {\n",
    "    // keys\n",
    "    alert(key);  // name, age, isAdmin\n",
    "    // values for the keys\n",
    "    alert(user[key]); // John, 30, true\n",
    "}\n",
    "```\n",
    "\n",
    "En este ejemplo, el bucle `for...in` recorre todas las propiedades del objeto `user`, mostrando tanto las claves (keys) como los valores asociados a esas claves.\n",
    "\n",
    "Además, se puede comprobar si una propiedad existe en un objeto utilizando el operador `in`.\n",
    "\n",
    "```javascript\n",
    "let user = { name: \"John\", age: 30 };\n",
    "alert(\"age\" in user); // true, user.age exists\n",
    "alert(\"blabla\" in user); // false, user.blabla doesn't exist\n",
    "```\n",
    "\n",
    "> Además de for..in, podemos usar las funciones estáticas del objeto Object como `Object.values()`, `Object.keys()` o `Object.entries()` para convertirlo en un array e iterar con `for..of`, `.map()`, `.forEach()`...\n",
    "\n",
    "### Objetos Predefinidos en JavaScript\n",
    "\n",
    "Antes de entrar en más detalle sobre los objetos, vamos a repasar objetos predefinidos en Javascript que tenemos disponibles.\n",
    "\n",
    "#### String\n",
    "\n",
    "El objeto `String` tiene varias funciones importantes:\n",
    "\n",
    "- **toLowerCase()**: Convierte una cadena a minúsculas.\n",
    "- **concat()**: Concatena dos o más cadenas.\n",
    "- **charAt()**: Devuelve el carácter en el índice especificado.\n",
    "- **indexOf(text, [index])**: Devuelve el índice de la primera aparición del texto.\n",
    "- **lastIndexOf(text, [index])**: Devuelve el índice de la última aparición del texto.\n",
    "- **replace(text1, text2)**: Reemplaza text1 con text2 en la cadena.\n",
    "- **split(caracter, [trozos])**: Separa la cadena por un carácter separador, retorna un array. Si se define trozos, indica la cantidad máxima de trozos.\n",
    "- **substring(inicio, [fin])**: Devuelve la subcadena dada un principio y un posible fin.\n",
    "\n",
    "#### Date\n",
    "\n",
    "El objeto `Date` se utiliza para trabajar con fechas y horas.\n",
    "\n",
    "```javascript\n",
    "// Crea una fecha con la fecha y hora del sistema\n",
    "var d = new Date();\n",
    "// Crea una fecha con una cadena\n",
    "d = new Date(\"October 13, 2014 11:13:00\");\n",
    "// Crea una fecha con año, mes, día, hora, minutos, segundos, milisegundos\n",
    "d = new Date(99, 5, 24, 11, 33, 30, 0);\n",
    "// Crea una fecha con año, mes y día\n",
    "d = new Date(99, 5, 24);\n",
    "```\n",
    "\n",
    "Funciones importantes del objeto `Date`:\n",
    "\n",
    "- **setMonth(mes)**, **getMonth()**\n",
    "- **setDate(dia)**, **getDate()**\n",
    "- **setHours(hora, minut, segundo)**, **getHours()**, etc.\n",
    "- **getDay()**: Devuelve el día de la semana (0 al 6).\n",
    "- **toDateString()**: Convierte la fecha a una cadena.\n",
    "- **toGMTString()**: Convierte la fecha a una cadena en formato GMT.\n",
    "- **toUTCString()**: Convierte la fecha a una cadena en formato UTC.\n",
    "\n",
    "#### Array\n",
    "\n",
    "El objeto `Array` tiene varios métodos interesantes:\n",
    "\n",
    "- **join([separador])**: Crea una cadena con los elementos del array utilizando un separador.\n",
    "- **push(element, element2,...)**: Añade elementos al final.\n",
    "- **pop()**: Elimina el último elemento.\n",
    "- **reverse()**: Invierte el array.\n",
    "- **sort()**: Ordena alfabéticamente.\n",
    "- **slice(inicio, [final])**: Devuelve los elementos entre un inicio y un final.\n",
    "\n",
    "#### Math\n",
    "\n",
    "El objeto `Math` contiene funciones útiles para operaciones matemáticas.\n",
    "\n",
    "Constantes importantes:\n",
    "\n",
    "- **E**\n",
    "- **PI**\n",
    "- **LN2** (logaritmo natural de 2)\n",
    "- **LN10**\n",
    "- **LOG2E** (logaritmo en base 2 de E)\n",
    "- **LOG10E**\n",
    "\n",
    "Funciones de redondeo:\n",
    "\n",
    "- **floor()**: Redondea hacia abajo.\n",
    "- **ceil()**: Redondea hacia arriba.\n",
    "- **round()**: Redondea al entero más cercano.\n",
    "\n",
    "Funciones matemáticas:\n",
    "\n",
    "- **abs()**: Valor absoluto.\n",
    "- **max(x, y)**: Devuelve el mayor de los valores.\n",
    "- **min(x, y)**: Devuelve el menor de los valores.\n",
    "- **pow(x, y)**: Potencia de x elevado a y.\n",
    "- **random()**: Número aleatorio entre 0 y 1.\n",
    "- **sqrt()**: Raíz cuadrada.\n",
    "\n",
    "#### Otros Objetos Predefinidos\n",
    "\n",
    "Nativos:\n",
    "\n",
    "- **String**\n",
    "- **Number**: .isNaN, .parseInt, .parseFloat .isFinite...\n",
    "- **Boolean**\n",
    "- **Date**\n",
    "- **RegExp**\n",
    "- **Array**\n",
    "- **Function**\n",
    "- **Object**\n",
    "\n",
    "De alto nivel (dependen del navegador):\n",
    "\n",
    "- **Window**\n",
    "- **Screen**\n",
    "- **Navigator**\n",
    "- **Location**\n",
    "- **History**\n",
    "- **Document**\n"
   ]
  },
  {
   "cell_type": "markdown",
   "metadata": {},
   "source": [
    "## Clases en JavaScript\n",
    "\n",
    "Antes de la introducción de ES6, las clases en JavaScript se creaban utilizando funciones constructoras. Esta técnica sigue siendo utilizada. Con ES6, se incorporó la palabra clave `class`, que se asemeja más a la sintaxis de otros lenguajes de programación orientados a objetos. Sin embargo, es importante entender que JavaScript no funciona exactamente con clases en el sentido tradicional, sino con prototipos.\n",
    "\n",
    "JavaScript siempre ha tenido objetos, pero no clases de la forma tradicional que se encuentran en otros lenguajes como Java o C++. Las clases en ES6 no tienen atributos y métodos privados de manera directa; esto se maneja mediante `closures`. En las nuevas versiones ya se permite declarar atributos privados con #. En JavaScript, las clases son más una técnica de programación que una funcionalidad del lenguaje.\n",
    "\n",
    "En este apartado vamos a ver lo que realmente son las clases, explicando cómo se crean con funciones constructoras, aunque sabemos que hoy en dia se puede usar `class`. \n",
    "\n",
    "\n",
    "### Creación de Objetos con Funciones Constructoras\n",
    "\n",
    "Una función constructora es una plantilla para crear nuevos objetos. Veamos un ejemplo:\n"
   ]
  },
  {
   "cell_type": "code",
   "execution_count": 8,
   "metadata": {},
   "outputs": [],
   "source": [
    "(()=>{\n",
    "function Apple(type) {\n",
    "    this.type = type;\n",
    "    this.color = \"red\";\n",
    "    this.getInfo = function() {\n",
    "        return this.color + ' ' + this.type + ' apple';\n",
    "    };\n",
    "}\n",
    "})();"
   ]
  },
  {
   "cell_type": "markdown",
   "metadata": {},
   "source": [
    "\n",
    "En este ejemplo, hemos declarado una función constructora llamada `Apple`. Esta función toma un parámetro `type` y establece las propiedades `type` y `color` en el nuevo objeto. También define un método `getInfo` que retorna una cadena con la información del objeto.\n",
    "\n",
    "Para crear una instancia de `Apple`, se utiliza el operador `new`:\n"
   ]
  },
  {
   "cell_type": "code",
   "execution_count": 9,
   "metadata": {},
   "outputs": [
    {
     "name": "stdout",
     "output_type": "stream",
     "text": [
      "red Granny Smith apple\n"
     ]
    }
   ],
   "source": [
    "(()=>{\n",
    "function Apple(type) {\n",
    "    this.type = type;\n",
    "    this.color = \"red\";\n",
    "    this.getInfo = function() {\n",
    "        return this.color + ' ' + this.type + ' apple';\n",
    "    };\n",
    "}\n",
    "let myApple = new Apple(\"Granny Smith\");\n",
    "console.log(myApple.getInfo()); // \"red Granny Smith apple\"\n",
    "})();"
   ]
  },
  {
   "cell_type": "markdown",
   "metadata": {},
   "source": [
    "Al utilizar `new`, la función constructora `Apple` es invocada, creando un nuevo objeto con las propiedades y métodos definidos en la función.\n",
    "\n",
    "### Métodos en el Prototipo\n",
    "\n",
    "Para hacer el código más eficiente, es posible definir métodos en el prototipo de la función constructora en lugar de definirlos dentro de la propia función. Esto evita recrear la función cada vez que se crea un nuevo objeto:\n",
    "\n",
    "En este caso, `getInfo` se define en el prototipo de `Apple`. Esto significa que todas las instancias de `Apple` comparten la misma función `getInfo`, en lugar de tener su propia copia. Esto es más eficiente en términos de memoria y rendimiento.\n"
   ]
  },
  {
   "cell_type": "code",
   "execution_count": 10,
   "metadata": {},
   "outputs": [
    {
     "name": "stdout",
     "output_type": "stream",
     "text": [
      "red Granny Smith apple\n"
     ]
    }
   ],
   "source": [
    "(()=>{\n",
    "function Apple(type) {\n",
    "    this.type = type;\n",
    "    this.color = \"red\";\n",
    "}\n",
    "\n",
    "Apple.prototype.getInfo = function() {\n",
    "    return this.color + ' ' + this.type + ' apple';\n",
    "};\n",
    "\n",
    "let myApple = new Apple(\"Granny Smith\");\n",
    "console.log(myApple.getInfo()); // \"red Granny Smith apple\"\n",
    "})();"
   ]
  },
  {
   "cell_type": "markdown",
   "metadata": {},
   "source": [
    "### Objetos Literales\n",
    "\n",
    "Los objetos literales permiten crear objetos de manera más sencilla y directa. Veamos un ejemplo:\n",
    "\n",
    "```javascript\n",
    "var apple = {\n",
    "    type: \"macintosh\",\n",
    "    color: \"red\",\n",
    "    getInfo: function() {\n",
    "        return this.color + ' ' + this.type + ' apple';\n",
    "    }\n",
    "};\n",
    "```\n",
    "\n",
    "Este objeto `apple` se crea directamente con sus propiedades y métodos. A veces se le llama \"singleton\" porque es una única instancia de un objeto.\n",
    "\n",
    "Para crear nuevas instancias a partir de un objeto literal, se puede utilizar `Object.create()`:\n",
    "\n",
    "```javascript\n",
    "var anotherApple = Object.create(apple);\n",
    "console.log(anotherApple.getInfo()); // \"red macintosh apple\"\n",
    "```\n",
    "\n",
    "> Sin embargo, no es recomendable usar objetos literales para crear múltiples instancias, ya que todas ellas serían instancias directas de `Object`."
   ]
  },
  {
   "cell_type": "markdown",
   "metadata": {},
   "source": [
    "### Singleton con una Función\n",
    "\n",
    "Un singleton se puede crear utilizando una función anónima invocada con `new`:\n",
    "\n",
    "```javascript\n",
    "var apple = new function() {\n",
    "    this.type = \"macintosh\";\n",
    "    this.color = \"red\";\n",
    "    this.getInfo = function() {\n",
    "        return this.color + ' ' + this.type + ' apple';\n",
    "    };\n",
    "};\n",
    "```\n",
    "\n",
    "El uso de `new function()` hace dos cosas: define una función anónima y la invoca inmediatamente con `new`, creando así un singleton. Este enfoque garantiza que solo haya una instancia del objeto."
   ]
  },
  {
   "cell_type": "markdown",
   "metadata": {},
   "source": [
    "## Prototipos en JavaScript\n",
    "\n",
    "En JavaScript, todos los objetos tienen un prototipo. Un prototipo es también un objeto, y a su vez, tiene su propio prototipo. Este concepto crea una cadena de prototipos, conocida como *prototype chain*. A través de los prototipos, un objeto puede delegar propiedades y métodos a otros objetos, permitiendo la reutilización de código y la herencia.\n",
    "\n",
    "Lectura recomendada:\n",
    "* https://developer.mozilla.org/es/docs/Web/JavaScript/Inheritance_and_the_prototype_chain\n",
    "\n",
    "### La Cadena de Prototipos (Prototype Chain)\n",
    "\n",
    "Todos los objetos en JavaScript están conectados a un prototipo común llamado `Object`. Esto permite que los objetos hereden propiedades y métodos definidos en `Object.prototype`.\n"
   ]
  },
  {
   "cell_type": "code",
   "execution_count": 11,
   "metadata": {},
   "outputs": [
    {
     "name": "stdout",
     "output_type": "stream",
     "text": [
      "[object Object]\n"
     ]
    }
   ],
   "source": [
    "(()=>{\n",
    "let homework = {\n",
    "    topic: \"JS\"\n",
    "};\n",
    "console.log(homework.toString()); // [object Object]\n",
    "})()"
   ]
  },
  {
   "cell_type": "markdown",
   "metadata": {},
   "source": [
    "\n",
    "En el ejemplo anterior, el objeto `homework` no tiene una propiedad o método `toString`. Sin embargo, JavaScript lo encuentra en `Object.prototype`, lo que permite llamar a `homework.toString()`.\n",
    "\n",
    "#### Vínculo de Objetos (Object Linkage)\n",
    "\n",
    "Se pueden crear nuevos objetos que hereden de otros objetos utilizando `Object.create()`. Esto permite crear una cadena de prototipos donde el objeto hijo puede acceder a las propiedades y métodos del objeto padre.\n",
    "\n"
   ]
  },
  {
   "cell_type": "code",
   "execution_count": 12,
   "metadata": {},
   "outputs": [
    {
     "name": "stdout",
     "output_type": "stream",
     "text": [
      "JS\n"
     ]
    }
   ],
   "source": [
    "(()=>{\n",
    "let homework = {\n",
    "    topic: \"JS\"\n",
    "};\n",
    "var otherHomework = Object.create(homework);\n",
    "console.log(otherHomework.topic); // \"JS\"\n",
    "})()"
   ]
  },
  {
   "cell_type": "markdown",
   "metadata": {},
   "source": [
    "\n",
    "En este ejemplo, `otherHomework` hereda la propiedad `topic` de `homework` a través de la cadena de prototipos.\n",
    "\n",
    "##### Prototype en Objetos y Funciones\n",
    "\n",
    "Las funciones en JavaScript tienen una propiedad llamada `.prototype`, que es un objeto con una propiedad `constructor` (que apunta a la propia función) y un prototipo que es `Object`.\n",
    "\n"
   ]
  },
  {
   "cell_type": "code",
   "execution_count": 13,
   "metadata": {},
   "outputs": [
    {
     "name": "stdout",
     "output_type": "stream",
     "text": [
      "red Granny Smith apple\n"
     ]
    }
   ],
   "source": [
    "(()=>{\n",
    "function Apple(type) {\n",
    "    this.type = type;\n",
    "    this.color = \"red\";\n",
    "}\n",
    "\n",
    "Apple.prototype.getInfo = function() {\n",
    "    return this.color + ' ' + this.type + ' apple';\n",
    "};\n",
    "\n",
    "let myApple = new Apple(\"Granny Smith\");\n",
    "console.log(myApple.getInfo()); // \"red Granny Smith apple\"\n",
    "})()"
   ]
  },
  {
   "cell_type": "markdown",
   "metadata": {},
   "source": [
    "\n",
    "Cuando se crea un nuevo objeto utilizando `new Apple(\"Granny Smith\")`, este objeto hereda las propiedades y métodos definidos en `Apple.prototype`."
   ]
  },
  {
   "cell_type": "markdown",
   "metadata": {},
   "source": [
    "\n",
    "\n",
    "Los objetos creados con literales o con `new` no tienen una propiedad `.prototype`, pero se puede acceder a su prototipo utilizando `Object.getPrototypeOf(objeto)`.\n",
    "\n"
   ]
  },
  {
   "cell_type": "code",
   "execution_count": 14,
   "metadata": {},
   "outputs": [
    {
     "name": "stdout",
     "output_type": "stream",
     "text": [
      "[Object: null prototype] {}\n"
     ]
    }
   ],
   "source": [
    "let obj = {};\n",
    "console.log(Object.getPrototypeOf(obj));"
   ]
  },
  {
   "cell_type": "markdown",
   "metadata": {},
   "source": [
    "\n",
    "##### Prototype en Objetos Predefinidos\n",
    "\n",
    "Es posible extender los prototipos de objetos predefinidos como `String`, `Array`, y `Object` añadiendo métodos adicionales. Esto permite que todos los objetos de ese tipo en la aplicación tengan acceso a los nuevos métodos. Sin embargo, esta práctica puede ser peligrosa en aplicaciones grandes o cuando se utilizan múltiples bibliotecas, ya que puede causar conflictos.\n",
    "\n",
    "Por ejemplo, se puede añadir un método a `Array.prototype`:\n",
    "\n"
   ]
  },
  {
   "cell_type": "code",
   "execution_count": 15,
   "metadata": {},
   "outputs": [
    {
     "name": "stdout",
     "output_type": "stream",
     "text": [
      "\u001b[33m1\u001b[39m\n"
     ]
    },
    {
     "name": "stdout",
     "output_type": "stream",
     "text": [
      "\u001b[33m2\u001b[39m\n"
     ]
    },
    {
     "name": "stdout",
     "output_type": "stream",
     "text": [
      "\u001b[33m3\u001b[39m\n"
     ]
    },
    {
     "name": "stdout",
     "output_type": "stream",
     "text": [
      "\u001b[33m4\u001b[39m\n"
     ]
    }
   ],
   "source": [
    "Array.prototype.forEachLog = function() {\n",
    "    for (let i of this) {\n",
    "        console.log(i);\n",
    "    }\n",
    "};\n",
    "\n",
    "let a = [1, 2, 3, 4];\n",
    "a.forEachLog();\n",
    "// Output: 1 2 3 4"
   ]
  },
  {
   "cell_type": "markdown",
   "metadata": {},
   "source": [
    "\n",
    "Aunque esta técnica puede ser útil, también puede llevar a problemas de compatibilidad y mantenimiento en aplicaciones complejas. \n",
    "\n",
    "Una alternativa más segura es usar `Object.defineProperty` para definir métodos no enumerables, lo que evita que el método sea iterado en un bucle `for...in`:\n",
    "\n"
   ]
  },
  {
   "cell_type": "code",
   "execution_count": 16,
   "metadata": {},
   "outputs": [
    {
     "name": "stdout",
     "output_type": "stream",
     "text": [
      "\u001b[33m1\u001b[39m\n"
     ]
    },
    {
     "name": "stdout",
     "output_type": "stream",
     "text": [
      "\u001b[33m2\u001b[39m\n"
     ]
    },
    {
     "name": "stdout",
     "output_type": "stream",
     "text": [
      "\u001b[33m3\u001b[39m\n"
     ]
    },
    {
     "name": "stdout",
     "output_type": "stream",
     "text": [
      "\u001b[33m4\u001b[39m\n"
     ]
    },
    {
     "name": "stdout",
     "output_type": "stream",
     "text": [
      "0\n"
     ]
    },
    {
     "name": "stdout",
     "output_type": "stream",
     "text": [
      "1\n"
     ]
    },
    {
     "name": "stdout",
     "output_type": "stream",
     "text": [
      "2\n"
     ]
    },
    {
     "name": "stdout",
     "output_type": "stream",
     "text": [
      "3\n"
     ]
    }
   ],
   "source": [
    "Object.defineProperty(Array.prototype, 'forEachLog', {\n",
    "    value: function() {\n",
    "        for (let i of this) {\n",
    "            console.log(i);\n",
    "        }\n",
    "    },\n",
    "    enumerable: false\n",
    "});\n",
    "\n",
    "//Esto asegura que `forEachLog` no aparezca en iteraciones `for...in`:\n",
    "\n",
    "\n",
    "let a = [1, 2, 3, 4];\n",
    "a.forEachLog(); // Output: 1 2 3 4\n",
    "\n",
    "for (let key in a) {\n",
    "    console.log(key); // Output: 0 1 2 3\n",
    "}"
   ]
  },
  {
   "cell_type": "markdown",
   "metadata": {},
   "source": [
    "En cualquier caso es una práctica no recomendada y fácilmente sustituible con técnicas de programación funcional. "
   ]
  },
  {
   "cell_type": "markdown",
   "metadata": {},
   "source": [
    "## Manipulación y Copia de Objetos\n",
    "\n",
    "### Copia de Objetos\n",
    "\n",
    "En ES6, copiar objetos y arrays se puede realizar de manera sencilla utilizando el operador de propagación (spreading). Este operador permite crear copias superficiales de objetos y arrays.\n",
    "\n",
    "### Copia Superficial con Spreading\n",
    "\n"
   ]
  },
  {
   "cell_type": "code",
   "execution_count": 17,
   "metadata": {},
   "outputs": [
    {
     "name": "stdout",
     "output_type": "stream",
     "text": [
      "{ a: \u001b[33m1\u001b[39m, b: \u001b[33m2\u001b[39m }\n"
     ]
    },
    {
     "name": "stdout",
     "output_type": "stream",
     "text": [
      "[ \u001b[33m1\u001b[39m, \u001b[33m2\u001b[39m, \u001b[33m3\u001b[39m ]\n"
     ]
    }
   ],
   "source": [
    "//Para copiar un objeto, se usa el siguiente formato:\n",
    "\n",
    "const originalObject = { a: 1, b: 2 };\n",
    "const copyOfObject = { ...originalObject };\n",
    "console.log(copyOfObject); // { a: 1, b: 2 }\n",
    "\n",
    "//Para copiar un array, se usa el mismo operador:\n",
    "\n",
    "const originalArray = [1, 2, 3];\n",
    "const copyOfArray = [...originalArray];\n",
    "console.log(copyOfArray); // [1, 2, 3]"
   ]
  },
  {
   "cell_type": "markdown",
   "metadata": {},
   "source": [
    "\n",
    "\n",
    "### Uso del Operador Rest\n",
    "\n",
    "El operador de propagación (`...`) también se puede utilizar como operador Rest, con la intención opuesta: recoger el resto de los elementos. Esto es útil tanto en objetos como en funciones.\n"
   ]
  },
  {
   "cell_type": "code",
   "execution_count": 18,
   "metadata": {},
   "outputs": [
    {
     "name": "stdout",
     "output_type": "stream",
     "text": [
      "\u001b[33m1\u001b[39m\n"
     ]
    },
    {
     "name": "stdout",
     "output_type": "stream",
     "text": [
      "{ b: \u001b[33m2\u001b[39m, c: \u001b[33m3\u001b[39m }\n"
     ]
    }
   ],
   "source": [
    "(()=>{\n",
    "    const { a, ...rest } = { a: 1, b: 2, c: 3 };\n",
    "    console.log(a); // 1\n",
    "    console.log(rest); // { b: 2, c: 3 }\n",
    "})()"
   ]
  },
  {
   "cell_type": "markdown",
   "metadata": {},
   "source": [
    "\n",
    "### Copia Superficial con Object.assign()\n",
    "\n",
    "Otra manera de copiar objetos es utilizando `Object.assign()`, que también crea una copia superficial del objeto.\n",
    "\n"
   ]
  },
  {
   "cell_type": "code",
   "execution_count": 19,
   "metadata": {},
   "outputs": [
    {
     "name": "stdout",
     "output_type": "stream",
     "text": [
      "{ a: \u001b[33m1\u001b[39m, b: \u001b[33m2\u001b[39m }\n"
     ]
    }
   ],
   "source": [
    "const originalObject = { a: 1, b: 2 };\n",
    "const copyOfObject = Object.assign({}, originalObject);\n",
    "console.log(copyOfObject); // { a: 1, b: 2 }"
   ]
  },
  {
   "cell_type": "markdown",
   "metadata": {},
   "source": [
    "\n",
    "### Copia Profunda con structuredClone()\n",
    "\n",
    "https://developer.mozilla.org/en-US/docs/Web/API/structuredClone \n",
    "\n",
    "Para realizar una copia profunda, donde todas las referencias anidadas también se copian, se puede usar `structuredClone()`:\n"
   ]
  },
  {
   "cell_type": "code",
   "execution_count": 20,
   "metadata": {},
   "outputs": [
    {
     "name": "stdout",
     "output_type": "stream",
     "text": [
      "{ a: \u001b[33m1\u001b[39m, b: { c: \u001b[33m2\u001b[39m } }\n"
     ]
    }
   ],
   "source": [
    "\n",
    "const originalObject = { a: 1, b: { c: 2 } };\n",
    "const copyOfObject = structuredClone(originalObject);\n",
    "console.log(copyOfObject); // { a: 1, b: { c: 2 } }\n"
   ]
  },
  {
   "cell_type": "markdown",
   "metadata": {},
   "source": [
    "La copia profunda funciona para atributos y objetos normales, pero no para métodos y nodos del DOM. Tampoco mantiene la \"prototype chain\". "
   ]
  },
  {
   "cell_type": "markdown",
   "metadata": {},
   "source": [
    "\n",
    "\n",
    "### Desestructuración de Objetos\n",
    "\n",
    "La desestructuración es una característica que permite extraer propiedades de objetos y asignarlas a variables.\n",
    "\n",
    "#### Desestructuración Básica de Objetos\n",
    "\n"
   ]
  },
  {
   "cell_type": "code",
   "execution_count": 21,
   "metadata": {},
   "outputs": [
    {
     "name": "stdout",
     "output_type": "stream",
     "text": [
      "\u001b[33m42\u001b[39m \u001b[33mtrue\u001b[39m\n"
     ]
    }
   ],
   "source": [
    "const o = { p: 42, q: true, a: { r: 20, s: 'abc' } };\n",
    "const { p, q } = o;\n",
    "console.log(p, q); // 42 true\n"
   ]
  },
  {
   "cell_type": "markdown",
   "metadata": {},
   "source": [
    "\n",
    "\n",
    "#### Desestructuración con Nuevos Nombres\n",
    "\n",
    "Se pueden asignar nuevos nombres a las variables extraídas:\n",
    "\n"
   ]
  },
  {
   "cell_type": "code",
   "execution_count": 22,
   "metadata": {},
   "outputs": [
    {
     "name": "stdout",
     "output_type": "stream",
     "text": [
      "\u001b[33m42\u001b[39m \u001b[33mtrue\u001b[39m\n"
     ]
    }
   ],
   "source": [
    "\n",
    "const { p: foo, q: bar } = o;\n",
    "console.log(foo, bar); // 42 true\n"
   ]
  },
  {
   "cell_type": "markdown",
   "metadata": {},
   "source": [
    "\n",
    "\n",
    "#### Desestructuración de Objetos Anidados\n",
    "\n",
    "También se pueden desestructurar objetos anidados y cambiar el nombre de las variables:\n",
    "\n"
   ]
  },
  {
   "cell_type": "code",
   "execution_count": 23,
   "metadata": {},
   "outputs": [
    {
     "name": "stdout",
     "output_type": "stream",
     "text": [
      "{ r: \u001b[33m20\u001b[39m, s: \u001b[32m\"abc\"\u001b[39m } \u001b[33m20\u001b[39m\n"
     ]
    }
   ],
   "source": [
    "(()=>{\n",
    "const { a } = o;\n",
    "const { a: { r: R } } = o;\n",
    "console.log(a, R); // { r: 20, s: 'abc' } 20\n",
    "})()"
   ]
  },
  {
   "cell_type": "markdown",
   "metadata": {},
   "source": [
    "\n",
    "\n",
    "#### Desestructuración de Arrays\n",
    "\n",
    "La desestructuración también se aplica a arrays, permitiendo extraer elementos en variables individuales:\n",
    "\n"
   ]
  },
  {
   "cell_type": "code",
   "execution_count": 24,
   "metadata": {},
   "outputs": [
    {
     "name": "stdout",
     "output_type": "stream",
     "text": [
      "uno\n"
     ]
    },
    {
     "name": "stdout",
     "output_type": "stream",
     "text": [
      "dos\n"
     ]
    },
    {
     "name": "stdout",
     "output_type": "stream",
     "text": [
      "tres\n"
     ]
    }
   ],
   "source": [
    "(()=>{\n",
    "const foo = ['uno', 'dos', 'tres'];\n",
    "const [rojo, amarillo, verde] = foo;\n",
    "console.log(rojo); // \"uno\"\n",
    "console.log(amarillo); // \"dos\"\n",
    "console.log(verde); // \"tres\"\n",
    "})()"
   ]
  },
  {
   "cell_type": "markdown",
   "metadata": {},
   "source": [
    "\n",
    "\n",
    "#### Desestructuración en Funciones\n",
    "\n",
    "La desestructuración puede ser muy útil en funciones para extraer valores de objetos pasados como argumentos.\n"
   ]
  },
  {
   "cell_type": "code",
   "execution_count": 25,
   "metadata": {},
   "outputs": [
    {
     "name": "stdout",
     "output_type": "stream",
     "text": [
      "\u001b[33m42\u001b[39m\n"
     ]
    },
    {
     "name": "stdout",
     "output_type": "stream",
     "text": [
      "jdoe es John\n"
     ]
    }
   ],
   "source": [
    "\n",
    "const user = {\n",
    "  id: 42,\n",
    "  displayName: \"jdoe\",\n",
    "  fullName: { firstName: \"John\", lastName: \"Doe\" }\n",
    "};\n",
    "\n",
    "function userId({ id }) {\n",
    "  return id;\n",
    "}\n",
    "\n",
    "function whois({ displayName, fullName: { firstName: name } }) {\n",
    "  return `${displayName} es ${name}`;\n",
    "}\n",
    "\n",
    "console.log(userId(user)); // 42\n",
    "console.log(whois(user)); // \"jdoe es John\"\n"
   ]
  },
  {
   "cell_type": "markdown",
   "metadata": {},
   "source": [
    "\n",
    "\n",
    "#### Clases con Valores por Defecto\n",
    "\n",
    "Las clases en JavaScript permiten establecer valores por defecto para sus propiedades en el constructor.\n",
    "\n",
    "```javascript\n",
    "class Chameleon {\n",
    "  constructor({ newColor = \"green\" } = {}) {\n",
    "    this.newColor = newColor;\n",
    "  }\n",
    "}\n",
    "\n",
    "const freddie = new Chameleon({ newColor: \"purple\" });\n",
    "console.log(freddie.newColor); // \"purple\"\n",
    "```\n",
    "\n",
    "En este ejemplo, `newColor` se establece por defecto a \"green\" si no se proporciona un valor al crear una instancia de `Chameleon`.\n",
    "\n",
    "En realidad esa asignación desestructurada se puede aplicar a cualquier función. En este enlace hay muchos más ejemplos que vale la pena analizar: https://developer.mozilla.org/en-US/docs/Web/JavaScript/Reference/Operators/Destructuring_assignment#examples \n",
    "\n",
    "### Object Literal enhacement\n",
    "\n",
    "En ES6, se introdujo una sintaxis más concisa para definir objetos literales. Cuando el nombre de la variable y la propiedad son iguales, no es necesario repetirlos.\n",
    "\n"
   ]
  },
  {
   "cell_type": "code",
   "execution_count": 26,
   "metadata": {},
   "outputs": [
    {
     "name": "stdout",
     "output_type": "stream",
     "text": [
      "{ a: \u001b[32m\"foo\"\u001b[39m, b: \u001b[33m42\u001b[39m, c: {} }\n"
     ]
    }
   ],
   "source": [
    "(()=>{\n",
    "const a = 'foo';\n",
    "const b = 42;\n",
    "const c = {};\n",
    "\n",
    "const object1 = { a, b, c };\n",
    "console.log(object1); // { a: \"foo\", b: 42, c: {} }\n",
    "})()"
   ]
  },
  {
   "cell_type": "markdown",
   "metadata": {},
   "source": [
    "\n",
    "\n",
    "En este ejemplo, `object1` se crea de manera más concisa, sin necesidad de escribir `a: a, b: b, c: c`."
   ]
  },
  {
   "cell_type": "markdown",
   "metadata": {},
   "source": [
    "### Borrar elementos de los objetos\n",
    "\n",
    "Para eliminar una clave-valor de un objeto se puede usar `delete`:\n",
    "\n",
    "```javascript\n",
    "delete user.password\n",
    "```\n",
    "\n",
    "Esta operación muta el objeto, si queremos hacer una copia al mismo tiempo que eliminamos el dato del objeto resultante, se puede usar la desestructuración:"
   ]
  },
  {
   "cell_type": "code",
   "execution_count": 27,
   "metadata": {},
   "outputs": [
    {
     "name": "stdout",
     "output_type": "stream",
     "text": [
      "\u001b[33mfalse\u001b[39m\n"
     ]
    }
   ],
   "source": [
    "(()=>{\n",
    "const user = {\n",
    "  name: 'user',\n",
    "  level: 32,\n",
    "  password: '1234'\n",
    "};\n",
    "const { password, ...userWithoutPassword } = user;\n",
    "console.log('password' in userWithoutPassword); // false\n",
    "})();"
   ]
  },
  {
   "cell_type": "markdown",
   "metadata": {},
   "source": [
    "## Clases en JavaScript (ES6)\n",
    "\n",
    "\n",
    "Como ya se ha explicado anteriormente, en JavaScript, todas las clases son en realidad funciones constructoras, que son a su vez objetos. Aunque JavaScript es un lenguaje basado en prototipos (classless), ES6 introdujo la palabra reservada `class` para proporcionar una sintaxis más familiar y cómoda para los programadores provenientes de otros lenguajes orientados a objetos. Sin embargo, bajo esta sintaxis, JavaScript sigue funcionando con prototipos.\n",
    "\n",
    "Las clases en JavaScript pueden definirse de dos maneras: utilizando funciones constructoras o la sintaxis de clase de ES6.\n"
   ]
  },
  {
   "cell_type": "code",
   "execution_count": 28,
   "metadata": {},
   "outputs": [
    {
     "name": "stdout",
     "output_type": "stream",
     "text": [
      "Hero { name: \u001b[32m\"Link\"\u001b[39m, level: \u001b[33m10\u001b[39m }\n"
     ]
    },
    {
     "name": "stdout",
     "output_type": "stream",
     "text": [
      "HeroClass { name: \u001b[32m\"Zelda\"\u001b[39m, level: \u001b[33m20\u001b[39m }\n"
     ]
    }
   ],
   "source": [
    "// Funciones Constructoras\n",
    "\n",
    "function Hero(name, level) {\n",
    "    this.name = name;\n",
    "    this.level = level;\n",
    "}\n",
    "const hero1 = new Hero('Link', 10);\n",
    "console.log(hero1); // Hero { name: 'Link', level: 10 }\n",
    "\n",
    "\n",
    "// Sintaxis de Clase\n",
    "\n",
    "\n",
    "class HeroClass {\n",
    "    constructor(name, level) {\n",
    "        this.name = name;\n",
    "        this.level = level;\n",
    "    }\n",
    "}\n",
    "const hero2 = new HeroClass('Zelda', 20);\n",
    "console.log(hero2); // Hero { name: 'Zelda', level: 20 }\n"
   ]
  },
  {
   "cell_type": "markdown",
   "metadata": {},
   "source": [
    "\n",
    "En ambos ejemplos, se crea una clase `Hero` con un constructor que inicializa las propiedades `name` y `level`.\n",
    "\n",
    "### Creación de Métodos\n",
    "\n",
    "Los métodos en una clase pueden definirse directamente dentro del constructor utilizando funciones constructoras o como métodos de clase en la sintaxis ES6.\n"
   ]
  },
  {
   "cell_type": "code",
   "execution_count": 29,
   "metadata": {},
   "outputs": [
    {
     "name": "stdout",
     "output_type": "stream",
     "text": [
      "Mario says hello.\n"
     ]
    },
    {
     "name": "stdout",
     "output_type": "stream",
     "text": [
      "Luigi says hello.\n"
     ]
    }
   ],
   "source": [
    "\n",
    "// Funciones Constructoras\n",
    "(()=>{\n",
    "function Hero(name, level) {\n",
    "    this.name = name;\n",
    "    this.level = level;\n",
    "}\n",
    "\n",
    "Hero.prototype.greet = function() {\n",
    "    return `${this.name} says hello.`;\n",
    "};\n",
    "const hero3 = new Hero('Mario', 5);\n",
    "console.log(hero3.greet()); // Mario says hello.\n",
    "})();\n",
    "// Sintaxis de Clase\n",
    "(()=>{\n",
    "class Hero {\n",
    "    constructor(name, level) {\n",
    "        this.name = name;\n",
    "        this.level = level;\n",
    "    }\n",
    "\n",
    "    greet() {\n",
    "        return `${this.name} says hello.`;\n",
    "    }\n",
    "}\n",
    "const hero4 = new Hero('Luigi', 7);\n",
    "console.log(hero4.greet()); // Luigi says hello.\n",
    "})()"
   ]
  },
  {
   "cell_type": "markdown",
   "metadata": {},
   "source": [
    "\n",
    "En ambos casos, se añade un método `greet` que devuelve un saludo del héroe.\n",
    "\n",
    "### Herencia\n",
    "\n",
    "La herencia permite crear una nueva clase que hereda las propiedades y métodos de otra clase.\n"
   ]
  },
  {
   "cell_type": "code",
   "execution_count": 30,
   "metadata": {},
   "outputs": [
    {
     "name": "stdout",
     "output_type": "stream",
     "text": [
      "Mage { name: \u001b[32m\"Gandalf\"\u001b[39m, level: \u001b[33m100\u001b[39m, spell: \u001b[32m\"Fireball\"\u001b[39m }\n"
     ]
    },
    {
     "name": "stdout",
     "output_type": "stream",
     "text": [
      "Mage { name: \u001b[32m\"Merlin\"\u001b[39m, level: \u001b[33m150\u001b[39m, spell: \u001b[32m\"Ice Blast\"\u001b[39m }\n"
     ]
    }
   ],
   "source": [
    "\n",
    "// Funciones Constructoras\n",
    "\n",
    "function Mage(name, level, spell) {\n",
    "    Hero.call(this, name, level);\n",
    "    this.spell = spell;\n",
    "}\n",
    "\n",
    "Mage.prototype = Object.create(Hero.prototype);\n",
    "Mage.prototype.constructor = Mage;\n",
    "\n",
    "const mage1 = new Mage('Gandalf', 100, 'Fireball');\n",
    "console.log(mage1); // Mage { name: 'Gandalf', level: 100, spell: 'Fireball' }\n",
    "\n",
    "\n",
    "// Sintaxis de Clase\n",
    "(()=>{\n",
    "class Mage extends Hero {\n",
    "    constructor(name, level, spell) {\n",
    "        super(name, level);\n",
    "        this.spell = spell;\n",
    "    }\n",
    "}\n",
    "\n",
    "const mage2 = new Mage('Merlin', 150, 'Ice Blast');\n",
    "console.log(mage2); // Mage { name: 'Merlin', level: 150, spell: 'Ice Blast' }\n",
    "})()"
   ]
  },
  {
   "cell_type": "markdown",
   "metadata": {},
   "source": [
    "\n",
    "\n",
    "En estos ejemplos, `Mage` extiende `Hero`, añadiendo una nueva propiedad `spell`.\n",
    "\n",
    "### Atributos Estáticos\n",
    "\n",
    "Los atributos y métodos estáticos se definen en la clase en lugar de en las instancias.\n",
    "\n"
   ]
  },
  {
   "cell_type": "code",
   "execution_count": 31,
   "metadata": {},
   "outputs": [
    {
     "name": "stdout",
     "output_type": "stream",
     "text": [
      "classy\n"
     ]
    },
    {
     "name": "stdout",
     "output_type": "stream",
     "text": [
      "prototypical\n"
     ]
    }
   ],
   "source": [
    "\n",
    "class Foo {\n",
    "    constructor(prop) {\n",
    "        this.prop = prop;\n",
    "    }\n",
    "\n",
    "    static staticMethod() {\n",
    "        return 'classy';\n",
    "    }\n",
    "\n",
    "    prototypeMethod() {\n",
    "        return 'prototypical';\n",
    "    }\n",
    "}\n",
    "\n",
    "const foo = new Foo(123);\n",
    "console.log(Foo.staticMethod()); // classy\n",
    "console.log(foo.prototypeMethod()); // prototypical\n"
   ]
  },
  {
   "cell_type": "markdown",
   "metadata": {},
   "source": [
    "\n",
    "En este ejemplo, `staticMethod` se llama en la clase `Foo`, mientras que `prototypeMethod` se llama en la instancia `foo`.\n",
    "\n",
    "![static](./imgs/static.png \"static\")\n",
    "\n",
    "\n",
    "### Atributos Privados\n",
    "\n",
    "Por defecto, en ES6, todo es público. Sin embargo, ES2019 introdujo la sintaxis `#` para declarar atributos privados. Alternativamente, se pueden utilizar funciones internas y scopes para emular privacidad.\n"
   ]
  },
  {
   "cell_type": "code",
   "execution_count": 32,
   "metadata": {},
   "outputs": [
    {
     "name": "stdout",
     "output_type": "stream",
     "text": [
      "{ width: \u001b[33m20\u001b[39m, height: \u001b[33m10\u001b[39m }\n"
     ]
    },
    {
     "name": "stdout",
     "output_type": "stream",
     "text": [
      "\u001b[90mundefined\u001b[39m\n"
     ]
    },
    {
     "name": "stdout",
     "output_type": "stream",
     "text": [
      "\u001b[90mundefined\u001b[39m\n"
     ]
    },
    {
     "name": "stdout",
     "output_type": "stream",
     "text": [
      "{ width: \u001b[33m20\u001b[39m, height: \u001b[33m10\u001b[39m }\n"
     ]
    },
    {
     "name": "stdout",
     "output_type": "stream",
     "text": [
      "\u001b[90mundefined\u001b[39m\n"
     ]
    },
    {
     "name": "stdout",
     "output_type": "stream",
     "text": [
      "\u001b[90mundefined\u001b[39m\n"
     ]
    }
   ],
   "source": [
    "\n",
    "// Con Sintaxis ES2019\n",
    "(()=>{\n",
    "\n",
    "class SmallRectangle {\n",
    "    #width = 20;\n",
    "    #height = 10;\n",
    "\n",
    "    getDimension() {\n",
    "        return { width: this.#width, height: this.#height };\n",
    "    }\n",
    "\n",
    "    increaseSize() {\n",
    "        this.#width++;\n",
    "        this.#height++;\n",
    "    }\n",
    "}\n",
    "\n",
    "const rectangle = new SmallRectangle();\n",
    "console.log(rectangle.getDimension()); // { width: 20, height: 10 }\n",
    "console.log(rectangle.height); // undefined\n",
    "console.log(rectangle.width); // undefined\n",
    "})();\n",
    "\n",
    "// Utilizando Closure\n",
    "\n",
    "(()=>{\n",
    "class SmallRectangle {\n",
    "    constructor() {\n",
    "        let width = 20;\n",
    "        let height = 10;\n",
    "\n",
    "        this.getDimension = () => {\n",
    "            return { width, height };\n",
    "        };\n",
    "\n",
    "        this.increaseSize = () => {\n",
    "            width++;\n",
    "            height++;\n",
    "        };\n",
    "    }\n",
    "}\n",
    "\n",
    "const rectangle = new SmallRectangle();\n",
    "console.log(rectangle.getDimension()); // { width: 20, height: 10 }\n",
    "console.log(rectangle.height); // undefined\n",
    "console.log(rectangle.width); // undefined\n",
    "})()\n"
   ]
  },
  {
   "cell_type": "markdown",
   "metadata": {},
   "source": [
    "\n",
    "En ambos ejemplos, `width` y `height` son privados y solo accesibles a través de métodos específicos.\n",
    "\n",
    "### Closure\n",
    "\n",
    "Una técnica importante para manejar variables privadas y comportamiento similar a las clases es el uso de closures.\n",
    "\n"
   ]
  },
  {
   "cell_type": "code",
   "execution_count": 33,
   "metadata": {},
   "outputs": [
    {
     "name": "stdout",
     "output_type": "stream",
     "text": [
      "\u001b[33m1\u001b[39m\n"
     ]
    },
    {
     "name": "stdout",
     "output_type": "stream",
     "text": [
      "\u001b[33m2\u001b[39m\n"
     ]
    }
   ],
   "source": [
    "\n",
    "let add = (function () {\n",
    "    let counter = 0;\n",
    "    return function () {\n",
    "        counter += 1;\n",
    "        return counter;\n",
    "    };\n",
    "})();\n",
    "\n",
    "console.log(add()); // 1\n",
    "console.log(add()); // 2\n"
   ]
  },
  {
   "cell_type": "markdown",
   "metadata": {},
   "source": [
    "\n",
    "\n",
    "En este ejemplo, `add` es una función autoinvocada que mantiene un `counter` privado.\n",
    "\n",
    "> Habrás observado que en muchos ejemplos, envuelvo el código en `(()=>{ ....codigo.... })()`. Esto es para mantener las variables creadas en el ámbito de esa función autoinvocada y que no moleste al resto del notebook. Esto es un ejemplo de closure.\n",
    "\n",
    "\n",
    "Lectura mucho más profunda sobre closures:\n",
    "* https://github.com/getify/You-Dont-Know-JS/blob/2nd-ed/get-started/ch3.md#closure\n",
    "\n",
    "### Setters y Getters\n",
    "\n",
    "Los setters y getters permiten controlar cómo se acceden y modifican las propiedades de una clase.\n",
    "\n"
   ]
  },
  {
   "cell_type": "code",
   "execution_count": 34,
   "metadata": {},
   "outputs": [
    {
     "name": "stdout",
     "output_type": "stream",
     "text": [
      "\u001b[33m900\u001b[39m\n"
     ]
    }
   ],
   "source": [
    "class Producto {\n",
    "    constructor(nombre, precio) {\n",
    "        this.nombre = nombre;\n",
    "        this.precio = precio;\n",
    "    }\n",
    "\n",
    "    set setPrecio(precio) {\n",
    "        if (isNaN(precio)) {\n",
    "            this.precio = 0;\n",
    "        } else {\n",
    "            this.precio = precio;\n",
    "        }\n",
    "    }\n",
    "\n",
    "    get getPrecio() {\n",
    "        return parseFloat(this.precio);\n",
    "    }\n",
    "}\n",
    "\n",
    "let p1 = new Producto('PC', 1000);\n",
    "p1.setPrecio = 900;\n",
    "console.log(p1.getPrecio); // 900"
   ]
  },
  {
   "cell_type": "markdown",
   "metadata": {},
   "source": [
    "\n",
    "En este ejemplo, el setter `setPrecio` valida el valor antes de asignarlo, y el getter `getPrecio` devuelve el precio como un número flotante.\n"
   ]
  },
  {
   "cell_type": "markdown",
   "metadata": {},
   "source": [
    "### Clases, Objetos y `this` en JavaScript\n",
    "\n",
    "El valor de `this` en JavaScript depende del contexto de ejecución y de cómo se llama la función. Esta peculiaridad puede causar confusión, ya que en otros lenguajes `this` o `self` siempre son el objeto al que pertenecen. Cualquier función que use `this` debe ejecutarse con un objeto como contexto de ejecución. Por tanto, la podemos denominar un método. Pero no es tan sencillo, porque los métodos no siempre pertenecen al mismo entorno de ejecución. El entorno depende de cómo se invoque y el tipo de función que sea.  \n",
    "\n",
    "No importa que los métodos estén declarados dentro de una clase o objeto literal. El contexto puede cambiar. En este apartado veremos distintas maneras para alterar eso y los problemas que puede ocasionar. \n",
    "\n",
    "Veamos un ejemplo para ilustrar cómo `this` funciona en diferentes contextos:"
   ]
  },
  {
   "cell_type": "code",
   "execution_count": 35,
   "metadata": {},
   "outputs": [],
   "source": [
    "(()=>{\n",
    "function classroom(teacher) {\n",
    "    //\"use strict\";   // prueba el modo estricto\n",
    "    this.plant = 3;   // sin new, this es window\n",
    "    console.log(this);\n",
    "    return function study() {\n",
    "        console.log(\n",
    "            `${teacher} says to study ${this.topic} in plant ${this.plant}`\n",
    "        );\n",
    "    };\n",
    "}\n",
    "// Descomenta las líneas para ver el fallo y intenta repararlo. \n",
    "//let assignment = classroom(\"Kyle\");  // Prueba con new\n",
    "//console.log(assignment);\n",
    "//assignment();\n",
    "\n",
    "let clase = { \n",
    "    topic: 'mates',\n",
    "    plant: '5',   // prueba a comentar esta línea\n",
    "   // assignment: assignment\n",
    "};\n",
    "//clase.assignment();\n",
    "})();"
   ]
  },
  {
   "cell_type": "markdown",
   "metadata": {},
   "source": [
    "\n",
    "\n",
    "1. Sin `new`, `this` en la función `classroom` es el objeto global `window` (o `undefined` en modo estricto). Cuando se llama a `assignment()`, `this` dentro de `study` también es el objeto global, resultando en `undefined` para `this.topic` y `this.plant`.\n",
    "2. Al usar `new`, `this` se refiere a la nueva instancia creada.\n",
    "3. Cuando se asigna `assignment` a `clase.assignment` y se llama como un método de `clase`, `this` se refiere al objeto `clase`.\n",
    "\n",
    "#### Diferentes Formas de Invocar Funciones y el Valor de `this`\n",
    "\n",
    "La forma en que se invoca una función determina el valor de `this`.\n",
    "\n",
    "##### Invocación Simple\n"
   ]
  },
  {
   "cell_type": "code",
   "execution_count": 36,
   "metadata": {},
   "outputs": [
    {
     "name": "stdout",
     "output_type": "stream",
     "text": [
      "\u001b[90mundefined\u001b[39m\n"
     ]
    }
   ],
   "source": [
    "(()=>{\n",
    "function simpleInvocation() {\n",
    "    console.log(this);\n",
    "}\n",
    "simpleInvocation();\n",
    "})();"
   ]
  },
  {
   "cell_type": "markdown",
   "metadata": {},
   "source": [
    "\n",
    "\n",
    "- En el contexto global, `this` es el objeto global (`window` en navegadores), o `undefined` en modo estricto.\n",
    "\n",
    "##### Invocación como Método\n",
    "\n"
   ]
  },
  {
   "cell_type": "code",
   "execution_count": 37,
   "metadata": {},
   "outputs": [
    {
     "name": "stdout",
     "output_type": "stream",
     "text": [
      "{ method: \u001b[36m[Function: method]\u001b[39m }\n"
     ]
    }
   ],
   "source": [
    "(()=>{\n",
    "const methodInvocation = {\n",
    "    method() {\n",
    "        console.log(this);\n",
    "    }\n",
    "};\n",
    "methodInvocation.method();\n",
    "})();"
   ]
  },
  {
   "cell_type": "markdown",
   "metadata": {},
   "source": [
    "\n",
    "\n",
    "- Cuando se llama como método de un objeto, `this` se refiere al objeto que contiene el método.\n",
    "\n",
    "##### Invocación Indirecta\n"
   ]
  },
  {
   "cell_type": "code",
   "execution_count": 38,
   "metadata": {},
   "outputs": [
    {
     "name": "stdout",
     "output_type": "stream",
     "text": [
      "{ value1: \u001b[32m\"A\"\u001b[39m, value2: \u001b[32m\"B\"\u001b[39m }\n"
     ]
    },
    {
     "name": "stdout",
     "output_type": "stream",
     "text": [
      "{ value1: \u001b[32m\"A\"\u001b[39m, value2: \u001b[32m\"B\"\u001b[39m }\n"
     ]
    }
   ],
   "source": [
    "(()=>{\n",
    "const context = { value1: 'A', value2: 'B' };\n",
    "function indirectInvocation() {\n",
    "    console.log(this);\n",
    "}\n",
    "indirectInvocation.call(context);\n",
    "indirectInvocation.apply(context);\n",
    "})()"
   ]
  },
  {
   "cell_type": "markdown",
   "metadata": {},
   "source": [
    "##### Problemas con Funciones Anidadas y `this` (that)\n",
    "\n",
    "A veces, las funciones anidadas necesitan acceder a `this` de la función superior, pero pierden el contexto:\n",
    "\n",
    "```javascript\n",
    "(function () {\n",
    "    \"use strict\";\n",
    "    document.addEventListener(\"DOMContentLoaded\", function () {\n",
    "        var colours = [\"red\", \"green\", \"blue\"];\n",
    "        document.getElementById(\"header\")\n",
    "            .addEventListener(\"click\", function () {\n",
    "                // this es una referencia al clicado\n",
    "                var that = this;\n",
    "                colours.forEach(function (element, index) {\n",
    "                    console.log(this, that, index, element);\n",
    "                    // this es undefined en modo estricto\n",
    "                    // that es el elemento clicado\n",
    "                });\n",
    "            });\n",
    "    });\n",
    "})();\n",
    "```\n",
    "\n",
    "Aquí, `that` guarda el valor de `this` para usarlo dentro de la función de `forEach`.\n",
    "\n",
    "#### Uso de Funciones Flecha y `this`\n",
    "\n",
    "Las funciones flecha (`=>`) no tienen su propio `this`; heredan el `this` del contexto en el que fueron definidas.\n",
    "\n",
    "##### Ejemplo con Función Flecha\n",
    "\n",
    "```javascript\n",
    "function UiComponent() {\n",
    "    var button = document.getElementById('myButton');\n",
    "    button.addEventListener('click', () => {\n",
    "        console.log('CLICK');\n",
    "        this.handleClick(); // (A)\n",
    "    });\n",
    "}\n",
    "\n",
    "UiComponent.prototype.handleClick = function () {\n",
    "    // ...\n",
    "};\n",
    "```\n",
    "\n",
    "- La función flecha asegura que `this` dentro del `addEventListener` se refiere al `this` de `UiComponent`.\n",
    "\n",
    "\n",
    "En un objeto literal, la función flecha también trata el `this` de forma que no es el objeto que la contiene, sino el sitio donde se ejecuta:"
   ]
  },
  {
   "cell_type": "code",
   "execution_count": 39,
   "metadata": {},
   "outputs": [
    {
     "name": "stdout",
     "output_type": "stream",
     "text": [
      "\u001b[90mundefined\u001b[39m\n"
     ]
    },
    {
     "name": "stdout",
     "output_type": "stream",
     "text": [
      "Object Level Variable\n"
     ]
    }
   ],
   "source": [
    "(()=>{\n",
    "let variable = \"Global Level Variable\";\n",
    "let myObject = {\n",
    "    variable: \"Object Level Variable\",\n",
    "    arrowFunction: () => {\n",
    "        console.log(this.variable);\n",
    "    },\n",
    "    regularFunction() {\n",
    "        console.log(this.variable);\n",
    "    }\n",
    "};\n",
    "myObject.arrowFunction(); // undefined\n",
    "myObject.regularFunction(); // Object Level Variable\n",
    "})();"
   ]
  },
  {
   "cell_type": "markdown",
   "metadata": {},
   "source": [
    "\n",
    "\n",
    "- `arrowFunction` hereda `this` del contexto global (en este caso, `window`), mientras que `regularFunction` tiene su propio `this` que se refiere a `myObject`.\n",
    "\n",
    "#### Métodos `call`, `apply` y `bind`\n",
    "\n",
    "Estos métodos permiten controlar el contexto de `this` explícitamente.\n",
    "\n"
   ]
  },
  {
   "cell_type": "code",
   "execution_count": 40,
   "metadata": {},
   "outputs": [
    {
     "name": "stdout",
     "output_type": "stream",
     "text": [
      "\u001b[33m81\u001b[39m\n"
     ]
    },
    {
     "name": "stdout",
     "output_type": "stream",
     "text": [
      "\u001b[33m9\u001b[39m\n"
     ]
    },
    {
     "name": "stdout",
     "output_type": "stream",
     "text": [
      "\u001b[33m81\u001b[39m\n"
     ]
    }
   ],
   "source": [
    "(()=>{\n",
    "\n",
    "class example {\n",
    "    getX: () => any;\n",
    "    constructor(){\n",
    "            this.x = 9;\n",
    "    }\n",
    "    module = {\n",
    "            x: 81,\n",
    "            getX() { return this.x; }\n",
    "    }\n",
    "}\n",
    "\n",
    "let ex = new example();\n",
    "\n",
    "console.log(ex.module.getX()); // 81\n",
    "\n",
    "ex.getX = ex.module.getX;\n",
    "console.log(ex.getX()); // 9\n",
    "\n",
    "let boundGetX = ex.getX.bind(ex.module);\n",
    "console.log(boundGetX()); // 81\n",
    "})();"
   ]
  },
  {
   "cell_type": "markdown",
   "metadata": {},
   "source": [
    "\n",
    "\n",
    "- `bind` crea una nueva función con `this` vinculado al objeto pasado.\n",
    "\n",
    "##### Uso de `call` y `apply`\n",
    "\n"
   ]
  },
  {
   "cell_type": "code",
   "execution_count": 41,
   "metadata": {},
   "outputs": [
    {
     "name": "stdout",
     "output_type": "stream",
     "text": [
      "Car details =  setBrand { type: \u001b[32m\"convertible\"\u001b[39m, fuelType: \u001b[32m\"petrol\"\u001b[39m, brand: \u001b[32m\"Brand1\"\u001b[39m }\n"
     ]
    }
   ],
   "source": [
    "(()=>{\n",
    "function Car(type, fuelType) {\n",
    "    this.type = type;\n",
    "    this.fuelType = fuelType;\n",
    "}\n",
    "\n",
    "function setBrand(brand) {\n",
    "    Car.call(this, \"convertible\", \"petrol\");\n",
    "    this.brand = brand;\n",
    "    console.log(`Car details = `, this);\n",
    "}\n",
    "\n",
    "const newBrand = new setBrand('Brand1'); \n",
    "\n",
    "})()"
   ]
  },
  {
   "cell_type": "markdown",
   "metadata": {},
   "source": [
    "\n",
    "\n",
    "- `Car.call(this, \"convertible\", \"petrol\")` establece el contexto de `this` para `setBrand`.\n"
   ]
  },
  {
   "cell_type": "markdown",
   "metadata": {},
   "source": [
    "* Ejercicio de objetos literales y clases sobre Pokemons: https://jsfiddle.net/xxjcaxx/5hL4my2v/7/ \n",
    "* Ejercicios de clases y `this` sobre Pokemos: https://jsfiddle.net/xxjcaxx/5jchk6mg/9/ "
   ]
  },
  {
   "cell_type": "markdown",
   "metadata": {},
   "source": [
    "## Notas finales\n",
    "\n",
    "Hemos visto multitud de formas de tratar los objetos y las clases. Es importante conocerlas todas aunque algunas entren en \"contradicción\". En este aspecto, el lenguaje ha evolucionado mucho y las distintas técnicas han quedado en el estilo de l@s programador@s. \n",
    "Si atendemos a las últimas tendencias, el uso de clases se ha quedado para hacer librerías o componentes mientras que en la programación funcional es más común el uso de objetos literales para la comunicación entre funciones y evitando usar el \"this\". \n",
    "La desestructuración de Arrays el spread operator, la copia profunda... son técnicas muy usadas tanto en Javascript Vanilla como en los distintos frameworks. "
   ]
  }
 ],
 "metadata": {
  "kernelspec": {
   "display_name": "Deno",
   "language": "typescript",
   "name": "deno"
  },
  "language_info": {
   "codemirror_mode": "typescript",
   "file_extension": ".ts",
   "mimetype": "text/x.typescript",
   "name": "typescript",
   "nbconvert_exporter": "script",
   "pygments_lexer": "typescript",
   "version": "5.6.2"
  }
 },
 "nbformat": 4,
 "nbformat_minor": 2
}