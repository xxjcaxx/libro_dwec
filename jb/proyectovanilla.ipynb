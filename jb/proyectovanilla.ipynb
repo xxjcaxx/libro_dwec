{
 "cells": [
  {
   "cell_type": "markdown",
   "metadata": {},
   "source": [
    "# Proyecto en Javascript\n",
    "\n",
    "Una vez vistos todos los contenidos de la parte de Javascript, estamos listos para hacer un proyecto entero. No nos detendremos a explicar el porqué de los pasos a seguir, tan solo a hacer referencia a los capítulos anteriores. \n",
    "\n",
    "[Video de proyecto en JS](https://youtu.be/gFOOsefQMlg)\n",
    "\n",
    "## Configuración inicial\n",
    "\n",
    "En realidad, para empezar a hacer algo en Javascript en el frontend, tan solo necesitamos un archivo HTML y uno JS. Se puede empezar por ahí e ir incorporando las distintas librerias, bundlers y demás. También se puede empezar con el esqueleto del CI/CD completo y luego empezar a programar. Empezaremos de una manera \"mixta\", configurando `Vite` y los archivos y servicios que nos afectan a la programación desde el principio e iremos instalando y configurando conforme sea necesario. \n",
    "\n",
    "### Vite\n",
    "\n",
    "Ejecutamos los comandos básicos:\n",
    "\n",
    "```bash\n",
    "npm create vite@latest my-app -- --template vanilla\n",
    "cd my-app\n",
    "npm install\n",
    "npm run dev\n",
    "```\n",
    "\n",
    "Con esto ya tenemos una plantilla con la que comenzar. Eliminaremos el código de ejemplo, las imágenes y el css de ejemplo para empezar desde cero. Este puede ser un buen momento para instalar algun framework de estilos como `Bootstrap`. En nuesto caso, como no nos interesa tanto la parte visual, vamos a instalarlo y así simplificamos ese apartado:\n",
    "\n",
    "https://getbootstrap.com/docs/5.2/getting-started/vite/ \n",
    "\n",
    "\n",
    "## Estructura del proyecto\n",
    "\n",
    "El proyecto va a ser muy básico, así que no necesitamos una gran arquitectura. Separaremos la conexión al backend de la vista y los controladores. Por tanto, inicialmente podemos crear carpetas para `modelos` o `servicios` y para las `vistas`. Los modelos se conectarán a la base de datos y servirán los datos de forma reactiva, es decir, con RxJS. Las vistas crearán elementos del `DOM` mediante template literals y serán reactivas. \n",
    "\n",
    "\n"
   ]
  }
 ],
 "metadata": {
  "language_info": {
   "name": "python"
  }
 },
 "nbformat": 4,
 "nbformat_minor": 2
}
