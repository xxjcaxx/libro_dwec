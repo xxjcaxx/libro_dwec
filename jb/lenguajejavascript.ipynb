{
 "cells": [
  {
   "cell_type": "markdown",
   "id": "c5e018f2",
   "metadata": {},
   "source": [
    "# El lenguaje Javascript\n",
    "\n",
    "El objetivo de este libro es enseñar a programar para el cliente web. Se presupone que ya se conocen los rudimentos básicos de la programación y los algoritmos. Puesto que el libro está situado en el módulo de DWEC de segundo de DAW, no es necesario enseñar conceptos como Programación orientada a objetos, HTML, JSON, HTTP…\n",
    "No obstante, javascript como lenguaje tiene sus particularidades y son las que vamos a destacar en estos primeros capítulos.\n",
    "\n",
    "> Hay muchos más manuales en Internet que explican mejor muchos de los conceptos de este libro. Aquí dejamos algunos de los recursos principales consultados para elaborarlo y que siguen siendo una referencia más completa y precisa:\n",
    "* https://uniwebsidad.com/libros/javascript \n",
    "* https://github.com/sergarb1/ApuntesDWEC \n",
    "* https://developer.mozilla.org/es/docs/Web/JavaScript/Guide \n",
    "* https://developer.mozilla.org/es/docs/Learn \n",
    "* https://www.w3schools.com/js/ \n",
    "* https://github.com/getify/You-Dont-Know-JS/blob/2nd-ed/README.md\n",
    "* https://javascript.info/js  \n",
    "* https://exploringjs.com/es6/index.html \n",
    "* https://exploringjs.com/impatient-js/toc.html\n",
    "* https://eloquentjavascript.net/ \n",
    "* https://losapuntesdemajo.vercel.app/\n",
    "* https://fullstackopen.com/en/#course-contents \n",
    "* https://www.theodinproject.com/  \n",
    "* https://www.apuntesinformaticafp.com/modulos/dwec.html \n",
    "* https://cipfpbatoi.github.io/materials/daw/dwc/01-js/ \n",
    "\n",
    "\n",
    "## Integrar JS en HTML\n",
    "\n",
    "En primer lugar, veamos cómo integrar Javascript en el HTML para que se ejecute en el navegador:\n",
    "\n",
    "\n",
    "```html\n",
    "     <!-- Integración de JavaScript directamente en el HTML -->\n",
    "    <script type=\"text/javascript\">\n",
    "        // Este es un bloque de código JavaScript embebido directamente en el documento HTML.\n",
    "        // Funciona para pequeños bloques en webs tradicionales. No recomendable en SPAs\n",
    "        console.log(\"Hola, este es un mensaje desde JavaScript embebido.\");\n",
    "    </script>\n",
    "\n",
    "    <!-- Integración de un archivo JavaScript externo -->\n",
    "    <script type=\"text/javascript\" src=\"scripts.js\"></script>\n",
    "\n",
    "    <!-- Mensaje para navegadores que no soportan JavaScript -->\n",
    "    <noscript>\n",
    "        <p>Tu navegador no soporta JavaScript o está desactivado.</p>\n",
    "    </noscript>\n",
    "\n",
    "    <!-- Comentario: Muchas veces, los desarrolladores colocan los scripts al final del documento para asegurarse de que todo el contenido HTML se haya cargado antes de ejecutar el JavaScript. -->\n",
    "```\n",
    "\n",
    "### Atributos `async` y `defer` en la Etiqueta `<script>`\n",
    "\n",
    "A partir de HTML5, la etiqueta `<script>` admite dos atributos, `async` y `defer`, que permiten que los scripts comiencen su descarga inmediatamente sin interrumpir el proceso de parseo del documento HTML.\n",
    "\n",
    "```{figure} ./imgs/asyncdefer.jpeg\n",
    "---\n",
    "scale: 100%\n",
    "align: center\n",
    "---\n",
    "Diagrama del funcionamiento de Async o Defer.  \n",
    "```\n",
    "\n",
    "#### `async`\n",
    "\n",
    "El atributo `async` permite que el script se ejecute de manera asíncrona tan pronto como se haya descargado. Esto significa que:\n",
    "\n",
    "- El script se descargará en paralelo con el parseo del documento.\n",
    "- Se ejecutará tan pronto como la descarga haya terminado, sin esperar a que el documento se haya parseado por completo.\n",
    "- Los scripts marcados con `async` pueden no ejecutarse en el orden en el que aparecen en el documento HTML, ya que la ejecución depende de cuál script se descargue primero.\n",
    "\n",
    "Ejemplo:\n",
    "\n",
    "```html\n",
    "<script src=\"scripts.js\" async></script>\n",
    "```\n",
    "\n",
    "#### `defer`\n",
    "\n",
    "El atributo `defer` asegura que los scripts se ejecutarán en el orden en el que aparecen en el documento HTML. Las características de `defer` incluyen:\n",
    "\n",
    "- El script se descarga en paralelo con el parseo del documento, similar a `async`.\n",
    "- La ejecución del script se pospone hasta que el documento se haya parseado completamente.\n",
    "- La ejecución ocurre justo antes del evento `DOMContentLoaded`, pero después de que todo el HTML haya sido procesado.\n",
    "\n",
    "Ejemplo:\n",
    "\n",
    "```html\n",
    "<script src=\"scripts.js\" defer></script>\n",
    "```\n",
    "\n",
    "#### Sin `async` ni `defer`\n",
    "\n",
    "Si un script no tiene ninguno de estos atributos, el comportamiento por defecto es que el script se descarga y se ejecuta de manera síncrona. Esto significa que:\n",
    "\n",
    "- El parseo del documento se pausa hasta que el script haya sido descargado y ejecutado completamente.\n",
    "- Los scripts se ejecutan en el orden en que aparecen en el documento.\n",
    "\n",
    "Ejemplo:\n",
    "\n",
    "```html\n",
    "<script src=\"scripts.js\"></script>\n",
    "```\n",
    "\n",
    "En cualquier caso, salvo ocasiones específicas, suele ser más fácil añadir un sólo script, trabajar con módulos y esperar al evento `DOMContentLoaded`.\n",
    "\n",
    "## Comprobar que funciona\n",
    "\n",
    "Los navegadores modernos vienen con una consola de depuración muy avanzada que permite interactuar con el DOM, el CSS, el JS, la red, entre otras cosas. La abriremos con F12 o el botón derecho y la mantendremos abierta casi todo el tiempo. \n",
    "\n",
    "```{figure} ./imgs/f12.png\n",
    "---\n",
    "scale: 75%\n",
    "align: center\n",
    "---\n",
    "Lo que se ve si pulsamos F12.  \n",
    "```\n",
    "\n",
    "Podemos ejecutar algo como:"
   ]
  },
  {
   "cell_type": "code",
   "execution_count": 4,
   "id": "f445215a",
   "metadata": {},
   "outputs": [
    {
     "name": "stdout",
     "output_type": "stream",
     "text": [
      "hola mundo\n"
     ]
    }
   ],
   "source": [
    "console.log(\"hola mundo\")"
   ]
  },
  {
   "cell_type": "markdown",
   "id": "e218418e",
   "metadata": {},
   "source": [
    "## Ocultar el código JavaScript\n",
    "\n",
    "\n",
    "**No es posible ocultar completamente el código JavaScript.** El código que se ejecuta en el lado del cliente (es decir, en el navegador web) siempre puede ser visto por los usuarios, ya que se descarga junto con el resto del contenido de la página web.\n",
    "\n",
    "Aunque no se puede ocultar el código, sí se pueden utilizar técnicas para **ofuscar** y **comprimir** el código JavaScript. Estas técnicas dificultan la lectura y comprensión del código por parte de personas, aunque no lo hacen completamente inaccesible.\n",
    "\n",
    "Tal vez, por eso, muchos proyectos de JS son directamente publicados como **Open Source**\n",
    "\n",
    "El siguiente código es un ejemplo:"
   ]
  },
  {
   "cell_type": "code",
   "execution_count": 5,
   "id": "bf8f28ca",
   "metadata": {},
   "outputs": [
    {
     "name": "stdout",
     "output_type": "stream",
     "text": [
      "Hello World!\n"
     ]
    }
   ],
   "source": [
    "var _0x47a0=['log','Hello\\x20World!']; (function (_0x558f55,_0x47a08a){var _0x257f99= function (_0x256ed6) \n",
    "{while(--_0x256ed6) {_0x558f55['push'] (_0x558f55['shift']()); }};_0x257f99(++_0x47a08a);}\n",
    "(_0x47a0,0x1cb));var _0x257f =function(_0x558f55,_0x47a08a){_0x558f55=_0x558f55-0x0;\n",
    "var _0x257f99=_0x47a0[_0x558f55];return _0x257f99;};function hi(){console[_0x257f('0x1')](_0x257f('0x0'));}hi();\n"
   ]
  },
  {
   "cell_type": "markdown",
   "id": "39f361be",
   "metadata": {},
   "source": [
    "## Historia y evolución de JavaScript y ECMAScript\n",
    "\n",
    "### Orígenes de JavaScript\n",
    "\n",
    "1. **Mocha**:\n",
    "   - JavaScript se inició bajo el nombre de **Mocha**. Fue desarrollado por Brendan Eich en Netscape Communications en 1995. Mocha fue el nombre original durante las primeras etapas de desarrollo.\n",
    "\n",
    "2. **LiveScript**:\n",
    "   - Antes de ser conocido como JavaScript, el lenguaje fue renombrado a **LiveScript**. Este nombre se utilizó durante un breve período en 1995.\n",
    "\n",
    "3. **JavaScript**:\n",
    "   - Finalmente, en diciembre de 1995, el lenguaje fue renombrado a **JavaScript**. Este cambio de nombre se debió a una estrategia de marketing para asociarlo con el popular lenguaje de programación Java, a pesar de que JavaScript y Java son muy diferentes en su diseño y propósito.\n",
    "\n",
    "### Estándar ECMAScript\n",
    "\n",
    "A partir de 1997, el **World Wide Web Consortium (W3C)** y **ECMA International** comenzaron a definir las especificaciones del lenguaje JavaScript bajo el nombre de **ECMAScript**. Este estándar asegura la interoperabilidad y la compatibilidad del lenguaje en distintos navegadores y plataformas. El W3C se encarga también de otros protocolos y lenguajes estándar, incluso de principios éticos: https://www.w3.org/TR/ethical-web-principles/ \n",
    "\n",
    "#### Sintaxis y Influencias\n",
    "\n",
    "La sintaxis de JavaScript se inspira en lenguajes como **C** y **Java**. Sin embargo, JavaScript es fundamentalmente diferente en su propósito y funcionalidad:\n",
    "- **C**: Influye en la estructura básica y la sintaxis de control (bucles, condiciones).\n",
    "- **Java**: Inspira la sintaxis de los objetos y la programación orientada a objetos.\n",
    "\n",
    "### Versiones Importantes de ECMAScript\n",
    "\n",
    "1. **ECMAScript 5th Edition (ES5)**:\n",
    "   - Publicada en diciembre de 2009.\n",
    "   - Esta versión es **soportada por todos los navegadores actuales**.\n",
    "   - Introdujo características clave como el \"strict mode\", métodos de array adicionales (como `forEach`, `map`, `filter`), y mejoras en el manejo de objetos.\n",
    "\n",
    "2. **ECMAScript 2015 (ES6)**:\n",
    "   - También conocida como **ES6**, fue publicada en junio de 2015.\n",
    "   - Es una de las actualizaciones más importantes del lenguaje, incorporando muchas características nuevas que facilitan y modernizan el desarrollo en JavaScript:\n",
    "     - **Clases**: Simplifican la sintaxis para la programación orientada a objetos.\n",
    "     - **Módulos**: Permiten la importación y exportación de bloques de código, mejorando la modularidad y reutilización.\n",
    "     - **Iteradores y Generadores**: Facilitan el manejo de datos iterables.\n",
    "     - **Funciones Flecha**: Proveen una sintaxis más corta para las funciones y cambian el comportamiento del `this`.\n",
    "     - **Declaraciones `let` y `const`**: Introducen alcance de bloque y constantes.\n",
    "     - **Promesas**: Manejan la asincronía de manera más efectiva y legible.\n",
    "\n",
    "3. **ECMAScript 2024**:\n",
    "   - Es la **última especificación** y trae consigo las actualizaciones más recientes.\n",
    "\n",
    "> En este libro se introducen instrucciones y conceptos posteriores al ES6, el cual debería ser el estándard mínimo con el que trabajaremos. Hay código ES6 que no se puede ejecutar ni transpilar fácilmente a ES5. \n",
    "\n",
    "\n",
    "## Comentarios"
   ]
  },
  {
   "cell_type": "code",
   "execution_count": 6,
   "id": "2ae5ccff",
   "metadata": {},
   "outputs": [],
   "source": [
    "// Comentarios de una línea\n",
    "\n",
    "/*\n",
    "*\n",
    "Comentarios de varias líneas\n",
    "*\n",
    "*/"
   ]
  },
  {
   "cell_type": "markdown",
   "id": "0d736b01",
   "metadata": {},
   "source": [
    "## Variables\n",
    "\n",
    "```javascript\n",
    "// Declaración de Variables\n",
    "\n",
    "// a = 1;\n",
    "// No recomendable. (Prohibido en clase)\n",
    "// Son globales, se declaren donde se declaren.\n",
    "a = 1;\n",
    "\n",
    "// var a = 1;\n",
    "// Única manera antes de ES6. Ya no hay motivo para utilizarlo. (Prohibido en clase)\n",
    "var a = 1;\n",
    "\n",
    "// let a = 1;\n",
    "// Soluciona problemas de scope de var.\n",
    "// No se puede declarar dos veces.\n",
    "let a = 1;\n",
    "\n",
    "// const a = 1;\n",
    "// No se puede reasignar el valor.\n",
    "const a = 1;\n",
    "\n",
    "// var a;\n",
    "// a = 1;\n",
    "// Declaración con valor ‘undefined’.\n",
    "// Asignación del valor.\n",
    "var a;\n",
    "a = 1;\n",
    "\n",
    "// window.a = 1;\n",
    "// Equivalente a variable global, pero el código queda más claro.\n",
    "window.a = 1;\n",
    "```\n",
    "\n",
    "> Con const no se puede reasignar, pero si es un objeto o array, se puede cambiar su contenido. \n",
    "\n",
    "> Practica con las variables: https://jsfiddle.net/xxjcaxx/f60qayg9/6/"
   ]
  },
  {
   "cell_type": "markdown",
   "id": "8ad808c4",
   "metadata": {},
   "source": [
    "## Tipos de Variables\n",
    "\n",
    "Javascript es un lenguaje no tipado. Aunque ya veremos que esta definición se queda corta: \n",
    "\n",
    "### No Tipado\n",
    "\n",
    "No tipado significa que no es necesario declarar el tipo de datos de una variable al definirla. Esto es diferente a lenguajes como Java o C#, donde se debe especificar si una variable es un entero, un string, etc.\n",
    "\n",
    "### En realidad es Dinámicamente Tipado\n",
    "\n",
    "Aunque Javascript no requiere que se declare el tipo de datos, una vez que una variable es asignada, adquiere un tipo. Además, las variables en Javascript pueden cambiar de tipo a lo largo de la ejecución del programa, lo que se conoce como \"tipado dinámico\".\n",
    "\n",
    "```javascript\n",
    "let x = 1;  // x es un número\n",
    "x = '1';    // ahora x es un string\n",
    "```\n",
    "\n",
    "### Tipado Débil\n",
    "\n",
    "Javascript es un lenguaje débilmente tipado, lo que significa que permite operaciones entre diferentes tipos de datos, y a menudo convierte automáticamente los tipos según sea necesario. Estas conversiones automáticas pueden llevar a resultados inesperados, pero también hacen que el lenguaje sea más flexible.\n",
    "\n",
    "Por ejemplo:\n",
    "\n",
    "```javascript\n",
    "console.log(\"1234\" * 1);  // 1234, string convertido a número\n",
    "console.log(2 / \"bla bla\");  // NaN, \"bla bla\" no se puede convertir a número\n",
    "```\n"
   ]
  },
  {
   "cell_type": "markdown",
   "id": "1b2d31ea",
   "metadata": {},
   "source": [
    "### Tipos Soportados\n",
    "\n",
    "Estos son los tipos soportados, como se puede ver, hay menos cantidad que en otros lenguajes sin perder la capacidad de representación de la información. El caso de las variables numéricas es interesante porque internamente usa coma flotante de doble precisión para cualquier número. \n",
    "\n",
    "| Tipo       | Ejemplo   | Descripción                                |\n",
    "|------------|-----------|--------------------------------------------|\n",
    "| Cadena     | \"Hola Mundo\" | Caracteres dentro de comillas            |\n",
    "| Número     | 9.34      | Números con punto para decimales           |\n",
    "| Boolean    | true      | true o false                               |\n",
    "| Null       | null      | Sin valor                                  |\n",
    "| Function   |           | Una función es referenciable como una variable |\n",
    "| Object     |           | Objetos como arrays o otros                |\n",
    "\n",
    "\n",
    "Cabe destacar que Javascript tiene los tipos `string`y `String` o `number`y `Number`, así como `Boolean`. Con mayúsculas son objetos especiales que pueden ser usados como primitivos, pero también tienen métodos. Las `strings` siempre se comportan tanto como primitivos como `String`.\n",
    "\n",
    "Además, soporta valores especiales:\n",
    "* **undefined**: Indica que a la variable no se le ha asignado valor. \n",
    "* **null**: Valor nulo, se comporta como un objeto vacío. \n",
    "* **NaN**: Not a Number, se obtiene cuando no se puede convertir a número el resultado de una operación.\n",
    "* **Inifinity -Infinity**: Demasiado grande o pequeño o el infinito en sí mismo. Por ejemplo, se puede hacer un bucle for de 0 a Infinity. \n",
    "\n",
    "#### typeOf\n",
    "\n",
    "Si queremos saber de qué tipo es una variable, podemos preguntar con ***typeOf():***\n"
   ]
  },
  {
   "cell_type": "code",
   "execution_count": 7,
   "id": "2107f9ae",
   "metadata": {},
   "outputs": [
    {
     "name": "stdout",
     "output_type": "stream",
     "text": [
      "object\n"
     ]
    }
   ],
   "source": [
    "let array_mix = [\n",
    " \"abcdef\", 2 , 2.1 , 2.9e3 , 2e-3 ,\n",
    " 0o234 , 0x23AF , true , [1,2,3] , {'a': 1, 'b': 2}\n",
    "];\n",
    "for (let i=0;i<array_mix.length;i++) {\n",
    " console.log(typeof(array_mix[i]));\n",
    "}"
   ]
  },
  {
   "cell_type": "markdown",
   "id": "9e403bb8",
   "metadata": {},
   "source": [
    "## Conversiones\n",
    "\n",
    "En javascript las conversiones de tipos no siempre son necesarias, ya que existe un concepto llamado ***Type coercion*** que fuerza a una conversión automática cuando se usan distintos tipos. \n",
    "\n",
    "Además, las funciones constructoras de los objetos Number, String, Boolean invocadas sin `new` y hacen una conversión de tipos. "
   ]
  },
  {
   "cell_type": "code",
   "execution_count": 8,
   "id": "0c0f44a7",
   "metadata": {},
   "outputs": [
    {
     "name": "stdout",
     "output_type": "stream",
     "text": [
      "[\n",
      "  123,     NaN,    0,           0,\n",
      "  1,       0,      0,           NaN,\n",
      "  false,   true,   true,        \"123\",\n",
      "  \"0\",     \"NaN\",  \"Infinity\",  \"true\",\n",
      "  \"false\", \"null\", \"undefined\", false,\n",
      "  true,    false,  true,        \"51\",\n",
      "  4,       10,     2.5,         1,\n",
      "  true,    true,   true,        true,\n",
      "  true,    true,   false,       false,\n",
      "  false,   false,  false,       false\n",
      "]\n"
     ]
    }
   ],
   "source": [
    "(()=>{\n",
    "const conversions = [];\n",
    "\n",
    "// String to Number\n",
    "conversions.push(Number(\"123\")); // 123\n",
    "conversions.push(Number(\"123abc\")); // NaN\n",
    "conversions.push(Number(\"\")); // 0\n",
    "conversions.push(Number(\" \")); // 0\n",
    "\n",
    "// Boolean to Number\n",
    "conversions.push(Number(true)); // 1\n",
    "conversions.push(Number(false)); // 0\n",
    "\n",
    "// Null and Undefined to Number\n",
    "conversions.push(Number(null)); // 0\n",
    "conversions.push(Number(undefined)); // NaN\n",
    "\n",
    "// String to Boolean\n",
    "conversions.push(Boolean(\"\")); // false\n",
    "conversions.push(Boolean(\" \")); // true\n",
    "conversions.push(Boolean(\"false\")); // true\n",
    "\n",
    "// Number to String\n",
    "conversions.push(String(123)); // \"123\"\n",
    "conversions.push(String(0)); // \"0\"\n",
    "conversions.push(String(NaN)); // \"NaN\"\n",
    "conversions.push(String(Infinity)); // \"Infinity\"\n",
    "\n",
    "// Boolean to String\n",
    "conversions.push(String(true)); // \"true\"\n",
    "conversions.push(String(false)); // \"false\"\n",
    "\n",
    "// Null and Undefined to String\n",
    "conversions.push(String(null)); // \"null\"\n",
    "conversions.push(String(undefined)); // \"undefined\"\n",
    "\n",
    "// Number to Boolean\n",
    "conversions.push(Boolean(0)); // false\n",
    "conversions.push(Boolean(1)); // true\n",
    "conversions.push(Boolean(NaN)); // false\n",
    "conversions.push(Boolean(Infinity)); // true\n",
    "\n",
    "// Implicit Coercion in Operations\n",
    "conversions.push(\"5\" + 1); // \"51\"\n",
    "conversions.push(\"5\" - 1); // 4\n",
    "conversions.push(\"5\" * 2); // 10\n",
    "conversions.push(\"5\" / 2); // 2.5\n",
    "conversions.push(\"5\" % 2); // 1\n",
    "\n",
    "// Coercion with ==\n",
    "conversions.push(5 == \"5\"); // true\n",
    "conversions.push(false == 0); // true\n",
    "conversions.push(null == undefined); // true\n",
    "conversions.push([] == false); // true\n",
    "conversions.push([] == \"\"); // true\n",
    "conversions.push([1,2] == \"1,2\"); // true\n",
    "\n",
    "// Coercion with ===\n",
    "conversions.push(5 === \"5\"); // false\n",
    "conversions.push(false === 0); // false\n",
    "conversions.push(null === undefined); // false\n",
    "conversions.push([] === false); // false\n",
    "conversions.push([] === \"\"); // false\n",
    "conversions.push([1,2] === \"1,2\"); // false\n",
    "\n",
    "console.log(conversions);\n",
    "})();"
   ]
  },
  {
   "cell_type": "markdown",
   "id": "38719e78",
   "metadata": {},
   "source": [
    "\n",
    "\n",
    "> Puede ser útil, pero es una mala práctica usar continuamente la conversión forzada. Es mejor tener claro el tipo de datos que estamos usando. Para evitar los posibles problemas se inventó TypeScript. \n",
    "\n",
    "### Convertir cadenas a números usando parseInt(), parseFloat(), o el operador \"+\"\n",
    "```javascript\n",
    "let cadenaNumerica = \"1234\";\n",
    "let numero1 = parseInt(cadenaNumerica); // convierte la cadena a un número entero\n",
    "let numero2 = parseFloat(cadenaNumerica); // convierte la cadena a un número de punto flotante\n",
    "let numero3 = +\"1234\"; // convierte la cadena a un número utilizando el operador \"+\"\n",
    "```\n",
    "\n"
   ]
  },
  {
   "cell_type": "code",
   "execution_count": 9,
   "id": "783b70bc",
   "metadata": {},
   "outputs": [
    {
     "name": "stdout",
     "output_type": "stream",
     "text": [
      "[\n",
      "  20, 20, 2, NaN, 20, 10,\n",
      "  10, 10, 8,  15, 15, 20,\n",
      "  15, 10\n",
      "]\n"
     ]
    }
   ],
   "source": [
    "(()=>{\n",
    "const ejemplos = [];\n",
    "\n",
    "// Ejemplos de parseInt: parseo\n",
    "ejemplos.push(parseInt(\"20px\"));        // 20\n",
    "ejemplos.push(parseInt(\"10100\", 2));    // 20\n",
    "ejemplos.push(parseInt(\"2e1\"));         // 2\n",
    "\n",
    "// Ejemplos de Number: conversión de tipo\n",
    "ejemplos.push(Number(\"20px\"));          // NaN\n",
    "ejemplos.push(Number(\"2e1\"));           // 20, notación exponencial\n",
    "\n",
    "// parseInt ignora caracteres al final que no corresponden con dígitos de la base actual\n",
    "ejemplos.push(parseInt(\"010\"));         // 8, octal implícito\n",
    "ejemplos.push(parseInt(\"010\", 10));     // 10, usando la base decimal\n",
    "\n",
    "// Number no detecta octales implícitos, pero puede detectar la notación octal explícita\n",
    "ejemplos.push(Number(\"010\"));           // 10\n",
    "ejemplos.push(Number(\"0o10\"));          // 8, octal explícito\n",
    "\n",
    "// Ambos pueden manejar números en notación hexadecimal\n",
    "ejemplos.push(Number(\"0xF\"));           // 15\n",
    "ejemplos.push(parseInt(\"0xF\"));         // 15\n",
    "\n",
    "// Operador unario + para conversión numérica, equivalente a usar Number\n",
    "ejemplos.push(+\"2e1\");                  // 20\n",
    "ejemplos.push(+\"0xF\");                  // 15\n",
    "ejemplos.push(+\"010\");                  // 10\n",
    "\n",
    "console.log(ejemplos);\n",
    "})();"
   ]
  },
  {
   "cell_type": "markdown",
   "id": "59e28b00",
   "metadata": {},
   "source": [
    "\n",
    "\n",
    "### Convertir números a cadenas concatenándolos con una cadena vacía \"\"\n",
    "```javascript\n",
    "let numero = 3600;\n",
    "let cadenaNumero = \"\" + numero; // convierte el número a una cadena\n",
    "```\n",
    "### Obtener la longitud de una cadena o array utilizando .length\n",
    "```javascript\n",
    "let cadena = \"\" + 3600;\n",
    "let longitudCadena = cadena.length; // longitud de la cadena (en este caso, 4)\n",
    "```\n",
    "### Convertir cualquier tipo a booleano (Truthy y Falsy)\n",
    "![exemples truthy falsy](./imgs/truthy.png \"Title\")\n",
    "```javascript\n",
    "// Valores Falsy: false, 0, \"\", null, undefined, NaN\n",
    "// Valores Truthy: cualquier valor que no sea Falsy\n",
    "let valorFalsy = 0;\n",
    "let valorTruthy = \"Hola\";\n",
    "let booleanoFalsy = Boolean(valorFalsy); // convierte el valor a booleano (en este caso, false)\n",
    "let booleanoTruthy = Boolean(valorTruthy); // convierte el valor a booleano (en este caso, true)\n",
    "```"
   ]
  },
  {
   "cell_type": "markdown",
   "id": "affb014c",
   "metadata": {},
   "source": [
    "## Funciones en JavaScript\n",
    "\n",
    "### Introducción a las Funciones\n",
    "\n",
    "Las funciones son bloques fundamentales de código en JavaScript. Permiten agrupar y reutilizar código, y son esenciales para la programación modular, estructurada y funcional. \n",
    "\n",
    "### Argumentos en las Funciones\n",
    "\n",
    "Una característica notable de JavaScript es que no da error si llamas a una función con más argumentos de los que espera. Los argumentos adicionales simplemente son ignorados.\n"
   ]
  },
  {
   "cell_type": "code",
   "execution_count": 10,
   "id": "34ef8add",
   "metadata": {},
   "outputs": [
    {
     "name": "stdout",
     "output_type": "stream",
     "text": [
      "Hola, Juan\n"
     ]
    }
   ],
   "source": [
    "function saludar(nombre) {\n",
    "  console.log(\"Hola, \" + nombre);\n",
    "}\n",
    "saludar(\"Juan\", \"extra\"); // \"Hola, Juan\""
   ]
  },
  {
   "cell_type": "markdown",
   "id": "196bd805",
   "metadata": {},
   "source": [
    "El orden de los argumentos es crucial. Los argumentos se asignan a los parámetros en el orden en que se pasan.\n",
    "\n",
    "Javascript, en las funciones, crea un objeto llamando `arguments` que tiene los argumentos pasados, la posición como clave y la cantidad de argumentos con `length`. "
   ]
  },
  {
   "cell_type": "code",
   "execution_count": 4,
   "id": "dfb5cf3f",
   "metadata": {},
   "outputs": [
    {
     "name": "stdout",
     "output_type": "stream",
     "text": [
      "[Arguments] { \"0\": 1, \"1\": 2, \"2\": 3 }\n"
     ]
    }
   ],
   "source": [
    "function a(){ console.log(arguments)} \n",
    "a(1,2,3);"
   ]
  },
  {
   "cell_type": "markdown",
   "id": "e361a061",
   "metadata": {},
   "source": [
    "### Variables Globales y Efectos Secundarios\n",
    "\n",
    "Las funciones pueden utilizar y modificar variables globales, lo que puede llevar a efectos secundarios (side-effects)."
   ]
  },
  {
   "cell_type": "code",
   "execution_count": 11,
   "id": "e89900f5",
   "metadata": {},
   "outputs": [
    {
     "name": "stdout",
     "output_type": "stream",
     "text": [
      "1\n"
     ]
    }
   ],
   "source": [
    "\n",
    "let contador = 0;\n",
    "function incrementar() {\n",
    "  contador++;\n",
    "}\n",
    "incrementar();\n",
    "console.log(contador); // 1"
   ]
  },
  {
   "cell_type": "markdown",
   "id": "cdd3825d",
   "metadata": {},
   "source": [
    "> En términos generales, evitaremos funciones que usen o modifiquen variables globales. Estas funciones son consideradas como no puras y veremos en posteriores capítulos porqué no se deben utilizar. "
   ]
  },
  {
   "cell_type": "markdown",
   "id": "65af4743",
   "metadata": {},
   "source": [
    "\n",
    "\n",
    "### Return en Funciones\n",
    "\n",
    "Las funciones pueden o no tener un valor de retorno. Si no se especifica un `return`, la función devuelve `undefined` por defecto. Las funciones sólo retornan un valor. Si queremos retornar más de uno los podemos agrupar en arrays o objetos. \n"
   ]
  },
  {
   "cell_type": "code",
   "execution_count": 12,
   "id": "eb54ab57",
   "metadata": {},
   "outputs": [
    {
     "name": "stdout",
     "output_type": "stream",
     "text": [
      "undefined Hola\n"
     ]
    }
   ],
   "source": [
    "function sinRetorno() {\n",
    "  let mensaje = \"Hola\";\n",
    "}\n",
    "\n",
    "function conRetorno() {\n",
    "  let mensaje = \"Hola\";\n",
    "  return mensaje;\n",
    "}\n",
    "\n",
    "console.log(sinRetorno(),conRetorno()); "
   ]
  },
  {
   "cell_type": "markdown",
   "id": "107d53f9",
   "metadata": {},
   "source": [
    "\n",
    "### Invocación de Funciones\n",
    "\n",
    "Al usar paréntesis `()`, invocas a la función. Sin paréntesis, haces referencia al objeto que representa la función.\n",
    "\n",
    "### Las Funciones son Objetos\n",
    "\n",
    "En JavaScript, las funciones son objetos de primera clase. Esto significa que pueden ser asignadas a variables, pasadas como argumentos y devueltas por otras funciones.\n"
   ]
  },
  {
   "cell_type": "code",
   "execution_count": 13,
   "id": "eb3d7ed1",
   "metadata": {},
   "outputs": [
    {
     "name": "stdout",
     "output_type": "stream",
     "text": [
      "6\n"
     ]
    }
   ],
   "source": [
    "\n",
    "function multiplicar(x, y) {\n",
    "  return x * y;\n",
    "}\n",
    "let operacion = multiplicar;\n",
    "console.log(operacion(2, 3)); // 6"
   ]
  },
  {
   "cell_type": "markdown",
   "id": "9a145534",
   "metadata": {},
   "source": [
    "> La capacidad de Javascript de tratar a las funciones como objetos le permite facilitar el uso de funciones de `Callback` y la programación funcional, que veremos en su capítulo."
   ]
  },
  {
   "cell_type": "markdown",
   "id": "d28eb6a1",
   "metadata": {},
   "source": [
    "\n",
    "\n",
    "### Declaración de Funciones\n",
    "\n",
    "#### Declaración de Función\n",
    "\n",
    "Las funciones pueden ser declaradas de manera explícita. Este tipo de declaración se carga en tiempo de compilación, permitiendo su uso antes de la declaración (hoisting).\n",
    "\n"
   ]
  },
  {
   "cell_type": "code",
   "execution_count": 14,
   "id": "1ef20add",
   "metadata": {},
   "outputs": [
    {
     "name": "stdout",
     "output_type": "stream",
     "text": [
      "5\n"
     ]
    }
   ],
   "source": [
    "console.log(suma(2, 3)); // 5\n",
    "\n",
    "function suma(a, b) {\n",
    "  return a + b;\n",
    "}"
   ]
  },
  {
   "cell_type": "markdown",
   "id": "92d51342",
   "metadata": {},
   "source": [
    "\n",
    "#### Expresión de Función\n",
    "\n",
    "Las funciones también pueden ser definidas mediante expresiones. Este tipo de función se evalúa en tiempo de ejecución y no soporta hoisting."
   ]
  },
  {
   "cell_type": "code",
   "execution_count": 15,
   "id": "9996d322",
   "metadata": {},
   "outputs": [
    {
     "name": "stdout",
     "output_type": "stream",
     "text": [
      "2\n"
     ]
    }
   ],
   "source": [
    "let restar = function(a, b) {\n",
    "  return a - b;\n",
    "};\n",
    "\n",
    "console.log(restar(5, 3)); // 2"
   ]
  },
  {
   "cell_type": "markdown",
   "id": "5f54bc9b",
   "metadata": {},
   "source": [
    "\n",
    "#### Funciones Anónimas\n",
    "\n",
    "Las expresiones de función pueden ser anónimas, es decir, no tener un nombre. Al no tener nombre, no se pueden invocar a si mismas, por lo que no se pueden hacer recursivas. Si no tienen nombre y son asignadas a una variable con una expresión de función, adquieren el nombre de la variable. Se suelen usar como funciones de \"Callback\", aunque no es lo más recomendable porque luego complican la trazabilidad de los errores. \n"
   ]
  },
  {
   "cell_type": "code",
   "execution_count": 16,
   "id": "c14f7310",
   "metadata": {},
   "outputs": [
    {
     "name": "stdout",
     "output_type": "stream",
     "text": [
      "5\n"
     ]
    }
   ],
   "source": [
    "let dividir = function(a, b) {\n",
    "  return a / b;\n",
    "};\n",
    "console.log(dividir(10, 2)); // 5"
   ]
  },
  {
   "cell_type": "markdown",
   "id": "05e1baee",
   "metadata": {},
   "source": [
    "#### Funciones Flecha\n",
    "\n",
    "Las funciones flecha en JavaScript representan una simplificación sintáctica de las funciones anónimas tradicionales. Estas son su principales características:\n",
    "\n",
    "1. **Sintaxis Concisa**: No es necesario usar la palabra clave `function`, `return`, ni utilizar llaves `{}` si la función solo tiene una expresión.\n",
    "   \n",
    "2. **Constantes por Defecto**: Se recomienda declarar funciones flecha utilizando `const` en lugar de `var` o `let`, ya que una vez asignadas, no pueden ser reasignadas a otro valor.\n",
    "\n",
    "3. **No tienen `this` propio**: A diferencia de las funciones regulares, las funciones flecha no tienen su propio contexto `this`. En su lugar, heredan el `this` del contexto en el que fueron creadas.\n",
    "\n",
    "4. **No son hoisted**: Las funciones flecha no son elevadas (`hoisted`) como las funciones tradicionales. Esto significa que no pueden ser invocadas antes de su declaración en el código.\n",
    "\n",
    "5. **Uso de `{}` y `return`**: Si la función flecha tiene más de una línea de código o más de una instrucción, es necesario utilizar llaves `{}` y la palabra clave `return` explícitamente.\n",
    "\n",
    "6. **No pueden ser métodos**: Debido a que no tienen su propio `this`, no pueden ser utilizadas como métodos en objetos. \n",
    "\n",
    "##### Ejemplo Comparativo\n",
    "\n",
    "**Expresión de función tradicional**\n",
    "```javascript\n",
    "var multiplicar = function(x, y) {\n",
    "  return x * y;\n",
    "};\n",
    "```\n",
    "**Expresión de función flecha**\n",
    "```javascript\n",
    "const multiplicar = (x, y) => x * y;\n",
    "```\n",
    "\n",
    "> Las funciones flecha son muy usadas en la programación funcional. Pero también son criticadas por:\n",
    " * No tener una sintaxis coherente al necesitar () {} o return en algunas circunstancias o ser demasiado cortas y ser confundidas con asignaciones. \n",
    " * No pueden ser usadas como métodos o constructor por no tener contexto (this). \n",
    " * Cuando retornan un objeto literal siempre necesitan {} y return, lo cual es molesto, a no ser que se ponga entre paréntesis. \n",
    " ```javascript\n",
    " const func = () => ({ foo: 1 });\n",
    " ```\n",
    " * No tienen el array `arguments`, aunque se puede usar la técnica de `rest parameters` como alternativa \n",
    " ```javascript\n",
    " const f = (...args) => args[0] + n;\n",
    " ```\n",
    "##### Uso en Objetos\n",
    "\n"
   ]
  },
  {
   "cell_type": "code",
   "execution_count": 17,
   "id": "3446e5b2",
   "metadata": {},
   "outputs": [
    {
     "name": "stdout",
     "output_type": "stream",
     "text": [
      "undefined undefined\n"
     ]
    }
   ],
   "source": [
    "\n",
    "const persona = {\n",
    "  nombre: 'Pepe',\n",
    "  apellido: 'García',\n",
    "  \n",
    "  // Función regular\n",
    "  consulta: function() {\n",
    "    return `${this.nombre} ${this.apellido}`;\n",
    "  },\n",
    "  \n",
    "  // Función flecha\n",
    "  consultar: () => {\n",
    "    // En este contexto, `this` no se refiere al objeto persona\n",
    "    return `${this.nombre} ${this.apellido}`;\n",
    "  }\n",
    "};\n",
    "\n",
    "console.log(persona.consulta());   // Salida: Pepe García\n",
    "console.log(persona.consultar());  // Salida: undefined undefined\n"
   ]
  },
  {
   "cell_type": "markdown",
   "id": "5b94d73e",
   "metadata": {},
   "source": [
    "\n",
    "- **Función Regular**: `consulta` es una función regular dentro del objeto `persona`. Al llamar a `this.nombre` y `this.apellido`, se refiere a las propiedades del objeto `persona`.\n",
    "\n",
    "- **Función Flecha**: `consultar` es una función flecha dentro del objeto `persona`. Debido a que las funciones flecha no tienen su propio `this`, `this` dentro de `consultar` no se refiere al objeto `persona`, sino al contexto global o a `undefined` en modo estricto (`undefined` en este caso).\n",
    "\n",
    "Lecturas recomendadas de funciones flecha:\n",
    "\n",
    "* https://www.digitalocean.com/community/tutorials/understanding-arrow-functions-in-javascript\n",
    "* https://developer.mozilla.org/es/docs/Web/JavaScript/Reference/Functions/Arrow_functions"
   ]
  },
  {
   "cell_type": "markdown",
   "id": "3573d81d",
   "metadata": {},
   "source": [
    "\n",
    "\n",
    "### Ámbito de las Funciones\n",
    "\n",
    "Las funciones deben estar dentro del ámbito en el que se llaman. Las funciones declaradas pueden ser llamadas antes de su definición debido al hoisting, pero las funciones definidas con expresiones no. Las funciones pueden estar dentro del ámbito (scope) de otras funciones y no poder ser invocadas desde fuera. \n",
    "\n",
    "#### Hoisting\n",
    "\n",
    "Las declaraciones de función se \"elevan\" al principio del ámbito, permitiendo su uso antes de la definición.\n",
    "https://www.w3schools.com/js/js_hoisting.asp \n"
   ]
  },
  {
   "cell_type": "code",
   "execution_count": 18,
   "id": "70169d2f",
   "metadata": {},
   "outputs": [
    {
     "name": "stdout",
     "output_type": "stream",
     "text": [
      "6\n"
     ]
    }
   ],
   "source": [
    "\n",
    "console.log(multiplicar(2, 3)); // 6\n",
    "\n",
    "function multiplicar(a, b) {\n",
    "  return a * b;\n",
    "}\n"
   ]
  },
  {
   "cell_type": "markdown",
   "id": "f6265c25",
   "metadata": {},
   "source": [
    "\n",
    "\n",
    "#### No Hoisting\n",
    "\n",
    "Las expresiones de función no soportan hoisting.\n",
    "\n"
   ]
  },
  {
   "cell_type": "code",
   "execution_count": 19,
   "id": "2de6c8ad",
   "metadata": {},
   "outputs": [
    {
     "name": "stdout",
     "output_type": "stream",
     "text": [
      "5\n"
     ]
    }
   ],
   "source": [
    "\n",
    "console.log(dividir(10, 2)); // Error\n",
    "\n",
    "let dividir = function(a, b) {\n",
    "  return a / b;\n",
    "};\n"
   ]
  },
  {
   "cell_type": "markdown",
   "id": "527ff0b9",
   "metadata": {},
   "source": [
    "\n",
    "\n",
    "El ámbito (o scope) en JavaScript se refiere al contexto en el que las variables y funciones están accesibles. JavaScript tiene tres tipos principales de ámbito: global, local o de función, y de bloque.\n",
    "\n",
    "#### Ámbito Global\n",
    "\n",
    "Las variables definidas en el ámbito global están disponibles en cualquier parte del código, tanto dentro como fuera de las funciones.\n",
    "\n"
   ]
  },
  {
   "cell_type": "code",
   "execution_count": 20,
   "id": "0cd6c27c",
   "metadata": {},
   "outputs": [
    {
     "name": "stdout",
     "output_type": "stream",
     "text": [
      "1\n"
     ]
    }
   ],
   "source": [
    "var a = 1;\n",
    "\n",
    "function global() {\n",
    "  console.log(a);\n",
    "}\n",
    "\n",
    "global(); // 1\n",
    "console.log(a); // 1"
   ]
  },
  {
   "cell_type": "markdown",
   "id": "a21ccc6b",
   "metadata": {},
   "source": [
    "\n",
    "En el ejemplo anterior, la variable `a` está definida en el ámbito global. Esto significa que es accesible tanto dentro de la función `global` como fuera de ella.\n",
    "\n",
    "#### Ámbito Local o de Función\n",
    "\n",
    "Las variables definidas dentro de una función tienen un ámbito local a esa función. Esto significa que no se puede acceder a ellas desde fuera de la función.\n",
    "\n"
   ]
  },
  {
   "cell_type": "code",
   "execution_count": 21,
   "id": "7a0ce1e6",
   "metadata": {},
   "outputs": [
    {
     "name": "stdout",
     "output_type": "stream",
     "text": [
      "\u001b[33m2\u001b[39m\n",
      "\u001b[33m1\u001b[39m\n"
     ]
    }
   ],
   "source": [
    "function local() {\n",
    "  var a = 2;\n",
    "  console.log(a); // 2\n",
    "}\n",
    "\n",
    "local();\n",
    "console.log(a); // Error: a is not defined\n"
   ]
  },
  {
   "cell_type": "markdown",
   "id": "e7ec9af8",
   "metadata": {},
   "source": [
    "En este ejemplo, la variable `a` está definida dentro de la función `local`, por lo que sólo es accesible dentro de esa función. Fuera de la función, `a` no está definida.\n",
    "\n",
    "#### Ámbito de Bloque\n",
    "\n",
    "El ámbito de bloque se refiere a las variables definidas dentro de un bloque de código, como un bucle `for` o una declaración `if`. En ES6, `let` y `const` permiten definir variables con ámbito de bloque."
   ]
  },
  {
   "cell_type": "code",
   "execution_count": 22,
   "id": "1f5ac8c0",
   "metadata": {},
   "outputs": [
    {
     "name": "stdout",
     "output_type": "stream",
     "text": [
      "\u001b[33m0\u001b[39m\n",
      "\u001b[33m1\u001b[39m\n",
      "\u001b[33m2\u001b[39m\n",
      "\u001b[33m3\u001b[39m\n",
      "\u001b[33m4\u001b[39m\n",
      "\u001b[33m5\u001b[39m\n",
      "\u001b[33m6\u001b[39m\n",
      "\u001b[33m7\u001b[39m\n",
      "\u001b[33m8\u001b[39m\n",
      "\u001b[33m9\u001b[39m\n"
     ]
    },
    {
     "ename": "ReferenceError",
     "evalue": "i is not defined",
     "output_type": "error",
     "traceback": [
      "Stack trace:",
      "ReferenceError: i is not defined",
      "    at <anonymous>:4:13"
     ]
    }
   ],
   "source": [
    "for (let i = 0; i < 10; i++) {\n",
    "  console.log(i); // Imprime números del 0 al 9\n",
    "}\n",
    "\n",
    "console.log(i); // Error: i is not defined"
   ]
  },
  {
   "cell_type": "markdown",
   "id": "1f909647",
   "metadata": {},
   "source": [
    "\n",
    "\n",
    "En el ejemplo anterior, la variable `i` está definida con `let` dentro del bucle `for`. Esto significa que `i` sólo es accesible dentro del bloque del bucle `for`. Intentar acceder a `i` fuera del bucle produce un error.\n",
    "\n",
    "> En estos ejemplos hemos usado `var` para demostrar conceptos del ámbito, debem servir para entender que siempre hay que usar `let` y evitar los errores derivados de no respetar el ámbito de bloque.  \n",
    "\n",
    "\n",
    "Observa en un navegador el resultado de estos dos bucles for:"
   ]
  },
  {
   "cell_type": "code",
   "execution_count": 3,
   "id": "c728ef47",
   "metadata": {},
   "outputs": [
    {
     "name": "stdout",
     "output_type": "stream",
     "text": [
      "2\n"
     ]
    }
   ],
   "source": [
    "(()=>{\n",
    "    for (var i = 0; i < 3; i++) {\n",
    "        setTimeout(() => console.log(\"var\",i), 1);\n",
    "      }\n",
    "      \n",
    "      for (let i = 0; i < 3; i++) {\n",
    "        setTimeout(() => console.log(\"let\",i), 1);\n",
    "      }\n",
    "})();"
   ]
  },
  {
   "cell_type": "markdown",
   "id": "0587df49",
   "metadata": {},
   "source": [
    "\n",
    "### Ámbito de las Variables en Funciones\n",
    "\n"
   ]
  },
  {
   "cell_type": "markdown",
   "id": "b1cc29bc",
   "metadata": {},
   "source": [
    "\n",
    "#### Acceso a Variables Globales y de Función Padre\n",
    "\n",
    "Una función puede acceder a las variables globales o a las variables de la función padre en la que está anidada.\n",
    "\n"
   ]
  },
  {
   "cell_type": "code",
   "execution_count": 19,
   "id": "5364ce4d",
   "metadata": {},
   "outputs": [
    {
     "name": "stdout",
     "output_type": "stream",
     "text": [
      "Soy global\n",
      "Soy una variable de la función padre\n"
     ]
    },
    {
     "ename": "ReferenceError",
     "evalue": "localHijo is not defined",
     "output_type": "error",
     "traceback": [
      "Stack trace:",
      "ReferenceError: localHijo is not defined",
      "    at padre (<anonymous>:10:15)",
      "    at <anonymous>:12:1"
     ]
    }
   ],
   "source": [
    "var global2 = \"Soy global\";\n",
    "\n",
    "function padre() {\n",
    "  var localPadre = \"Soy una variable de la función padre\";\n",
    "\n",
    "  function hijo() {\n",
    "    var localHijo = \"Soy una variable de la función hijo\";\n",
    "    console.log(global2); // \"Soy global\"\n",
    "    console.log(localPadre); // \"Soy una variable de la función padre\"\n",
    "  }\n",
    "\n",
    "  hijo();\n",
    "  console.log(localHijo); // Error: localHijo is not defined\n",
    "}\n",
    "\n",
    "padre();"
   ]
  },
  {
   "cell_type": "markdown",
   "id": "c4cd874a",
   "metadata": {},
   "source": [
    "\n",
    "Aquí, la función `hijo` puede acceder a la variable global `global` y a la variable `localPadre` de la función `padre`. Sin embargo, la variable `localHijo` dentro de la función `hijo` no es accesible desde la función `padre`.\n",
    "\n",
    "#### Funciones Anidadas y Variables Privadas\n",
    "\n",
    "Las funciones en JavaScript pueden ser anidadas, lo que permite crear variables privadas que solo son accesibles dentro de la función interna. Esta técnica se utiliza a menudo para crear closures.\n",
    "\n"
   ]
  },
  {
   "cell_type": "code",
   "execution_count": 20,
   "id": "bcf7e840",
   "metadata": {},
   "outputs": [
    {
     "name": "stdout",
     "output_type": "stream",
     "text": [
      "\u001b[33m13\u001b[39m \u001b[33m25\u001b[39m \u001b[33m41\u001b[39m\n"
     ]
    }
   ],
   "source": [
    "\n",
    "function addSquares(a, b) {\n",
    "  function square(x) {\n",
    "    return x * x;\n",
    "  }\n",
    "  return square(a) + square(b);\n",
    "}\n",
    "\n",
    "let A = addSquares(2, 3); // retorna 13\n",
    "let B = addSquares(3, 4); // retorna 25\n",
    "let C = addSquares(4, 5); // retorna 41\n",
    "console.log(A,B,C)"
   ]
  },
  {
   "cell_type": "markdown",
   "id": "03370859",
   "metadata": {},
   "source": [
    "\n",
    "\n",
    "En este ejemplo, la función `square` es una función interna dentro de `addSquares`. `square` no es accesible desde fuera de `addSquares`, pero `addSquares` puede usar `square` para calcular el cuadrado de `a` y `b`.\n",
    "\n",
    "#### Closures en JavaScript\n",
    "\n",
    "Un closure es una función interna que puede acceder a las variables de la función externa que la contiene. La función interna forma un \"cierre\" alrededor del entorno en el que fue creada, permitiéndole acceder a las variables de la función externa incluso después de que esta haya terminado de ejecutarse.\n",
    "\n"
   ]
  },
  {
   "cell_type": "code",
   "execution_count": 21,
   "id": "1afc0d39",
   "metadata": {},
   "outputs": [
    {
     "name": "stdout",
     "output_type": "stream",
     "text": [
      "\u001b[33m8\u001b[39m \u001b[33m8\u001b[39m\n"
     ]
    }
   ],
   "source": [
    "\n",
    "function outside(x) {\n",
    "  function inside(y) {\n",
    "    return x + y;\n",
    "  }\n",
    "  return inside;\n",
    "}\n",
    "\n",
    "let fn_inside = outside(3);\n",
    "let result = fn_inside(5); // retorna 8\n",
    "let result1 = outside(3)(5); // retorna 8\n",
    "\n",
    "console.log(result,result1);"
   ]
  },
  {
   "cell_type": "markdown",
   "id": "87b91499",
   "metadata": {},
   "source": [
    "\n",
    "En este ejemplo, `outside` retorna la función `inside`, que tiene acceso a la variable `x` de `outside`. Esto permite que `inside` use `x` incluso después de que `outside` haya terminado su ejecución.\n",
    "\n",
    "Las closures son difíciles de entender si se viene de programar con C o Java. En estos lenguajes, cualquier variable declarada dentro de una función se elimina cuando esta acaba, ya que forma parte de la pila de la función. La particularidad de Javascript es que puede retornar una función como un objeto más. Estas funciones retornadas puede que hagan uso de variables declaras en el ámbito de la función padre. En este caso, esas variables no dejarán de existir mientras se use la función retornada.  \n",
    "\n",
    "**¿Son las Closures Realmente Útiles?**\n",
    "\n",
    "Las closures son una característica poderosa en JavaScript. Permiten asociar algunos datos (el entorno) con una función que opera sobre esos datos. Esto tiene claros paralelismos con la programación orientada a objetos, donde los objetos nos permiten asociar algunos datos (las propiedades del objeto) con uno o más métodos.\n",
    "\n",
    "En la web, hay situaciones comunes en las que los closures son particularmente útiles. El código JavaScript para la web está basado en eventos. De esta manera, podemos conectar un comportamiento con un evento mediante un callback. Ese call back puede tener una closure. \n",
    "\n",
    "Supongamos que queremos contar cuántas veces un usuario hace clic en un botón. Podríamos usar un closure para mantener la cuenta de los clics y asociarla a una función que maneje el evento de clic.\n",
    "\n",
    "```javascript\n",
    "    function createClickCounter() {\n",
    "      let count = 0; // Este es el entorno que se asocia con la función de devolución de llamada\n",
    "\n",
    "      return function() {\n",
    "        count++; // La función de devolución de llamada opera sobre el entorno\n",
    "        console.log(`Button clicked ${count} times`);\n",
    "      };\n",
    "    }\n",
    "    const button = document.getElementById('clickMe');\n",
    "    const handleClick = createClickCounter(); // Creamos un closure\n",
    "    button.addEventListener('click', handleClick); // Adjuntamos el closure como callback\n",
    "```"
   ]
  },
  {
   "cell_type": "markdown",
   "id": "8c7e16cb",
   "metadata": {},
   "source": [
    "### Funciones Auto-Invocadas\n",
    "\n",
    "En JavaScript, una función auto-invocada (IIFE, por sus siglas en inglés: Immediately Invoked Function Expression) es una función que se define y se ejecuta inmediatamente. Este tipo de funciones son útiles para crear un ámbito aislado y evitar la contaminación del espacio de nombres global.\n",
    "\n",
    "### Ejemplo de Función Auto-Invocada\n",
    "\n"
   ]
  },
  {
   "cell_type": "code",
   "execution_count": 22,
   "id": "7afac1cb",
   "metadata": {},
   "outputs": [],
   "source": [
    "\n",
    "(function () {\n",
    "  var aName = \"Barry\";\n",
    "})();\n",
    "//console.log(aName); // \"Uncaught ReferenceError: aName is not defined\""
   ]
  },
  {
   "cell_type": "markdown",
   "id": "cc9db429",
   "metadata": {},
   "source": [
    "\n",
    "En este ejemplo, la variable `aName` está definida dentro de una función auto-invocada y no es accesible fuera de esta. Intentar acceder a `aName` fuera de la función resulta en un error de referencia.\n",
    "\n",
    "Otro ejemplo donde la función auto-invocada retorna un valor:\n",
    "\n"
   ]
  },
  {
   "cell_type": "code",
   "execution_count": 23,
   "id": "01e31da0",
   "metadata": {},
   "outputs": [
    {
     "name": "stdout",
     "output_type": "stream",
     "text": [
      "Barry\n"
     ]
    }
   ],
   "source": [
    "let result = (function () {\n",
    "  let name = \"Barry\";\n",
    "  return name;\n",
    "})();\n",
    "console.log(result); // \"Barry\""
   ]
  },
  {
   "cell_type": "markdown",
   "id": "1d104d1c",
   "metadata": {},
   "source": [
    "Aquí, la función auto-invocada retorna el valor de `name`, que es almacenado en la variable `result`.\n",
    "\n",
    "#### Características de las Funciones Auto-Invocadas\n",
    "\n",
    "1. **Ejecución Inmediata:** Las funciones auto-invocadas se ejecutan tan pronto como se definen, sin necesidad de ser llamadas explícitamente en otro lugar del código.\n",
    "\n",
    "2. **Ámbito Aislado:** Las variables definidas dentro de una función auto-invocada no son accesibles desde fuera de la función. Esto ayuda a mantener el código limpio y a evitar conflictos de nombres.\n",
    "\n",
    "3. **Código Aislado:** El código dentro de una función auto-invocada se ejecuta inmediatamente, pero está aislado del resto del código. Esto es útil para encapsular el código que solo necesita ejecutarse una vez.\n",
    "\n",
    "4. **Acepta Argumentos:** Las funciones auto-invocadas pueden aceptar argumentos a través de los paréntesis al final de la definición de la función.\n",
    "\n",
    "5. **Retorno de Valores:** Cuando se utiliza una expresión de función, se guarda el valor retornado, no la función en sí. Esto permite que las funciones auto-invocadas puedan usarse para inicializar variables con valores calculados en el momento de la definición.\n",
    "\n",
    "#### Uso Recomendado\n",
    "\n",
    "Las funciones auto-invocadas son especialmente recomendables para el \"main\" de una aplicación, donde necesitas ejecutar código de inicialización sin interferir con el resto del código. Poner el \"main\" dentro de una función autoinvocada permite que los usuarios no puedan interferir en el código mediante la terminal. \n",
    "\n",
    "En este libro, que también es una colección de `Jupyter Notebooks` con kernel `Deno`, se usan mucho, ya que permite que cada celda de código declare sus variables privadas y no moleste al ámbito global. Por tanto, en un uso en el frontend, permite encapsular y mantener ámbitos privados. Podemos inicializar valores en los que se necesita una función y nunca más se va a utilizar. \n",
    "\n",
    "Antes de los módulos ES6, permitían crear variables privadas de módulos mediante closures. \n",
    "\n",
    "Incluso se puede prevenir conflictos de nombres de librerías. \n",
    "\n",
    "### Argumentos por Defecto\n",
    "\n",
    "JavaScript permite definir argumentos por defecto para las funciones.\n"
   ]
  },
  {
   "cell_type": "code",
   "execution_count": 24,
   "id": "0d5dc52e",
   "metadata": {},
   "outputs": [
    {
     "name": "stdout",
     "output_type": "stream",
     "text": [
      "\u001b[33m4\u001b[39m\n",
      "\u001b[33m6\u001b[39m\n",
      "\u001b[33m9\u001b[39m\n"
     ]
    }
   ],
   "source": [
    "\n",
    "\n",
    "let x = function(x = 2, y = 2) {\n",
    "  return x * y;\n",
    "}\n",
    "console.log(x()); // 4\n",
    "console.log(x(3)); // 6\n",
    "console.log(x(3, 3)); // 9\n"
   ]
  },
  {
   "cell_type": "markdown",
   "id": "4b3db0b9",
   "metadata": {},
   "source": [
    "\n",
    "En este ejemplo, `x` es una función que acepta dos argumentos con valores por defecto de 2. Si no se pasan valores al llamar a la función, se utilizan los valores por defecto.\n",
    "\n",
    "#### Implementación Manual de Argumentos por Defecto\n",
    "\n",
    "Antes de que los argumentos por defecto fueran una característica del lenguaje, se usaban técnicas manuales para lograr el mismo resultado:\n",
    "\n"
   ]
  },
  {
   "cell_type": "code",
   "execution_count": 25,
   "id": "1bd99fba",
   "metadata": {},
   "outputs": [
    {
     "name": "stdout",
     "output_type": "stream",
     "text": [
      "\u001b[33m0\u001b[39m\n",
      "\u001b[33m4\u001b[39m\n",
      "\u001b[33m1\u001b[39m\n",
      "\u001b[33m6\u001b[39m\n",
      "\u001b[33m2\u001b[39m\n",
      "\u001b[33m9\u001b[39m\n"
     ]
    }
   ],
   "source": [
    "\n",
    "var multi = function(x, y) {\n",
    "  if (x === undefined) { x = 2; }\n",
    "  if (y === undefined) { y = 2; }\n",
    "  console.log(arguments.length); // muestra la cantidad de argumentos pasados\n",
    "  return x * y;\n",
    "}\n",
    "\n",
    "console.log(multi()); // 4\n",
    "console.log(multi(3)); // 6\n",
    "console.log(multi(3, 3)); // 9\n"
   ]
  },
  {
   "cell_type": "markdown",
   "id": "4c07b49c",
   "metadata": {},
   "source": [
    "\n",
    "\n",
    "En este ejemplo, `multi` es una función que verifica si los argumentos `x` e `y` son `undefined` y les asigna un valor por defecto de 2 si es necesario. Además, la función utiliza `arguments.length` para mostrar la cantidad de argumentos pasados."
   ]
  },
  {
   "cell_type": "markdown",
   "id": "8faa55a5",
   "metadata": {},
   "source": [
    "## Elementos del lenguaje\n",
    "\n",
    "### Operadores\n",
    "\n",
    "| Operador | Descripción                      | Ejemplo    | Resultado |\n",
    "|----------|----------------------------------|------------|-----------|\n",
    "| ==       | Igual a                          | 1 == 1     | true      |\n",
    "| ===      | Igual en valor y tipo            | 1 === '1'  | false     |\n",
    "| !=       | Distinto a                       | 1 != 2     | true      |\n",
    "| !==      | Distinto en valor y tipo         | 1 !== '1'  | true      |\n",
    "| >        | Mayor que                        | 1 > 2      | false     |\n",
    "| <        | Menor que                        | 1 < 2      | true      |\n",
    "| >=       | Mayor o igual que                | 1 >= 1     | true      |\n",
    "| <=       | Menor o igual que                | 2 <= 1     | false     |\n",
    "\n",
    "\n",
    "Los operadores de comparación estrictos en JavaScript son `===` (igual estrictamente) y `!==` (distinto estrictamente). Comparan tanto el valor como el tipo de los operandos. Estos  Son útiles porque:\n",
    "\n",
    "- **Evitan la Coerción de Tipos**: La coerción implícita puede llevar a resultados inesperados y errores difíciles de detectar. Al usar comparación estricta, se elimina esta ambigüedad.\n",
    "- **Mejoran la Legibilidad del Código**: Los desarrolladores pueden entender más fácilmente lo que el código está comparando, ya que no hay conversiones ocultas.\n",
    "- **Facilitan el Mantenimiento**: Un código más predecible es más fácil de mantener y menos propenso a errores, lo que resulta en menos tiempo de depuración.\n",
    "\n",
    "### Ejemplo de Problema con Comparación No Estricta\n"
   ]
  },
  {
   "cell_type": "code",
   "execution_count": 26,
   "id": "0b3dc93f",
   "metadata": {},
   "outputs": [
    {
     "name": "stdout",
     "output_type": "stream",
     "text": [
      "\u001b[33mtrue\u001b[39m\n",
      "\u001b[33mfalse\u001b[39m\n"
     ]
    }
   ],
   "source": [
    "\n",
    "console.log(false == 0);  // true\n",
    "console.log(false === 0); // false\n"
   ]
  },
  {
   "cell_type": "markdown",
   "id": "1a5ddf13",
   "metadata": {},
   "source": [
    "\n",
    "\n",
    "En el ejemplo anterior, `false == 0` devuelve `true` debido a la coerción de tipos, mientras que `false === 0` devuelve `false` porque los tipos son diferentes.\n",
    "\n",
    "### Estructuras de control\n",
    "\n",
    "```javascript\n",
    "if ( a === 1 ) { ... } else { … }\n",
    "let h = a < b ? 5 : 10 ;\n",
    "for (let i = 0 ; i < 10 ; i++) {...}\n",
    "for (let i of array) {...}\n",
    "while ( i <= 10 ) {...}\n",
    "do {...} while (i <= 10)\n",
    "a === 1 && {...} || {...}\n",
    "```\n",
    "\n",
    "#### Estructura Condicional `if...else`\n",
    "\n",
    " La principal ventaja de `if...else` es su simplicidad y claridad, lo que lo hace fácil de entender y mantener. Sin embargo, su desventaja radica en que puede volverse difícil de gestionar y leer cuando se encadenan muchas condiciones, especialmente si se anidan múltiples `if...else`. Se recomienda usar `if...else` cuando hay una clara bifurcación en el flujo lógico del programa que depende de condiciones booleanas específicas.\n",
    "\n",
    "### Operador Ternario\n",
    "\n",
    "El operador ternario (`condición ? expr1 : expr2`) es una forma concisa de realizar una operación condicional en una sola línea de código. Se usa para asignar un valor basado en una condición, lo que puede hacer que el código sea más compacto y a veces más legible. Es recomendable usar el operador ternario para asignaciones simples y claras donde su uso mejora la concisión sin sacrificar la claridad. \n",
    "> No se debe utilizar para ejecutar instrucciones en función de condiciones. Tan solo para asignar valores. Si se desea ejecutar instrucciones, es mejor con `if`o con operadores `&&` o `||`. \n",
    "\n",
    "### Bucle `for`\n",
    "\n",
    "Se recomienda el uso del bucle `for` para iteraciones que tienen un número definido de repeticiones, como iterar sobre índices de arrays.\n",
    "\n",
    "### Bucle `for...of`\n",
    "\n",
    "El bucle `for...of` se utiliza para iterar sobre elementos de objetos iterables como arrays, strings, mapas y conjuntos. Su ventaja principal es la simplicidad y legibilidad cuando se necesita acceder directamente a los valores de una colección sin preocuparse por los índices. A diferencia del bucle `for`, `for...of` proporciona una forma más limpia y directa de trabajar con elementos iterables. Sin embargo, su desventaja es que no proporciona acceso directo a los índices de los elementos, lo que puede ser necesario en algunas situaciones. Se recomienda usar `for...of` cuando se desea iterar directamente sobre los valores de una colección sin necesidad de manipular los índices.\n",
    "\n",
    "### Bucle `while`\n",
    "\n",
    "Se recomienda usar `while` en casos donde la condición de término no se puede determinar de antemano y puede cambiar durante la ejecución del bucle.\n",
    "\n",
    "### Bucle `do...while`\n",
    "\n",
    "Se recomienda usar `do...while` cuando es necesario asegurar al menos una ejecución del bloque de código antes de evaluar la condición.\n",
    "\n",
    "### Operador Lógico `&&` y `||`\n",
    "\n",
    "Los operadores lógicos `&&` (AND) y `||` (OR) se utilizan para combinar múltiples condiciones en una expresión lógica. En un contexto de control de flujo, se pueden usar para ejecutar bloques de código condicionalmente de manera concisa. Por ejemplo, `a === 1 && {...} || {...}` ejecutará el primer bloque si `a === 1` es verdadero, y el segundo bloque en caso contrario. Es recomendable usarlos para simplificar condiciones lógicas simples, pero con precaución para no sacrificar la claridad del código."
   ]
  },
  {
   "cell_type": "markdown",
   "id": "6f0eb273",
   "metadata": {},
   "source": [
    "## Comunicación con el usuario\n",
    "\n",
    "\n",
    "- **Alerta**: `alert(\"mensaje\")` muestra un mensaje de alerta al usuario.\n",
    "- **Confirmación**: `confirm(\"mensaje\")` muestra un mensaje y permite al usuario confirmar o cancelar.\n",
    "- **Prompt**: `prompt(\"mensaje\", \"valor por defecto\")` muestra un mensaje y permite al usuario ingresar texto.\n",
    "\n",
    "### Console.log()\n",
    "- `console.log()` muestra un mensaje en la consola del navegador.\n",
    "- `console.error()` muestra un mensaje de error en la consola.\n",
    "- `console.warn()` muestra un mensaje de advertencia en la consola.\n",
    "- `console.debug()` muestra un mensaje de depuración en la consola.\n",
    "- `console.info()` muestra un mensaje informativo en la consola.\n",
    "\n",
    "Ejemplos:\n"
   ]
  },
  {
   "cell_type": "code",
   "execution_count": 27,
   "id": "48a7852c",
   "metadata": {},
   "outputs": [
    {
     "name": "stdout",
     "output_type": "stream",
     "text": [
      "Bob tiene 42 años.\n"
     ]
    }
   ],
   "source": [
    "\n",
    "console.log(\"%s tiene %d años.\", \"Bob\", 42);"
   ]
  },
  {
   "cell_type": "code",
   "execution_count": 28,
   "id": "d98763cd",
   "metadata": {},
   "outputs": [
    {
     "name": "stdout",
     "output_type": "stream",
     "text": [
      "\u001b[43m\u001b[32mEste es un texto verde sobre un fondo amarillo.\u001b[0m\n"
     ]
    }
   ],
   "source": [
    "\n",
    "console.log(\"%cEste es un texto verde sobre un fondo amarillo.\", \"color:green; background-color:yellow\");"
   ]
  },
  {
   "cell_type": "markdown",
   "id": "50d30d09",
   "metadata": {},
   "source": [
    "\n",
    "### Otras funciones de consola\n",
    "- `console.dir(objeto)` muestra una representación interactiva del objeto en la consola.\n",
    "- `console.time(label)` inicia un temporizador con una etiqueta.\n",
    "- `console.timeEnd(label)` detiene el temporizador y muestra el tiempo transcurrido.\n",
    "- **CSS en la consola**: Puedes aplicar estilos CSS a los mensajes de la consola para mejorar su apariencia y legibilidad.\n",
    "  - [Este artículo](https://javascript.plainenglish.io/a-prettier-console-log-786f46d0bc3c) proporciona ejemplos sobre cómo aplicar estilos CSS.\n",
    "  - [Aquí](https://javascript.plainenglish.io/adding-css-to-console-log-dde2e167ee7a) encontrarás más información sobre cómo agregar CSS a `console.log()`.\n",
    "\n",
    "Si realmente necesitamos usar la consola, podemos usar una librería como https://adzejs.com/ "
   ]
  },
  {
   "cell_type": "markdown",
   "id": "a3d63a4b",
   "metadata": {},
   "source": [
    "## Template Literals\n",
    "\n",
    "Las `template literals` son una característica de JavaScript que te permite crear cadenas de texto de manera más legible.\n",
    "\n",
    "- Puedes usar comillas simples o dobles para definir una cadena de texto, pero si necesitas incluir el mismo tipo de comillas dentro de la cadena, debes escaparlas con una barra invertida (`\\`).\n",
    "  \n",
    "```javascript\n",
    "console.log('\"No cometemos errores. Solo tenemos accidentes felices.\" - Bob Ross');\n",
    "console.log(\"\\\"No cometemos errores. Solo tenemos accidentes felices.\\\" - Bob Ross\");\n",
    "```\n",
    "- Con las plantillas de cadenas de texto, puedes definir cadenas de texto usando comillas invertidas (backticks).\n",
    "- Esto te permite incluir fácilmente comillas simples y dobles sin necesidad de escaparlas.\n",
    "- También te permite incluir variables y expresiones dentro de la cadena utilizando `${}`.\n",
    "\n",
    "```javascript\n",
    "console.log(`\"No cometemos errores. Solo tenemos accidentes felices.\" - Bob Ross`);\n",
    "console.log(`Homer J. Simpson\n",
    "742 Evergreen Terrace\n",
    "Springfield`);\n",
    "```\n",
    "\n",
    "- Con las plantillas de cadenas de texto, puedes incrustar variables y expresiones dentro de la cadena utilizando `${}`.\n",
    "- Esto hace que sea más fácil y legible concatenar variables y expresiones en una cadena de texto.\n",
    "\n",
    "```javascript\n",
    "let a = 2;\n",
    "console.log('La variable a vale: ' + a);\n",
    "console.log('La variable a vale:', a);\n",
    "console.log(`La variable a vale: ${a}`);\n",
    "console.log(`${host}/login/oauth/authorize?client_id=${clientId}&scope=${scope}`);\n",
    "```\n",
    "\n",
    "- Puedes incluir expresiones condicionales dentro de las plantillas de cadenas de texto para generar dinámicamente partes de la cadena.\n",
    "\n",
    "\n",
    "```javascript\n",
    "let edad = 19;\n",
    "console.log(`El alumno es: ${edad < 18 ? 'menor' : 'mayor'}`);\n",
    "```\n",
    "\n",
    "- También se pueden hacer una funciones especiales llamandas `tagged template literals` que explicamos en el capítulo del DOM. \n",
    "\n",
    "Lectura recomendada:\n",
    "* https://www.digitalocean.com/community/tutorials/understanding-template-literals-in-javascript"
   ]
  }
 ],
 "metadata": {
  "kernelspec": {
   "display_name": "Deno",
   "language": "typescript",
   "name": "deno"
  },
  "language_info": {
   "codemirror_mode": "typescript",
   "file_extension": ".ts",
   "mimetype": "text/x.typescript",
   "name": "typescript",
   "nbconvert_exporter": "script",
   "pygments_lexer": "typescript",
   "version": "5.4.5"
  }
 },
 "nbformat": 4,
 "nbformat_minor": 5
}
