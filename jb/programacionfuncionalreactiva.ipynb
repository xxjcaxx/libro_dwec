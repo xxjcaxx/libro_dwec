{
 "cells": [
  {
   "cell_type": "markdown",
   "metadata": {},
   "source": [
    "## Programación Funcional, Asíncrona y Reactiva en JavaScript\n",
    "\n",
    "La programación funcional es un paradigma de programación que ha ganado popularidad en los últimos años, especialmente con la adopción de JavaScript en la industria. Este enfoque de programación se centra en la evaluación declarativa, el uso de funciones puras y la inmutabilidad, entre otros principios. JavaScript, aunque es un lenguaje multiparadigma, ha incorporado muchas características que permiten programar de manera funcional.\n",
    "\n",
    "La programación funcional se distingue por las siguientes características:\n",
    "\n",
    "- **Evaluación declarativa vs. imperativa**: En lugar de describir cómo hacer algo paso a paso (imperativa), se describe qué hacer (declarativa).\n",
    "- **Funciones puras**: Funciones que no tienen efectos secundarios y siempre producen el mismo resultado dado el mismo conjunto de argumentos.\n",
    "- **Inmutabilidad**: Evitar que una parte del programa modifique datos de forma inconsistente.\n",
    "- **Sin efectos secundarios (side effects)**: Las funciones no deben alterar el estado del programa.\n",
    "\n",
    "Es un paradigma, una manera de pensar y escribir código que busca reducir la programación imperativa y la programación orientada a objetos (POO).\n",
    "\n",
    "### Inmutabilidad\n",
    "\n",
    "La inmutabilidad es un principio clave en la programación funcional que implica que los datos no pueden ser modificados una vez creados. Esto ayuda a evitar errores y a mantener el código más predecible.\n",
    "\n",
    "#### Ejemplo de Mutación\n"
   ]
  },
  {
   "cell_type": "code",
   "execution_count": 14,
   "metadata": {},
   "outputs": [
    {
     "name": "stdout",
     "output_type": "stream",
     "text": [
      "[ 1, 2, 3, 10000 ]\n"
     ]
    }
   ],
   "source": [
    "(()=>{\n",
    "let foo = [1, 2, 3];\n",
    "let bar = foo;\n",
    "bar.push(10000);\n",
    "\n",
    "console.log(foo); \n",
    "// Salida: [1, 2, 3, 10000]\n",
    "})();"
   ]
  },
  {
   "cell_type": "markdown",
   "metadata": {},
   "source": [
    "\n",
    "En este ejemplo, modificar el array `bar` también modifica `foo` porque ambos referencian el mismo array en memoria.\n",
    "\n",
    "##### Evitar Mutaciones\n",
    "Podemos usar métodos como `slice` para evitar mutaciones:\n"
   ]
  },
  {
   "cell_type": "code",
   "execution_count": 15,
   "metadata": {},
   "outputs": [
    {
     "name": "stdout",
     "output_type": "stream",
     "text": [
      "[ 1, 2, 3 ]\n"
     ]
    }
   ],
   "source": [
    "(()=>{\n",
    "const xs = [1, 2, 3, 4, 5];\n",
    "// pura\n",
    "const newArr = xs.slice(0, 3); \n",
    "console.log(newArr); \n",
    "// Salida: [1, 2, 3]\n",
    "})();"
   ]
  },
  {
   "cell_type": "markdown",
   "metadata": {},
   "source": [
    "\n",
    "\n",
    "### Purificación de Funciones\n",
    "\n",
    "En la programación funcional, todas las funciones deben cumplir ciertos requisitos:\n",
    "\n",
    "- **Pocos argumentos**: Idealmente, una función debe tener pocos argumentos.\n",
    "- **Una sola tarea**: Deben hacer solo una cosa.\n",
    "- **Puras y deterministas**: Deben ser funciones puras, es decir, no deben tener efectos secundarios y deben producir el mismo resultado para los mismos argumentos.\n",
    "\n",
    "#### Funciones Impuras\n",
    "```javascript\n",
    "// Impura: modifica el entorno\n",
    "console.log(\"Hola\");\n",
    "\n",
    "// Impura: no es determinista\n",
    "Math.random();\n",
    "\n",
    "// Impura: modifica el array como efecto colateral\n",
    "array.splice(2, 3);\n",
    "```\n",
    "\n",
    "##### Funciones Puras\n",
    "```javascript\n",
    "// Función pura\n",
    "const add = (a, b) => a + b;\n",
    "\n",
    "// Función impura\n",
    "let minimum = 21;\n",
    "const checkAge = age => age >= minimum;\n",
    "\n",
    "// Convertida a pura\n",
    "const checkAgePure = (age, minimum = 21) => age >= minimum;\n",
    "```\n",
    "\n",
    "### Formas de Declarar Funciones\n",
    "\n",
    "Existen diversas maneras de declarar funciones en JavaScript, cada una con sus particularidades:\n",
    "\n",
    "- **Declaración de función con nombre**:\n",
    "  ```javascript\n",
    "  function suma(a, b) {\n",
    "    return a + b;\n",
    "  }\n",
    "  ```\n",
    "\n",
    "- **Declaración de función anónima**:\n",
    "  ```javascript\n",
    "  const suma = function(a, b) {\n",
    "    return a + b;\n",
    "  };\n",
    "  ```\n",
    "\n",
    "- **Función flecha**:\n",
    "  ```javascript\n",
    "  const suma = (a, b) => a + b;\n",
    "  ```\n",
    "\n",
    "- **Expresión de función con `function()`**:\n",
    "  ```javascript\n",
    "  const suma = function(a, b) {\n",
    "    return a + b;\n",
    "  };\n",
    "  ```\n",
    "\n",
    "### Funciones de Orden Superior\n",
    "\n",
    "Las funciones de orden superior son aquellas que aceptan o retornan otras funciones. En JavaScript, métodos como `map`, `filter` y `reduce` son funciones de orden superior.\n",
    "\n",
    "#### Ejemplo de `map`\n"
   ]
  },
  {
   "cell_type": "code",
   "execution_count": 16,
   "metadata": {},
   "outputs": [
    {
     "name": "stdout",
     "output_type": "stream",
     "text": [
      "[ 2, 4, 6, 8 ]\n"
     ]
    }
   ],
   "source": [
    "(()=>{\n",
    "const numeros = [1, 2, 3, 4];\n",
    "const dobles = numeros.map(num => num * 2);\n",
    "console.log(dobles);\n",
    "// Salida: [2, 4, 6, 8]\n",
    "})();"
   ]
  },
  {
   "cell_type": "markdown",
   "metadata": {},
   "source": [
    "\n",
    "\n",
    "### Currying\n",
    "\n",
    "Currificar consiste en transformar una función de múltiples argumentos en una secuencia de funciones que toman un único argumento. Esto permite reutilizar mejor el código y mantener funciones puras.\n",
    "\n",
    "#### Ejemplo de Currying\n"
   ]
  },
  {
   "cell_type": "code",
   "execution_count": 17,
   "metadata": {},
   "outputs": [
    {
     "name": "stdout",
     "output_type": "stream",
     "text": [
      "5\n"
     ]
    }
   ],
   "source": [
    "(()=>{\n",
    "const suma = (a, b) => a + b;\n",
    "\n",
    "const sumaCurried = a => b => a + b;\n",
    "\n",
    "console.log(sumaCurried(2)(3));\n",
    "// Salida: 5\n",
    "})();"
   ]
  },
  {
   "cell_type": "markdown",
   "metadata": {},
   "source": [
    "\n",
    "\n",
    "### Composición de Funciones\n",
    "\n",
    "La composición de funciones permite encadenar funciones de manera que el resultado de una función se pasa como entrada a la siguiente.\n",
    "\n"
   ]
  },
  {
   "cell_type": "code",
   "execution_count": 18,
   "metadata": {},
   "outputs": [
    {
     "name": "stdout",
     "output_type": "stream",
     "text": [
      "HELLO!\n"
     ]
    }
   ],
   "source": [
    "(()=>{\n",
    "const compose = (...fns) => x => fns.reduceRight((v, f) => f(v), x);\n",
    "\n",
    "const toUpperCase = str => str.toUpperCase();\n",
    "const exclaim = str => str + '!';\n",
    "\n",
    "const shout = compose(exclaim, toUpperCase);\n",
    "\n",
    "console.log(shout(\"hello\"));\n",
    "// Salida: \"HELLO!\"\n",
    "})();"
   ]
  },
  {
   "cell_type": "markdown",
   "metadata": {},
   "source": [
    "\n",
    "\n",
    "### Trabajar con Arrays\n",
    "\n",
    "El trabajo con arrays es fundamental en la programación funcional. Métodos como `map`, `filter`, y `reduce` son esenciales.\n",
    "\n",
    "#### Ejemplos de Métodos de Arrays\n",
    "- **Map**: \n"
   ]
  },
  {
   "cell_type": "code",
   "execution_count": 19,
   "metadata": {},
   "outputs": [
    {
     "name": "stdout",
     "output_type": "stream",
     "text": [
      "[ 2, 4, 6 ]\n"
     ]
    }
   ],
   "source": [
    "(()=>{\n",
    "  const numeros = [1, 2, 3];\n",
    "  const dobles = numeros.map(num => num * 2);\n",
    "  console.log(dobles); \n",
    "  // Salida: [2, 4, 6]\n",
    "})();"
   ]
  },
  {
   "cell_type": "markdown",
   "metadata": {},
   "source": [
    "\n",
    "\n",
    "- **Filter**:\n"
   ]
  },
  {
   "cell_type": "code",
   "execution_count": 20,
   "metadata": {},
   "outputs": [
    {
     "name": "stdout",
     "output_type": "stream",
     "text": [
      "[ 2, 4 ]\n"
     ]
    }
   ],
   "source": [
    "(()=>{\n",
    "  const numeros = [1, 2, 3, 4];\n",
    "  const pares = numeros.filter(num => num % 2 === 0);\n",
    "  console.log(pares);\n",
    "  // Salida: [2, 4]\n",
    "})();"
   ]
  },
  {
   "cell_type": "markdown",
   "metadata": {},
   "source": [
    "\n",
    "\n",
    "- **Reduce**:\n"
   ]
  },
  {
   "cell_type": "code",
   "execution_count": 21,
   "metadata": {},
   "outputs": [
    {
     "name": "stdout",
     "output_type": "stream",
     "text": [
      "10\n"
     ]
    }
   ],
   "source": [
    "(()=>{\n",
    "  const numeros = [1, 2, 3, 4];\n",
    "  const suma = numeros.reduce((acc, num) => acc + num, 0);\n",
    "  console.log(suma);\n",
    "  // Salida: 10\n",
    "})();"
   ]
  },
  {
   "cell_type": "markdown",
   "metadata": {},
   "source": []
  }
 ],
 "metadata": {
  "kernelspec": {
   "display_name": "Deno",
   "language": "typescript",
   "name": "deno"
  },
  "language_info": {
   "name": "typescript"
  }
 },
 "nbformat": 4,
 "nbformat_minor": 2
}
