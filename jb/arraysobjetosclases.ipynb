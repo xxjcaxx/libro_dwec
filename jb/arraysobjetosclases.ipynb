{
 "cells": [
  {
   "cell_type": "markdown",
   "metadata": {},
   "source": [
    "### Arrays en JavaScript\n",
    "\n",
    "Los arrays en JavaScript son una estructura de datos utilizada para almacenar múltiples valores en una sola variable. Los arrays se definen utilizando corchetes `[]` y los elementos se separan por comas. A diferencia de otros lenguajes como C o Java, no es necesario definir la longitud del array al declararlo. Además, los arrays pueden contener posiciones vacías (empty), y es posible acceder a sus elementos de manera similar a otros lenguajes, utilizando índices. Por ejemplo:\n",
    "\n",
    "```javascript\n",
    "let a = [];\n",
    "a[0] = 1;\n",
    "```\n",
    "\n",
    "Un array en JavaScript puede contener cualquier tipo de dato, incluyendo otros arrays, objetos o funciones. Esto le otorga una gran flexibilidad. Además, los arrays son objetos en JavaScript y se pueden construir usando el constructor `new`:\n",
    "\n",
    "```javascript\n",
    "var cars = new Array(\"Saab\", \"Volvo\", \"BMW\");\n",
    "```\n",
    "\n",
    "#### Métodos y Propiedades de los Arrays\n",
    "\n",
    "Los arrays en JavaScript tienen varias propiedades y métodos interesantes que facilitan su manipulación:\n",
    "\n",
    "- **length**: Devuelve el número de elementos en el array.\n",
    "- **sort()**: Ordena los elementos del array.\n",
    "- **push()**: Agrega uno o más elementos al final del array.\n",
    "- **pop()**: Elimina y retorna el último elemento del array.\n",
    "\n",
    "Ejemplo de uso:\n",
    "\n"
   ]
  },
  {
   "cell_type": "code",
   "execution_count": 2,
   "metadata": {},
   "outputs": [
    {
     "name": "stdout",
     "output_type": "stream",
     "text": [
      "3\n"
     ]
    },
    {
     "data": {
      "text/plain": [
       "[ \u001b[33m1\u001b[39m, \u001b[33m2\u001b[39m, \u001b[33m3\u001b[39m ]"
      ]
     },
     "execution_count": 2,
     "metadata": {},
     "output_type": "execute_result"
    }
   ],
   "source": [
    "\n",
    "let a = [1, 2, 3];\n",
    "console.log(a.length); // 3\n",
    "a.sort();\n",
    "a.push(4); // [1, 2, 3, 4]\n",
    "a.pop(); // [1, 2, 3]\n",
    "a\n"
   ]
  },
  {
   "cell_type": "markdown",
   "metadata": {},
   "source": [
    "#### Recorrer Arrays\n",
    "\n",
    "Para iterar sobre los elementos de un array, JavaScript ofrece varias opciones:\n",
    "\n",
    "- **for loop**:\n",
    "\n",
    "```javascript\n",
    "for (let i = 0; i < a.length; i++) {\n",
    "    console.log(a[i]);\n",
    "}\n",
    "```\n",
    "\n",
    "- **for...of loop**:\n",
    "\n",
    "```javascript\n",
    "for (let i of a) {\n",
    "    console.log(i);\n",
    "}\n",
    "```\n",
    "\n",
    "- **forEach**:\n",
    "\n",
    "```javascript\n",
    "a.forEach(i => console.log(i));\n",
    "```\n",
    "\n",
    "- **map** (aunque en este caso, `forEach` es más adecuado para solo imprimir):\n",
    "\n",
    "```javascript\n",
    "a.map(i => console.log(i));\n",
    "```\n",
    "\n",
    "La mejor manera de recorrer los arrays depende de la necesidad. En el primer caso, la sintaxis típica de C, creamos una variable de control del bucle que puede ser útil dentro del bucle. Si es necesaria esa variable o queremos alterar las iteraciones en función de esa variable, puede ser la mejor opción. El caso de **for..of** es uno de los más sencillos, ya que no necesitamos la variable de control y sigue siendo ámbito de bloque. Esta sería la mejor opción en casi todos los casos en los que necesitamos recorrer un array completamente y en órden. **forEach** es como el anterior, pero en este caso creamos una función de callback. Una ventaja es que esta función también acepta el índice y el array. Puede ser útil en programación funcional cuando tenemos una función que ejecutar para cada elemento. El problema es que tiene ámbito de función y podemos tener problemas con el **this** si no usamos correctamente las funciones flecha. El **map** solo se debería usar para retornar una copia modificada del array, como veremos más adelante.     \n",
    "\n",
    "#### Búsqueda en Arrays\n",
    "\n",
    "JavaScript proporciona métodos útiles para buscar elementos en un array:\n",
    "\n",
    "- **includes()**: Comprueba si un array contiene un determinado elemento.\n",
    "- **find()**: Retorna el primer elemento que cumple con la condición dada.\n",
    "- **findIndex()**: Devuelve el índice del primer elemento que cumple con la condición dada.\n",
    "- **indexOf()**: Devuelve el primer índice en el que se puede encontrar un elemento.\n",
    "- **filter()**: Crea un nuevo array con todos los elementos que cumplen la condición.\n",
    "\n",
    "Ejemplo:\n",
    "\n"
   ]
  },
  {
   "cell_type": "code",
   "execution_count": 3,
   "metadata": {},
   "outputs": [
    {
     "name": "stdout",
     "output_type": "stream",
     "text": [
      "[ 80 ]\n"
     ]
    }
   ],
   "source": [
    "\n",
    "const alligator = [\"thick scales\", 80, \"4 foot tail\", \"rounded snout\"];\n",
    "\n",
    "console.log(alligator.includes(\"thick scales\")); // true\n",
    "console.log(alligator.find(el => el.length < 12)); // '4 foot tail'\n",
    "console.log(alligator.find((el, idx) => typeof el === \"string\" && idx === 2)); // '4 foot tail'\n",
    "console.log(alligator.indexOf(\"rounded snout\")); // 3\n",
    "console.log(alligator.findIndex(el => el == \"rounded snout\")); // 3\n",
    "console.log(alligator.filter(el => el === 80)); // [80]\n"
   ]
  },
  {
   "cell_type": "markdown",
   "metadata": {},
   "source": [
    "\n",
    "\n",
    "#### Otras Operaciones en Arrays\n",
    "\n",
    "Existen varios métodos adicionales para manipular arrays en JavaScript:\n",
    "\n",
    "- **splice()**: Permite eliminar elementos o agregar nuevos a partir de una posición específica (modifica el array).\n",
    "- **slice()**: Extrae una porción del array sin modificarlo, retorna un nuevo array.\n",
    "- **flat()**: Convierte un array multidimensional en un array de menos dimensiones.\n",
    "- **flatMap()**: Aplica una función a cada elemento y aplana una dimensión del array.\n",
    "- **join()**: Transforma un array en una cadena.\n",
    "- **split()**: Transforma una cadena en un array.\n",
    "- **fill()**: Llena un array con un valor específico.\n",
    "\n",
    "Ejemplo de uso:\n",
    "\n"
   ]
  },
  {
   "cell_type": "code",
   "execution_count": 4,
   "metadata": {},
   "outputs": [
    {
     "name": "stdout",
     "output_type": "stream",
     "text": [
      "[ 1, 0, 0, <1 empty item> ]\n"
     ]
    }
   ],
   "source": [
    "\n",
    "let array = [1, 2, 3, 4, 5];\n",
    "\n",
    "// splice\n",
    "array.splice(2, 1); // Elimina un elemento desde la posición 2\n",
    "console.log(array); // [1, 2, 4, 5]\n",
    "\n",
    "// slice\n",
    "let newArray = array.slice(1, 3);\n",
    "console.log(newArray); // [2, 4]\n",
    "\n",
    "// flat\n",
    "let multiArray = [1, [2, [3, 4]]];\n",
    "console.log(multiArray.flat(2)); // [1, 2, 3, 4]\n",
    "\n",
    "// flatMap\n",
    "let mapArray = [1, 2, 3];\n",
    "console.log(mapArray.flatMap(x => [x, x * 2])); // [1, 2, 2, 4, 3, 6]\n",
    "\n",
    "// join\n",
    "console.log(array.join('-')); // \"1-2-4-5\"\n",
    "\n",
    "// split\n",
    "let str = \"Hello World\";\n",
    "let strArray = str.split(' ');\n",
    "console.log(strArray); // [\"Hello\", \"World\"]\n",
    "\n",
    "// fill\n",
    "array.fill(0, 1, 3); // Llena con 0 desde la posición 1 hasta la 3\n",
    "console.log(array); // [1, 0, 0, 5]\n",
    "\n",
    "// delete\n",
    "delete array[3]; // Deja un empty\n",
    "console.log(array); // [1, 0, 0, empty]\n"
   ]
  }
 ],
 "metadata": {
  "kernelspec": {
   "display_name": "Deno",
   "language": "typescript",
   "name": "deno"
  },
  "language_info": {
   "codemirror_mode": "typescript",
   "file_extension": ".ts",
   "mimetype": "text/x.typescript",
   "name": "typescript",
   "nbconvert_exporter": "script",
   "pygments_lexer": "typescript",
   "version": "5.4.5"
  }
 },
 "nbformat": 4,
 "nbformat_minor": 2
}
