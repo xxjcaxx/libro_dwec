{
 "cells": [
  {
   "attachments": {},
   "cell_type": "markdown",
   "id": "c5e018f2",
   "metadata": {},
   "source": [
    "# Prerrequisitos de Javascript\n",
    "\n",
    "\n",
    "El objetivo de este libro es enseñar a programar para el cliente web. Se presupone que ya se conocen los rudimentos básicos de la programación y los algoritmos. Puesto que el libro está situado en el módulo de DWEC de segundo de DAW, no es necesario enseñar conceptos como Programación orientada a objetos, HTML, JSON, HTTP…\n",
    "No obstante, javascript como lenguaje tiene sus particularidades y son las que vamos a destacar en estos primeros capítulos.\n",
    "\n",
    "\n",
    "## Integrar JS en HTML\n",
    "\n",
    "En primer lugar, veamos cómo integrar Javascript en el HTML para que se ejecute en el navegador:\n",
    "\n",
    "\n",
    "```html\n",
    "     <!-- Integración de JavaScript directamente en el HTML -->\n",
    "    <script type=\"text/javascript\">\n",
    "        // Este es un bloque de código JavaScript embebido directamente en el documento HTML.\n",
    "        // Aquí puedes escribir cualquier código JavaScript que necesites.\n",
    "        console.log(\"Hola, este es un mensaje desde JavaScript embebido.\");\n",
    "    </script>\n",
    "\n",
    "    <!-- Integración de un archivo JavaScript externo -->\n",
    "    <script type=\"text/javascript\" src=\"scripts.js\"></script>\n",
    "\n",
    "    <!-- Mensaje para navegadores que no soportan JavaScript -->\n",
    "    <noscript>\n",
    "        <p>Tu navegador no soporta JavaScript o está desactivado.</p>\n",
    "    </noscript>\n",
    "\n",
    "    <!-- Comentario: Muchas veces, los desarrolladores colocan los scripts al final del documento\n",
    "         para asegurarse de que todo el contenido HTML se haya cargado antes de ejecutar el JavaScript. -->\n",
    "```\n",
    "\n",
    "## Comprobar que funciona\n",
    "\n",
    "Los navegadores modernos vienen con una consola de depuración muy avanzada que permite interactuar con el DOM, el CSS, el JS, la red, entre otras cosas. La abriremos con F12 o el botón derecho y la mantendremos abierta casi todo el tiempo. \n",
    "\n",
    "![imatge.png](attachment:imatge.png)\n",
    "\n",
    "Podemos ejecutar algo como:"
   ]
  },
  {
   "cell_type": "code",
   "execution_count": 2,
   "id": "f445215a",
   "metadata": {},
   "outputs": [
    {
     "name": "stdout",
     "output_type": "stream",
     "text": [
      "hola mundo\n"
     ]
    }
   ],
   "source": [
    "console.log(\"hola mundo\")"
   ]
  },
  {
   "cell_type": "markdown",
   "id": "e218418e",
   "metadata": {},
   "source": [
    "## Ocultar el código JavaScript\n",
    "\n",
    "\n",
    "**No es posible ocultar completamente el código JavaScript.** El código que se ejecuta en el lado del cliente (es decir, en el navegador web) siempre puede ser visto por los usuarios, ya que se descarga junto con el resto del contenido de la página web.\n",
    "\n",
    "Aunque no se puede ocultar el código, sí se pueden utilizar técnicas para **ofuscar** y **comprimir** el código JavaScript. Estas técnicas dificultan la lectura y comprensión del código por parte de personas, aunque no lo hacen completamente inaccesible.\n",
    "\n",
    "Tal vez, por eso, muchos proyectos de JS son directamente publicados como **Open Source**\n",
    "\n",
    "El siguiente código es un ejemplo:"
   ]
  },
  {
   "cell_type": "code",
   "execution_count": 3,
   "id": "bf8f28ca",
   "metadata": {},
   "outputs": [
    {
     "name": "stdout",
     "output_type": "stream",
     "text": [
      "Hello World!\n"
     ]
    }
   ],
   "source": [
    "var _0x47a0=['log','Hello\\x20World!']; (function (_0x558f55,_0x47a08a){var _0x257f99= function (_0x256ed6) \n",
    "{while(--_0x256ed6) {_0x558f55['push'] (_0x558f55['shift']()); }};_0x257f99(++_0x47a08a);}\n",
    "(_0x47a0,0x1cb));var _0x257f =function(_0x558f55,_0x47a08a){_0x558f55=_0x558f55-0x0;\n",
    "var _0x257f99=_0x47a0[_0x558f55];return _0x257f99;};function hi(){console[_0x257f('0x1')](_0x257f('0x0'));}hi();\n"
   ]
  },
  {
   "cell_type": "markdown",
   "id": "39f361be",
   "metadata": {},
   "source": [
    "## Historia y evolución de JavaScript y ECMAScript\n",
    "\n",
    "### Orígenes de JavaScript\n",
    "\n",
    "1. **Mocha**:\n",
    "   - JavaScript se inició bajo el nombre de **Mocha**. Fue desarrollado por Brendan Eich en Netscape Communications en 1995. Mocha fue el nombre original durante las primeras etapas de desarrollo.\n",
    "\n",
    "2. **LiveScript**:\n",
    "   - Antes de ser conocido como JavaScript, el lenguaje fue renombrado a **LiveScript**. Este nombre se utilizó durante un breve período en 1995.\n",
    "\n",
    "3. **JavaScript**:\n",
    "   - Finalmente, en diciembre de 1995, el lenguaje fue renombrado a **JavaScript**. Este cambio de nombre se debió a una estrategia de marketing para asociarlo con el popular lenguaje de programación Java, a pesar de que JavaScript y Java son muy diferentes en su diseño y propósito.\n",
    "\n",
    "### Estándar ECMAScript\n",
    "\n",
    "A partir de 1997, el **World Wide Web Consortium (W3C)** y **ECMA International** comenzaron a definir las especificaciones del lenguaje JavaScript bajo el nombre de **ECMAScript**. Este estándar asegura la interoperabilidad y la compatibilidad del lenguaje en distintos navegadores y plataformas.\n",
    "\n",
    "#### Sintaxis y Influencias\n",
    "\n",
    "La sintaxis de JavaScript se inspira en lenguajes como **C** y **Java**. Sin embargo, JavaScript es fundamentalmente diferente en su propósito y funcionalidad:\n",
    "- **C**: Influye en la estructura básica y la sintaxis de control (bucles, condiciones).\n",
    "- **Java**: Inspira la sintaxis de los objetos y la programación orientada a objetos.\n",
    "\n",
    "### Versiones Importantes de ECMAScript\n",
    "\n",
    "1. **ECMAScript 5th Edition (ES5)**:\n",
    "   - Publicada en diciembre de 2009.\n",
    "   - Esta versión es **soportada por todos los navegadores actuales**.\n",
    "   - Introdujo características clave como el \"strict mode\", métodos de array adicionales (como `forEach`, `map`, `filter`), y mejoras en el manejo de objetos.\n",
    "\n",
    "2. **ECMAScript 2015 (ES6)**:\n",
    "   - También conocida como **ES6**, fue publicada en junio de 2015.\n",
    "   - Es una de las actualizaciones más importantes del lenguaje, incorporando muchas características nuevas que facilitan y modernizan el desarrollo en JavaScript:\n",
    "     - **Clases**: Simplifican la sintaxis para la programación orientada a objetos.\n",
    "     - **Módulos**: Permiten la importación y exportación de bloques de código, mejorando la modularidad y reutilización.\n",
    "     - **Iteradores y Generadores**: Facilitan el manejo de datos iterables.\n",
    "     - **Funciones Flecha**: Proveen una sintaxis más corta para las funciones y cambian el comportamiento del `this`.\n",
    "     - **Declaraciones `let` y `const`**: Introducen alcance de bloque y constantes.\n",
    "     - **Promesas**: Manejan la asincronía de manera más efectiva y legible.\n",
    "\n",
    "3. **ECMAScript 2024**:\n",
    "   - Es la **última especificación** y trae consigo las actualizaciones más recientes.\n",
    "\n",
    "En este libro se introducen instrucciones y conceptos posteriores al ES6, el cual debería ser el estándard mínimo con el que trabajaremos. Hay código ES6 que no se puede ejecutar ni transpilar fácilmente a ES5. \n",
    "\n",
    "\n",
    "## Comentarios"
   ]
  },
  {
   "cell_type": "code",
   "execution_count": 9,
   "id": "2ae5ccff",
   "metadata": {},
   "outputs": [],
   "source": [
    "// Comentarios de una línea\n",
    "\n",
    "/*\n",
    "*\n",
    "Comentarios de varias líneas\n",
    "*\n",
    "*/"
   ]
  },
  {
   "cell_type": "markdown",
   "id": "0d736b01",
   "metadata": {},
   "source": [
    "## Variables\n",
    "\n",
    "```javascript\n",
    "// Declaración de Variables\n",
    "\n",
    "// a = 1;\n",
    "// No recomendable. (Prohibido en clase)\n",
    "// Son globales, se declaren donde se declaren.\n",
    "a = 1;\n",
    "\n",
    "// var a = 1;\n",
    "// Única manera antes de ES6. Ya no hay motivo para utilizarlo. (Prohibido en clase)\n",
    "var a = 1;\n",
    "\n",
    "// let a = 1;\n",
    "// Soluciona problemas de scope de var.\n",
    "// No se puede declarar dos veces.\n",
    "let a = 1;\n",
    "\n",
    "// const a = 1;\n",
    "// No se puede reasignar el valor.\n",
    "const a = 1;\n",
    "\n",
    "// var a;\n",
    "// a = 1;\n",
    "// Declaración con valor ‘undefined’.\n",
    "// Asignación del valor.\n",
    "var a;\n",
    "a = 1;\n",
    "\n",
    "// window.a = 1;\n",
    "// Equivalente a variable global, pero el código queda más claro.\n",
    "window.a = 1;\n",
    "```\n",
    "\n",
    "> Con const no se puede reasignar, pero si es un objeto o array, se puede cambiar su contenido. "
   ]
  },
  {
   "cell_type": "markdown",
   "id": "8ad808c4",
   "metadata": {},
   "source": [
    "## Tipos de Variables\n",
    "\n",
    "Javascript es un lenguaje no tipado. \n",
    "\n",
    "### No Tipado\n",
    "\n",
    "No tipado significa que no es necesario declarar el tipo de datos de una variable al definirla. Esto es diferente a lenguajes como Java o C#, donde se debe especificar si una variable es un entero, un string, etc.\n",
    "\n",
    "### En realidad es Dinámicamente Tipado\n",
    "\n",
    "Aunque Javascript no requiere que se declare el tipo de datos, una vez que una variable es asignada, adquiere un tipo. Además, las variables en Javascript pueden cambiar de tipo a lo largo de la ejecución del programa, lo que se conoce como \"tipado dinámico\".\n",
    "\n",
    "```javascript\n",
    "let x = 1;  // x es un número\n",
    "x = '1';    // ahora x es un string\n",
    "```\n",
    "\n",
    "### Tipado Débil\n",
    "\n",
    "Javascript es un lenguaje débilmente tipado, lo que significa que permite operaciones entre diferentes tipos de datos, y a menudo convierte automáticamente los tipos según sea necesario. Estas conversiones automáticas pueden llevar a resultados inesperados, pero también hacen que el lenguaje sea más flexible.\n",
    "\n",
    "Por ejemplo:\n",
    "\n",
    "```javascript\n",
    "console.log(\"1234\" * 1);  // 1234, string convertido a número\n",
    "console.log(2 / \"bla bla\");  // NaN, \"bla bla\" no se puede convertir a número\n",
    "```\n",
    "\n",
    "https://jsfiddle.net/xxjcaxx/f60qayg9/6/"
   ]
  },
  {
   "cell_type": "markdown",
   "id": "1b2d31ea",
   "metadata": {},
   "source": [
    "## Tipos Soportados\n",
    "\n",
    "Estos son los tipos soportados, como se puede ver, hay menos cantidad que en otros lenguajes sin perder la capacidad de representación de la información. El caso de las variables numéricas es interesante porque internamente usa coma flotante de doble precisión para cualquier número. \n",
    "\n",
    "| Tipo       | Ejemplo   | Descripción                                |\n",
    "|------------|-----------|--------------------------------------------|\n",
    "| Cadena     | \"Hola Mundo\" | Caracteres dentro de comillas            |\n",
    "| Número     | 9.34      | Números con punto para decimales           |\n",
    "| Boolean    | true      | true o false                               |\n",
    "| Null       | null      | Sin valor                                  |\n",
    "| Function   |           | Una función es referenciable como una variable |\n",
    "| Object     |           | Objetos como arrays o otros                |\n",
    "\n",
    "\n",
    "### typeOf\n",
    "\n",
    "Si queremos saber de qué tipo es una variable, podemos preguntar con ***typeOf():***\n"
   ]
  },
  {
   "cell_type": "code",
   "execution_count": 11,
   "id": "2107f9ae",
   "metadata": {},
   "outputs": [
    {
     "name": "stdout",
     "output_type": "stream",
     "text": [
      "string\n",
      "number\n",
      "number\n",
      "number\n",
      "number\n",
      "number\n",
      "number\n",
      "boolean\n",
      "object\n",
      "object\n"
     ]
    }
   ],
   "source": [
    "let array_mix = [\n",
    " \"abcdef\", 2 , 2.1 , 2.9e3 , 2e-3 ,\n",
    " 0o234 , 0x23AF , true , [1,2,3] , {'a': 1, 'b': 2}\n",
    "];\n",
    "for (let i=0;i<array_mix.length;i++) {\n",
    " console.log(typeof(array_mix[i]));\n",
    "}"
   ]
  },
  {
   "cell_type": "markdown",
   "id": "b5ea1916",
   "metadata": {},
   "source": [
    "## Conversiones\n",
    "\n",
    "En javascript las conversiones de tipos no siempre son necesarias, ya que existe un concepto llamado ***Type coercion*** que fuerza a una conversión automática cuando se usan distintos tipos. \n",
    "\n",
    "> Puede ser útil, pero es una mala práctica usar continuamente la conversión forzada. Es mejor tener claro el tipo de datos que estamos usando. Para evitar los posibles problemas se inventó TypeScript. \n",
    "\n",
    "### Convertir cadenas a números usando parseInt(), parseFloat() o el operador \"+\"\n",
    "```javascript\n",
    "let cadenaNumerica = \"1234\";\n",
    "let numero1 = parseInt(cadenaNumerica); // convierte la cadena a un número entero\n",
    "let numero2 = parseFloat(cadenaNumerica); // convierte la cadena a un número de punto flotante\n",
    "let numero3 = +\"1234\"; // convierte la cadena a un número utilizando el operador \"+\"\n",
    "```\n",
    "### Convertir números a cadenas concatenándolos con una cadena vacía \"\"\n",
    "```javascript\n",
    "let numero = 3600;\n",
    "let cadenaNumero = \"\" + numero; // convierte el número a una cadena\n",
    "```\n",
    "### Obtener la longitud de una cadena o array utilizando .length\n",
    "```javascript\n",
    "let cadena = \"\" + 3600;\n",
    "let longitudCadena = cadena.length; // longitud de la cadena (en este caso, 4)\n",
    "```\n",
    "### Convertir cualquier tipo a booleano (Truthy y Falsy)\n",
    "```javascript\n",
    "// Valores Falsy: false, 0, \"\", null, undefined, NaN\n",
    "// Valores Truthy: cualquier valor que no sea Falsy\n",
    "let valorFalsy = 0;\n",
    "let valorTruthy = \"Hola\";\n",
    "let booleanoFalsy = Boolean(valorFalsy); // convierte el valor a booleano (en este caso, false)\n",
    "let booleanoTruthy = Boolean(valorTruthy); // convierte el valor a booleano (en este caso, true)\n",
    "```"
   ]
  },
  {
   "cell_type": "code",
   "execution_count": null,
   "id": "e90b16fb",
   "metadata": {},
   "outputs": [],
   "source": []
  }
 ],
 "metadata": {
  "kernelspec": {
   "display_name": "Deno",
   "language": "typescript",
   "name": "deno"
  },
  "language_info": {
   "codemirror_mode": "typescript",
   "file_extension": ".ts",
   "mimetype": "text/x.typescript",
   "name": "typescript",
   "nbconvert_exporter": "script",
   "pygments_lexer": "typescript",
   "version": "5.4.5"
  }
 },
 "nbformat": 4,
 "nbformat_minor": 5
}
